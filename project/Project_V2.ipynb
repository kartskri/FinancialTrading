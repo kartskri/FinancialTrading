{
 "cells": [
  {
   "cell_type": "code",
   "execution_count": 1,
   "id": "252c574e",
   "metadata": {
    "pycharm": {
     "name": "#%%\n"
    }
   },
   "outputs": [],
   "source": [
    "import pandas as pd\n",
    "import bt\n",
    "import matplotlib\n",
    "import matplotlib.pyplot as plt\n",
    "import seaborn as sns\n",
    "import numpy as np\n",
    "import talib"
   ]
  },
  {
   "cell_type": "code",
   "execution_count": 2,
   "id": "f5f030cf",
   "metadata": {
    "pycharm": {
     "name": "#%%\n"
    }
   },
   "outputs": [],
   "source": [
    "import warnings\n",
    "warnings.filterwarnings('ignore')\n",
    "%matplotlib inline"
   ]
  },
  {
   "cell_type": "code",
   "execution_count": 3,
   "id": "44837057",
   "metadata": {
    "pycharm": {
     "name": "#%%\n"
    }
   },
   "outputs": [],
   "source": [
    "def header(heading):\n",
    "    print(heading)\n",
    "def divider():\n",
    "    print(\"--------------\")"
   ]
  },
  {
   "cell_type": "code",
   "execution_count": 4,
   "id": "1e651bc0",
   "metadata": {
    "pycharm": {
     "name": "#%%\n"
    }
   },
   "outputs": [],
   "source": [
    "country_code = 'USA'"
   ]
  },
  {
   "cell_type": "markdown",
   "id": "f57757d0",
   "metadata": {
    "pycharm": {
     "name": "#%% md\n"
    }
   },
   "source": [
    "## Alternate Dataset - Inflation Dataset\n",
    "Data Downloaded from \"https://data.worldbank.org/indicator/FR.INR.RINR?locations=US\" \n",
    "<br/>Loaded into a pandas dataset & Visualize the Inflation of United States over the years"
   ]
  },
  {
   "cell_type": "code",
   "execution_count": 5,
   "id": "1014c958",
   "metadata": {
    "pycharm": {
     "name": "#%%\n"
    }
   },
   "outputs": [],
   "source": [
    "# Inflation Data for all countries\n",
    "raw_inflation_data = pd.read_excel('./data/country_inflation_data.xls', skiprows=3)\n",
    "raw_inflation_data.drop(columns=['Country Name', 'Indicator Name', 'Indicator Code'], inplace=True)"
   ]
  },
  {
   "cell_type": "markdown",
   "id": "a98daa55",
   "metadata": {
    "pycharm": {
     "name": "#%% md\n"
    }
   },
   "source": [
    "### Santize the data"
   ]
  },
  {
   "cell_type": "code",
   "execution_count": 6,
   "id": "ef150d9f",
   "metadata": {
    "pycharm": {
     "name": "#%%\n"
    }
   },
   "outputs": [
    {
     "data": {
      "text/html": [
       "<div>\n",
       "<style scoped>\n",
       "    .dataframe tbody tr th:only-of-type {\n",
       "        vertical-align: middle;\n",
       "    }\n",
       "\n",
       "    .dataframe tbody tr th {\n",
       "        vertical-align: top;\n",
       "    }\n",
       "\n",
       "    .dataframe thead th {\n",
       "        text-align: right;\n",
       "    }\n",
       "</style>\n",
       "<table border=\"1\" class=\"dataframe\">\n",
       "  <thead>\n",
       "    <tr style=\"text-align: right;\">\n",
       "      <th></th>\n",
       "      <th>Year</th>\n",
       "      <th>Inflation</th>\n",
       "    </tr>\n",
       "    <tr>\n",
       "      <th>Country Code</th>\n",
       "      <th></th>\n",
       "      <th></th>\n",
       "    </tr>\n",
       "  </thead>\n",
       "  <tbody>\n",
       "    <tr>\n",
       "      <th>AFE</th>\n",
       "      <td>1980</td>\n",
       "      <td>15.066512</td>\n",
       "    </tr>\n",
       "    <tr>\n",
       "      <th>ARB</th>\n",
       "      <td>1980</td>\n",
       "      <td>9.626057</td>\n",
       "    </tr>\n",
       "    <tr>\n",
       "      <th>AUS</th>\n",
       "      <td>1980</td>\n",
       "      <td>10.135841</td>\n",
       "    </tr>\n",
       "    <tr>\n",
       "      <th>AUT</th>\n",
       "      <td>1980</td>\n",
       "      <td>6.328325</td>\n",
       "    </tr>\n",
       "    <tr>\n",
       "      <th>BDI</th>\n",
       "      <td>1980</td>\n",
       "      <td>2.498520</td>\n",
       "    </tr>\n",
       "  </tbody>\n",
       "</table>\n",
       "</div>"
      ],
      "text/plain": [
       "              Year  Inflation\n",
       "Country Code                 \n",
       "AFE           1980  15.066512\n",
       "ARB           1980   9.626057\n",
       "AUS           1980  10.135841\n",
       "AUT           1980   6.328325\n",
       "BDI           1980   2.498520"
      ]
     },
     "execution_count": 6,
     "metadata": {},
     "output_type": "execute_result"
    }
   ],
   "source": [
    "# Structure the Data so that it can be interpreted easily\n",
    "df_inflation_data = pd.melt(raw_inflation_data, id_vars=['Country Code'], var_name=\"Year\", value_name=\"Inflation\")\n",
    "df_inflation_data.index = df_inflation_data['Country Code']\n",
    "df_inflation_data['Year'] = df_inflation_data['Year'].astype('int')\n",
    "df_inflation_data = df_inflation_data[df_inflation_data['Year'] > 1979]\n",
    "df_inflation_data.drop(columns=['Country Code'], inplace=True)\n",
    "df_inflation_data.dropna(inplace=True)\n",
    "df_inflation_data.head(5)"
   ]
  },
  {
   "cell_type": "markdown",
   "id": "1fdd248f",
   "metadata": {
    "pycharm": {
     "name": "#%% md\n"
    }
   },
   "source": [
    "### Plot of US Inflation Over the Years"
   ]
  },
  {
   "cell_type": "code",
   "execution_count": 7,
   "id": "fccbb26f",
   "metadata": {
    "pycharm": {
     "name": "#%%\n"
    }
   },
   "outputs": [
    {
     "data": {
      "image/png": "[encoded data removed]",
      "text/plain": [
       "<Figure size 1080x432 with 1 Axes>"
      ]
     },
     "metadata": {
      "needs_background": "light"
     },
     "output_type": "display_data"
    }
   ],
   "source": [
    "plt.figure(figsize=(15,6))\n",
    "usa_inflation_data = df_inflation_data.loc[country_code][['Year','Inflation']]\n",
    "plt.title(\"USA Inflation over the years\")\n",
    "plt.xlabel('Years')\n",
    "plt.ylabel('Inflation Percentages')\n",
    "plt.scatter(data=usa_inflation_data, x='Year', y='Inflation', color='blue', alpha=0.6)\n",
    "plt.show()\n"
   ]
  },
  {
   "cell_type": "markdown",
   "id": "30acf6d2",
   "metadata": {
    "pycharm": {
     "name": "#%% md\n"
    }
   },
   "source": [
    "## Interest Rates Dataset\n",
    "How has the Federal Reserve responded to the Inflationary Pressures?<br/>\n",
    "It can come evident from the interest rate dataset.<br/>\n",
    "Loading the interest rate database and visually Ploting them<br/>\n",
    "Data Downloaded from https://data.worldbank.org/indicator/FR.INR.RINR?locations=US\n"
   ]
  },
  {
   "cell_type": "code",
   "execution_count": 8,
   "id": "0b3a4378",
   "metadata": {
    "pycharm": {
     "name": "#%%\n"
    }
   },
   "outputs": [],
   "source": [
    "# Inflation Data for all countries\n",
    "raw_interest_data = pd.read_excel('./data/country_interest_rates.xls', skiprows=3)\n",
    "raw_interest_data.drop(columns=['Country Name', 'Indicator Name', 'Indicator Code'], inplace=True)"
   ]
  },
  {
   "cell_type": "markdown",
   "id": "0e177423",
   "metadata": {
    "pycharm": {
     "name": "#%% md\n"
    }
   },
   "source": [
    "### Santize the data"
   ]
  },
  {
   "cell_type": "code",
   "execution_count": 9,
   "id": "1131a569",
   "metadata": {
    "pycharm": {
     "name": "#%%\n"
    }
   },
   "outputs": [
    {
     "data": {
      "text/html": [
       "<div>\n",
       "<style scoped>\n",
       "    .dataframe tbody tr th:only-of-type {\n",
       "        vertical-align: middle;\n",
       "    }\n",
       "\n",
       "    .dataframe tbody tr th {\n",
       "        vertical-align: top;\n",
       "    }\n",
       "\n",
       "    .dataframe thead th {\n",
       "        text-align: right;\n",
       "    }\n",
       "</style>\n",
       "<table border=\"1\" class=\"dataframe\">\n",
       "  <thead>\n",
       "    <tr style=\"text-align: right;\">\n",
       "      <th></th>\n",
       "      <th>Year</th>\n",
       "      <th>InterestRates</th>\n",
       "    </tr>\n",
       "    <tr>\n",
       "      <th>Country Code</th>\n",
       "      <th></th>\n",
       "      <th></th>\n",
       "    </tr>\n",
       "  </thead>\n",
       "  <tbody>\n",
       "    <tr>\n",
       "      <th>VUT</th>\n",
       "      <td>2020</td>\n",
       "      <td>0.277822</td>\n",
       "    </tr>\n",
       "    <tr>\n",
       "      <th>WSM</th>\n",
       "      <td>2020</td>\n",
       "      <td>8.471778</td>\n",
       "    </tr>\n",
       "    <tr>\n",
       "      <th>ZAF</th>\n",
       "      <td>2020</td>\n",
       "      <td>2.313127</td>\n",
       "    </tr>\n",
       "    <tr>\n",
       "      <th>ZMB</th>\n",
       "      <td>2020</td>\n",
       "      <td>-3.749081</td>\n",
       "    </tr>\n",
       "    <tr>\n",
       "      <th>ZWE</th>\n",
       "      <td>2020</td>\n",
       "      <td>-79.803157</td>\n",
       "    </tr>\n",
       "  </tbody>\n",
       "</table>\n",
       "</div>"
      ],
      "text/plain": [
       "              Year  InterestRates\n",
       "Country Code                     \n",
       "VUT           2020       0.277822\n",
       "WSM           2020       8.471778\n",
       "ZAF           2020       2.313127\n",
       "ZMB           2020      -3.749081\n",
       "ZWE           2020     -79.803157"
      ]
     },
     "execution_count": 9,
     "metadata": {},
     "output_type": "execute_result"
    }
   ],
   "source": [
    "# Structure the Data so that it can be interpreted easily\n",
    "df_interest_data = pd.melt(raw_interest_data, id_vars=['Country Code'], var_name=\"Year\", value_name=\"InterestRates\")\n",
    "df_interest_data.index = df_interest_data['Country Code']\n",
    "df_interest_data['Year'] = df_interest_data['Year'].astype('int')\n",
    "df_interest_data = df_interest_data[df_interest_data['Year'] > 1979]\n",
    "df_interest_data.drop(columns=['Country Code'], inplace=True)\n",
    "df_interest_data.dropna(inplace=True)\n",
    "df_interest_data.tail(5)"
   ]
  },
  {
   "cell_type": "code",
   "execution_count": 10,
   "id": "bd239947",
   "metadata": {
    "pycharm": {
     "name": "#%%\n"
    }
   },
   "outputs": [
    {
     "data": {
      "image/png": "[encoded data removed]",
      "text/plain": [
       "<Figure size 1080x432 with 1 Axes>"
      ]
     },
     "metadata": {
      "needs_background": "light"
     },
     "output_type": "display_data"
    }
   ],
   "source": [
    "# Inflation Data for USA\n",
    "plt.figure(figsize=(15,6))\n",
    "usa_interest_data = df_interest_data.loc[country_code][['Year','InterestRates']]\n",
    "plt.title(\"USA Interest Rates over the years\")\n",
    "plt.xlabel('Years')\n",
    "plt.ylabel('Interest Rates')\n",
    "plt.scatter(data=usa_interest_data, x='Year', y='InterestRates', color='green', alpha=0.6)\n",
    "plt.show()\n"
   ]
  },
  {
   "cell_type": "markdown",
   "id": "12216497",
   "metadata": {
    "pycharm": {
     "name": "#%% md\n"
    }
   },
   "source": [
    "### Merge Inflation and Interest Rate Datasets \n",
    "Merging interest rates and inflation data in to a single dataframe so that we can fetch the correlation"
   ]
  },
  {
   "cell_type": "code",
   "execution_count": 11,
   "id": "ccd9ed33",
   "metadata": {
    "pycharm": {
     "name": "#%%\n"
    }
   },
   "outputs": [
    {
     "data": {
      "text/html": [
       "<div>\n",
       "<style scoped>\n",
       "    .dataframe tbody tr th:only-of-type {\n",
       "        vertical-align: middle;\n",
       "    }\n",
       "\n",
       "    .dataframe tbody tr th {\n",
       "        vertical-align: top;\n",
       "    }\n",
       "\n",
       "    .dataframe thead th {\n",
       "        text-align: right;\n",
       "    }\n",
       "</style>\n",
       "<table border=\"1\" class=\"dataframe\">\n",
       "  <thead>\n",
       "    <tr style=\"text-align: right;\">\n",
       "      <th></th>\n",
       "      <th>Inflation</th>\n",
       "      <th>InterestRates</th>\n",
       "      <th>Interest_Rate_Next_Year</th>\n",
       "    </tr>\n",
       "    <tr>\n",
       "      <th>Year</th>\n",
       "      <th></th>\n",
       "      <th></th>\n",
       "      <th></th>\n",
       "    </tr>\n",
       "  </thead>\n",
       "  <tbody>\n",
       "    <tr>\n",
       "      <th>1980</th>\n",
       "      <td>13.549202</td>\n",
       "      <td>5.716390</td>\n",
       "      <td>8.594620</td>\n",
       "    </tr>\n",
       "    <tr>\n",
       "      <th>1981</th>\n",
       "      <td>10.334715</td>\n",
       "      <td>8.594620</td>\n",
       "      <td>8.177347</td>\n",
       "    </tr>\n",
       "    <tr>\n",
       "      <th>1982</th>\n",
       "      <td>6.131427</td>\n",
       "      <td>8.177347</td>\n",
       "      <td>6.618160</td>\n",
       "    </tr>\n",
       "    <tr>\n",
       "      <th>1983</th>\n",
       "      <td>3.212435</td>\n",
       "      <td>6.618160</td>\n",
       "      <td>8.141088</td>\n",
       "    </tr>\n",
       "    <tr>\n",
       "      <th>1984</th>\n",
       "      <td>4.300535</td>\n",
       "      <td>8.141088</td>\n",
       "      <td>6.563327</td>\n",
       "    </tr>\n",
       "  </tbody>\n",
       "</table>\n",
       "</div>"
      ],
      "text/plain": [
       "      Inflation  InterestRates  Interest_Rate_Next_Year\n",
       "Year                                                   \n",
       "1980  13.549202       5.716390                 8.594620\n",
       "1981  10.334715       8.594620                 8.177347\n",
       "1982   6.131427       8.177347                 6.618160\n",
       "1983   3.212435       6.618160                 8.141088\n",
       "1984   4.300535       8.141088                 6.563327"
      ]
     },
     "execution_count": 11,
     "metadata": {},
     "output_type": "execute_result"
    }
   ],
   "source": [
    "usa_inflation_interest_df = pd.merge(usa_inflation_data, usa_interest_data, on=[\"Year\"])\n",
    "usa_inflation_interest_df.index = usa_inflation_interest_df['Year']\n",
    "usa_inflation_interest_df['Interest_Rate_Next_Year'] = usa_inflation_interest_df[\"Year\"].apply(lambda x: (usa_inflation_interest_df.loc[x+1][\"InterestRates\"]) if x < 2020 else 0.0)\n",
    "usa_inflation_interest_df = usa_inflation_interest_df.drop(columns=['Year'])\n",
    "usa_inflation_interest_df['Interest_Rate_Next_Year'] = usa_inflation_interest_df['Interest_Rate_Next_Year'].astype(\"float\")\n",
    "usa_inflation_interest_df.head(5)\n"
   ]
  },
  {
   "cell_type": "code",
   "execution_count": 12,
   "id": "48048ab3",
   "metadata": {
    "pycharm": {
     "name": "#%%\n"
    }
   },
   "outputs": [
    {
     "data": {
      "text/html": [
       "<div>\n",
       "<style scoped>\n",
       "    .dataframe tbody tr th:only-of-type {\n",
       "        vertical-align: middle;\n",
       "    }\n",
       "\n",
       "    .dataframe tbody tr th {\n",
       "        vertical-align: top;\n",
       "    }\n",
       "\n",
       "    .dataframe thead th {\n",
       "        text-align: right;\n",
       "    }\n",
       "</style>\n",
       "<table border=\"1\" class=\"dataframe\">\n",
       "  <thead>\n",
       "    <tr style=\"text-align: right;\">\n",
       "      <th></th>\n",
       "      <th>Inflation</th>\n",
       "      <th>InterestRates</th>\n",
       "      <th>Interest_Rate_Next_Year</th>\n",
       "    </tr>\n",
       "  </thead>\n",
       "  <tbody>\n",
       "    <tr>\n",
       "      <th>Inflation</th>\n",
       "      <td>1.000000</td>\n",
       "      <td>0.499086</td>\n",
       "      <td>0.591156</td>\n",
       "    </tr>\n",
       "    <tr>\n",
       "      <th>InterestRates</th>\n",
       "      <td>0.499086</td>\n",
       "      <td>1.000000</td>\n",
       "      <td>0.866936</td>\n",
       "    </tr>\n",
       "    <tr>\n",
       "      <th>Interest_Rate_Next_Year</th>\n",
       "      <td>0.591156</td>\n",
       "      <td>0.866936</td>\n",
       "      <td>1.000000</td>\n",
       "    </tr>\n",
       "  </tbody>\n",
       "</table>\n",
       "</div>"
      ],
      "text/plain": [
       "                         Inflation  InterestRates  Interest_Rate_Next_Year\n",
       "Inflation                 1.000000       0.499086                 0.591156\n",
       "InterestRates             0.499086       1.000000                 0.866936\n",
       "Interest_Rate_Next_Year   0.591156       0.866936                 1.000000"
      ]
     },
     "execution_count": 12,
     "metadata": {},
     "output_type": "execute_result"
    }
   ],
   "source": [
    "inflation_interest_correlation = usa_inflation_interest_df.corr(method='pearson')\n",
    "inflation_interest_correlation"
   ]
  },
  {
   "cell_type": "code",
   "execution_count": 13,
   "id": "7b0ed5fd",
   "metadata": {
    "pycharm": {
     "name": "#%%\n"
    }
   },
   "outputs": [
    {
     "data": {
      "image/png": "[encoded data removed]",
      "text/plain": [
       "<Figure size 432x288 with 2 Axes>"
      ]
     },
     "metadata": {
      "needs_background": "light"
     },
     "output_type": "display_data"
    }
   ],
   "source": [
    "# Plot the heatmap signifying the correlation between Inflation & Interest Rates\n",
    "sns.heatmap(usa_inflation_interest_df[['Inflation', 'InterestRates']].corr())\n",
    "plt.show()"
   ]
  },
  {
   "cell_type": "markdown",
   "id": "16e7b339",
   "metadata": {
    "pycharm": {
     "name": "#%% md\n"
    }
   },
   "source": [
    "### Correlation between interest rates and inflation\n",
    "\n",
    "We don't see a  string correlation between interest rates and inflation and infact we see some cases same side movement and in some cases an opposite movement as depicted in the graph below"
   ]
  },
  {
   "cell_type": "code",
   "execution_count": 14,
   "id": "b78acf07",
   "metadata": {
    "pycharm": {
     "name": "#%%\n"
    }
   },
   "outputs": [
    {
     "data": {
      "image/png": "[encoded data removed]",
      "text/plain": [
       "<Figure size 864x864 with 1 Axes>"
      ]
     },
     "metadata": {
      "needs_background": "light"
     },
     "output_type": "display_data"
    }
   ],
   "source": [
    "plt.figure(figsize=(12,12))\n",
    "plt.plot(usa_inflation_interest_df['Inflation'], color='red', label='Inflation Over the Years')\n",
    "plt.plot(usa_inflation_interest_df['InterestRates'], color='blue', label='Interest Rates Over the Years')\n",
    "plt.title(\"Interest Rates & Inflation over the Years\")\n",
    "plt.legend()\n",
    "plt.show()"
   ]
  },
  {
   "cell_type": "code",
   "execution_count": 15,
   "id": "3327c833",
   "metadata": {
    "pycharm": {
     "name": "#%%\n"
    }
   },
   "outputs": [
    {
     "data": {
      "text/html": [
       "<div>\n",
       "<style scoped>\n",
       "    .dataframe tbody tr th:only-of-type {\n",
       "        vertical-align: middle;\n",
       "    }\n",
       "\n",
       "    .dataframe tbody tr th {\n",
       "        vertical-align: top;\n",
       "    }\n",
       "\n",
       "    .dataframe thead th {\n",
       "        text-align: right;\n",
       "    }\n",
       "</style>\n",
       "<table border=\"1\" class=\"dataframe\">\n",
       "  <thead>\n",
       "    <tr style=\"text-align: right;\">\n",
       "      <th></th>\n",
       "      <th>Year</th>\n",
       "      <th>Inflation</th>\n",
       "      <th>InterestRates</th>\n",
       "      <th>Interest_Rate_Next_Year</th>\n",
       "      <th>Top3</th>\n",
       "    </tr>\n",
       "  </thead>\n",
       "  <tbody>\n",
       "    <tr>\n",
       "      <th>0</th>\n",
       "      <td>1980</td>\n",
       "      <td>13.549202</td>\n",
       "      <td>5.716390</td>\n",
       "      <td>8.594620</td>\n",
       "      <td>xom,f,ibm</td>\n",
       "    </tr>\n",
       "    <tr>\n",
       "      <th>1</th>\n",
       "      <td>1981</td>\n",
       "      <td>10.334715</td>\n",
       "      <td>8.594620</td>\n",
       "      <td>8.177347</td>\n",
       "      <td>xom,f,ibm</td>\n",
       "    </tr>\n",
       "    <tr>\n",
       "      <th>2</th>\n",
       "      <td>1982</td>\n",
       "      <td>6.131427</td>\n",
       "      <td>8.177347</td>\n",
       "      <td>6.618160</td>\n",
       "      <td>xom,f,ibm</td>\n",
       "    </tr>\n",
       "    <tr>\n",
       "      <th>3</th>\n",
       "      <td>1983</td>\n",
       "      <td>3.212435</td>\n",
       "      <td>6.618160</td>\n",
       "      <td>8.141088</td>\n",
       "      <td>xom,f,ibm,dd</td>\n",
       "    </tr>\n",
       "    <tr>\n",
       "      <th>4</th>\n",
       "      <td>1984</td>\n",
       "      <td>4.300535</td>\n",
       "      <td>8.141088</td>\n",
       "      <td>6.563327</td>\n",
       "      <td>xom,f,ibm,dd</td>\n",
       "    </tr>\n",
       "    <tr>\n",
       "      <th>5</th>\n",
       "      <td>1985</td>\n",
       "      <td>3.545644</td>\n",
       "      <td>6.563327</td>\n",
       "      <td>6.193860</td>\n",
       "      <td>xom,f,ibm,dd</td>\n",
       "    </tr>\n",
       "    <tr>\n",
       "      <th>6</th>\n",
       "      <td>1986</td>\n",
       "      <td>1.898048</td>\n",
       "      <td>6.193860</td>\n",
       "      <td>5.592238</td>\n",
       "      <td>xom,f,ibm,t</td>\n",
       "    </tr>\n",
       "    <tr>\n",
       "      <th>7</th>\n",
       "      <td>1987</td>\n",
       "      <td>3.664563</td>\n",
       "      <td>5.592238</td>\n",
       "      <td>5.590382</td>\n",
       "      <td>xom,f,ibm,t</td>\n",
       "    </tr>\n",
       "    <tr>\n",
       "      <th>8</th>\n",
       "      <td>1988</td>\n",
       "      <td>4.077741</td>\n",
       "      <td>5.590382</td>\n",
       "      <td>6.690687</td>\n",
       "      <td>xom,f,ibm,ge</td>\n",
       "    </tr>\n",
       "    <tr>\n",
       "      <th>9</th>\n",
       "      <td>1989</td>\n",
       "      <td>4.827003</td>\n",
       "      <td>6.690687</td>\n",
       "      <td>6.039749</td>\n",
       "      <td>f,xom,ibm,ge</td>\n",
       "    </tr>\n",
       "  </tbody>\n",
       "</table>\n",
       "</div>"
      ],
      "text/plain": [
       "   Year  Inflation  InterestRates  Interest_Rate_Next_Year          Top3\n",
       "0  1980  13.549202       5.716390                 8.594620     xom,f,ibm\n",
       "1  1981  10.334715       8.594620                 8.177347     xom,f,ibm\n",
       "2  1982   6.131427       8.177347                 6.618160     xom,f,ibm\n",
       "3  1983   3.212435       6.618160                 8.141088  xom,f,ibm,dd\n",
       "4  1984   4.300535       8.141088                 6.563327  xom,f,ibm,dd\n",
       "5  1985   3.545644       6.563327                 6.193860  xom,f,ibm,dd\n",
       "6  1986   1.898048       6.193860                 5.592238   xom,f,ibm,t\n",
       "7  1987   3.664563       5.592238                 5.590382   xom,f,ibm,t\n",
       "8  1988   4.077741       5.590382                 6.690687  xom,f,ibm,ge\n",
       "9  1989   4.827003       6.690687                 6.039749  f,xom,ibm,ge"
      ]
     },
     "execution_count": 15,
     "metadata": {},
     "output_type": "execute_result"
    }
   ],
   "source": [
    "# Top 3 Stocks\n",
    "raw_stocks_data = pd.read_excel('./data/sp500_historic_data.xlsx')\n",
    "usa_inflation_interest_df = pd.merge(usa_inflation_interest_df, raw_stocks_data, on=[\"Year\"])\n",
    "usa_inflation_interest_df.head(10)"
   ]
  },
  {
   "cell_type": "markdown",
   "id": "beda7722",
   "metadata": {
    "pycharm": {
     "name": "#%% md\n"
    }
   },
   "source": [
    "## Constants"
   ]
  },
  {
   "cell_type": "code",
   "execution_count": 16,
   "id": "0b93c52c",
   "metadata": {
    "pycharm": {
     "name": "#%%\n"
    }
   },
   "outputs": [],
   "source": [
    "index_tickers = '^GSPC, ^IXIC'\n",
    "index_ticker_column_mapper = {'gspc': 'SP500', 'ixic': 'Nasdaq'}\n",
    "target_inflation_metric = '7'\n",
    "start_date = '1980-01-01'"
   ]
  },
  {
   "cell_type": "markdown",
   "id": "65693f4e",
   "metadata": {
    "pycharm": {
     "name": "#%% md\n"
    }
   },
   "source": [
    "## Indexes Investment Strategy\n",
    "### Allocating portfolio across S&P 500, Nasdaq companies\n",
    "\n",
    "S&P 500 - Top 500 Companies in US Markets launched in 1923 tracking 90 stocks, expanded to 500 stocks from 1957\n"
   ]
  },
  {
   "cell_type": "code",
   "execution_count": 17,
   "id": "37f8497c",
   "metadata": {
    "pycharm": {
     "name": "#%%\n"
    }
   },
   "outputs": [],
   "source": [
    "def fetch_price_data(tickers, start_date):\n",
    "    raw_price_data = bt.get(tickers, start = start_date)\n",
    "    return raw_price_data\n",
    "\n",
    "def fetch_price_data_range(tickers, start_date, end_date):\n",
    "    raw_price_data = bt.get(tickers, start = start_date, end=end_date)\n",
    "    return raw_price_data"
   ]
  },
  {
   "cell_type": "code",
   "execution_count": 18,
   "id": "1ac328c4",
   "metadata": {
    "pycharm": {
     "name": "#%%\n"
    }
   },
   "outputs": [
    {
     "data": {
      "text/html": [
       "<div>\n",
       "<style scoped>\n",
       "    .dataframe tbody tr th:only-of-type {\n",
       "        vertical-align: middle;\n",
       "    }\n",
       "\n",
       "    .dataframe tbody tr th {\n",
       "        vertical-align: top;\n",
       "    }\n",
       "\n",
       "    .dataframe thead th {\n",
       "        text-align: right;\n",
       "    }\n",
       "</style>\n",
       "<table border=\"1\" class=\"dataframe\">\n",
       "  <thead>\n",
       "    <tr style=\"text-align: right;\">\n",
       "      <th></th>\n",
       "      <th>SP500</th>\n",
       "      <th>Nasdaq</th>\n",
       "    </tr>\n",
       "    <tr>\n",
       "      <th>Date</th>\n",
       "      <th></th>\n",
       "      <th></th>\n",
       "    </tr>\n",
       "  </thead>\n",
       "  <tbody>\n",
       "    <tr>\n",
       "      <th>1980-01-02</th>\n",
       "      <td>105.760002</td>\n",
       "      <td>148.169998</td>\n",
       "    </tr>\n",
       "    <tr>\n",
       "      <th>1980-01-03</th>\n",
       "      <td>105.220001</td>\n",
       "      <td>145.970001</td>\n",
       "    </tr>\n",
       "    <tr>\n",
       "      <th>1980-01-04</th>\n",
       "      <td>106.519997</td>\n",
       "      <td>148.020004</td>\n",
       "    </tr>\n",
       "    <tr>\n",
       "      <th>1980-01-07</th>\n",
       "      <td>106.809998</td>\n",
       "      <td>148.619995</td>\n",
       "    </tr>\n",
       "    <tr>\n",
       "      <th>1980-01-08</th>\n",
       "      <td>108.949997</td>\n",
       "      <td>150.679993</td>\n",
       "    </tr>\n",
       "  </tbody>\n",
       "</table>\n",
       "</div>"
      ],
      "text/plain": [
       "                 SP500      Nasdaq\n",
       "Date                              \n",
       "1980-01-02  105.760002  148.169998\n",
       "1980-01-03  105.220001  145.970001\n",
       "1980-01-04  106.519997  148.020004\n",
       "1980-01-07  106.809998  148.619995\n",
       "1980-01-08  108.949997  150.679993"
      ]
     },
     "execution_count": 18,
     "metadata": {},
     "output_type": "execute_result"
    }
   ],
   "source": [
    "# Price Data for the two indices SP500 &Rusell 3000 index.\n",
    "price_data = fetch_price_data(index_tickers, start_date)\n",
    "price_data.rename(columns = index_ticker_column_mapper, inplace=True)\n",
    "price_data.head()"
   ]
  },
  {
   "cell_type": "code",
   "execution_count": 19,
   "id": "a459545a",
   "metadata": {
    "pycharm": {
     "name": "#%%\n"
    }
   },
   "outputs": [
    {
     "data": {
      "image/png": "[encoded data removed]",
      "text/plain": [
       "<Figure size 864x432 with 1 Axes>"
      ]
     },
     "metadata": {
      "needs_background": "light"
     },
     "output_type": "display_data"
    }
   ],
   "source": [
    "# Plot Price Data\n",
    "plt.figure(figsize=(12,6))\n",
    "plt.xlabel(\"Year\")\n",
    "plt.ylabel(\"Price Quote\")\n",
    "plt.title('Pricing Over the Years')\n",
    "plt.plot(price_data['SP500'], color='blue', label='SP 500')\n",
    "plt.plot(price_data['Nasdaq'], color='green', label='Nasdaq Composite')\n",
    "plt.legend()\n",
    "plt.show()"
   ]
  },
  {
   "cell_type": "markdown",
   "id": "3ef5bafb",
   "metadata": {
    "pycharm": {
     "name": "#%% md\n"
    }
   },
   "source": [
    "### Merge Inflation, Interest Rates data with SP500 and Nasdaq Pricing Data"
   ]
  },
  {
   "cell_type": "code",
   "execution_count": 20,
   "id": "a69a3fe6",
   "metadata": {
    "pycharm": {
     "name": "#%%\n"
    }
   },
   "outputs": [],
   "source": [
    "price_data['year'] = pd.DatetimeIndex(price_data.index).year\n",
    "year_wise_df = price_data.groupby(by='year').agg(\n",
    "    {'SP500' : 'mean', 'Nasdaq': 'mean'})\n",
    "year_wise_df['Year'] = year_wise_df.index\n",
    "year_wise_df = pd.merge(usa_inflation_interest_df, \n",
    "                        year_wise_df, \n",
    "                        on=[\"Year\"])"
   ]
  },
  {
   "cell_type": "code",
   "execution_count": 21,
   "id": "69f2c21f",
   "metadata": {
    "pycharm": {
     "name": "#%%\n"
    }
   },
   "outputs": [
    {
     "data": {
      "text/html": [
       "<div>\n",
       "<style scoped>\n",
       "    .dataframe tbody tr th:only-of-type {\n",
       "        vertical-align: middle;\n",
       "    }\n",
       "\n",
       "    .dataframe tbody tr th {\n",
       "        vertical-align: top;\n",
       "    }\n",
       "\n",
       "    .dataframe thead th {\n",
       "        text-align: right;\n",
       "    }\n",
       "</style>\n",
       "<table border=\"1\" class=\"dataframe\">\n",
       "  <thead>\n",
       "    <tr style=\"text-align: right;\">\n",
       "      <th></th>\n",
       "      <th>Year</th>\n",
       "      <th>Inflation</th>\n",
       "      <th>InterestRates</th>\n",
       "      <th>Interest_Rate_Next_Year</th>\n",
       "      <th>Top3</th>\n",
       "      <th>SP500</th>\n",
       "      <th>Nasdaq</th>\n",
       "    </tr>\n",
       "  </thead>\n",
       "  <tbody>\n",
       "    <tr>\n",
       "      <th>0</th>\n",
       "      <td>1980</td>\n",
       "      <td>13.549202</td>\n",
       "      <td>5.716390</td>\n",
       "      <td>8.594620</td>\n",
       "      <td>xom,f,ibm</td>\n",
       "      <td>118.710118</td>\n",
       "      <td>168.608379</td>\n",
       "    </tr>\n",
       "    <tr>\n",
       "      <th>1</th>\n",
       "      <td>1981</td>\n",
       "      <td>10.334715</td>\n",
       "      <td>8.594620</td>\n",
       "      <td>8.177347</td>\n",
       "      <td>xom,f,ibm</td>\n",
       "      <td>128.037905</td>\n",
       "      <td>203.182371</td>\n",
       "    </tr>\n",
       "    <tr>\n",
       "      <th>2</th>\n",
       "      <td>1982</td>\n",
       "      <td>6.131427</td>\n",
       "      <td>8.177347</td>\n",
       "      <td>6.618160</td>\n",
       "      <td>xom,f,ibm</td>\n",
       "      <td>119.705732</td>\n",
       "      <td>188.972886</td>\n",
       "    </tr>\n",
       "    <tr>\n",
       "      <th>3</th>\n",
       "      <td>1983</td>\n",
       "      <td>3.212435</td>\n",
       "      <td>6.618160</td>\n",
       "      <td>8.141088</td>\n",
       "      <td>xom,f,ibm,dd</td>\n",
       "      <td>160.473122</td>\n",
       "      <td>285.427786</td>\n",
       "    </tr>\n",
       "    <tr>\n",
       "      <th>4</th>\n",
       "      <td>1984</td>\n",
       "      <td>4.300535</td>\n",
       "      <td>8.141088</td>\n",
       "      <td>6.563327</td>\n",
       "      <td>xom,f,ibm,dd</td>\n",
       "      <td>160.463557</td>\n",
       "      <td>248.977707</td>\n",
       "    </tr>\n",
       "  </tbody>\n",
       "</table>\n",
       "</div>"
      ],
      "text/plain": [
       "   Year  Inflation  InterestRates  Interest_Rate_Next_Year          Top3  \\\n",
       "0  1980  13.549202       5.716390                 8.594620     xom,f,ibm   \n",
       "1  1981  10.334715       8.594620                 8.177347     xom,f,ibm   \n",
       "2  1982   6.131427       8.177347                 6.618160     xom,f,ibm   \n",
       "3  1983   3.212435       6.618160                 8.141088  xom,f,ibm,dd   \n",
       "4  1984   4.300535       8.141088                 6.563327  xom,f,ibm,dd   \n",
       "\n",
       "        SP500      Nasdaq  \n",
       "0  118.710118  168.608379  \n",
       "1  128.037905  203.182371  \n",
       "2  119.705732  188.972886  \n",
       "3  160.473122  285.427786  \n",
       "4  160.463557  248.977707  "
      ]
     },
     "execution_count": 21,
     "metadata": {},
     "output_type": "execute_result"
    }
   ],
   "source": [
    "year_wise_df.head()"
   ]
  },
  {
   "cell_type": "code",
   "execution_count": 22,
   "id": "86e194c5",
   "metadata": {
    "pycharm": {
     "name": "#%%\n"
    }
   },
   "outputs": [
    {
     "data": {
      "image/png": "[encoded data removed]",
      "text/plain": [
       "<Figure size 864x432 with 2 Axes>"
      ]
     },
     "metadata": {
      "needs_background": "light"
     },
     "output_type": "display_data"
    }
   ],
   "source": [
    "fig, axs = plt.subplots(2, figsize=(12,6))\n",
    "fig.figsize = (24,25)\n",
    "fig.suptitle('SP500 - Nasdaq Performance')\n",
    "axs[1].plot(year_wise_df['Year'], year_wise_df['SP500'], label='SP 500')\n",
    "axs[1].plot(year_wise_df['Year'], year_wise_df['Nasdaq'], label='Nasdaq')\n",
    "axs[1].legend()\n",
    "axs[0].plot(year_wise_df['Year'], year_wise_df['Inflation'], label = 'Inflation')\n",
    "axs[0].plot(year_wise_df['Year'], year_wise_df['InterestRates'], label='Interest Rates')\n",
    "axs[0].legend()\n",
    "\n",
    "for ax in fig.get_axes():\n",
    "    ax.label_outer()\n",
    "plt.show()"
   ]
  },
  {
   "cell_type": "markdown",
   "id": "c7baa019",
   "metadata": {
    "pycharm": {
     "name": "#%% md\n"
    }
   },
   "source": [
    "##### Graph Inference\n",
    "\n",
    "From the Graphs, we see a strong correlation with interest rates, inflation along \n",
    "the stock market movement. We can do a prediction of stock market direction infering\n",
    "from the inflation and interest rates movement."
   ]
  },
  {
   "cell_type": "markdown",
   "id": "93673f2b",
   "metadata": {
    "pycharm": {
     "name": "#%% md\n"
    }
   },
   "source": [
    "### Trading Strategies"
   ]
  },
  {
   "cell_type": "markdown",
   "id": "79680f12",
   "metadata": {
    "pycharm": {
     "name": "#%% md\n"
    }
   },
   "source": [
    "#### Equal Weight Strategy\n",
    "\n",
    "We have our bt algos to run monthly and select all indices and weighing equally"
   ]
  },
  {
   "cell_type": "code",
   "execution_count": 23,
   "id": "49dc6aef",
   "metadata": {
    "pycharm": {
     "name": "#%%\n"
    }
   },
   "outputs": [],
   "source": [
    "equal_weight_strategy = bt.Strategy('Equal_Weight',\n",
    "                            [\n",
    "                              bt.algos.RunMonthly(),\n",
    "                              bt.algos.SelectAll(),\n",
    "                              bt.algos.WeighEqually(),\n",
    "                              bt.algos.Rebalance()\n",
    "                            ])"
   ]
  },
  {
   "cell_type": "code",
   "execution_count": 24,
   "id": "9bd205ad",
   "metadata": {
    "pycharm": {
     "name": "#%%\n"
    }
   },
   "outputs": [],
   "source": [
    "inverse_volatility_strategy = bt.Strategy('Inverse_Volatility',\n",
    "                            [\n",
    "                              bt.algos.RunWeekly(),\n",
    "                              bt.algos.SelectAll(),\n",
    "                              bt.algos.WeighInvVol(),\n",
    "                              bt.algos.Rebalance()\n",
    "                            ])"
   ]
  },
  {
   "cell_type": "code",
   "execution_count": 25,
   "id": "c083120c",
   "metadata": {
    "pycharm": {
     "name": "#%%\n"
    }
   },
   "outputs": [],
   "source": [
    "top3_strategy = bt.Strategy('Top3',\n",
    "                            [\n",
    "                              bt.algos.RunWeekly(),\n",
    "                              bt.algos.SelectAll(),\n",
    "                              bt.algos.WeighInvVol(),\n",
    "                              bt.algos.Rebalance()\n",
    "                            ])"
   ]
  },
  {
   "cell_type": "code",
   "execution_count": 26,
   "id": "84e23765",
   "metadata": {
    "pycharm": {
     "name": "#%%\n"
    }
   },
   "outputs": [],
   "source": [
    "strategy_lst = [equal_weight_strategy, inverse_volatility_strategy, top3_strategy]"
   ]
  },
  {
   "cell_type": "markdown",
   "id": "c9e9fd45",
   "metadata": {
    "pycharm": {
     "name": "#%% md\n"
    }
   },
   "source": [
    "## Interest Rate Based Trading Strategy"
   ]
  },
  {
   "cell_type": "code",
   "execution_count": 27,
   "id": "46aa97e3",
   "metadata": {
    "pycharm": {
     "name": "#%%\n"
    }
   },
   "outputs": [],
   "source": [
    "def interest_based_strategy_computation(strategies, target_interest_metric = -1):\n",
    "\n",
    "    # Initialize empty lists\n",
    "    lst_interest = []\n",
    "    lst_year = []\n",
    "    lst_cagr = []\n",
    "    lst_sharpe = []\n",
    "    lst_sortino = []\n",
    "    lst_strategy = []\n",
    "\n",
    "    for bt_strategy in strategies:\n",
    "        target_year_list = []\n",
    "        if target_interest_metric == -1:\n",
    "            target_year_list = range(1980, 2020)\n",
    "        else:   \n",
    "            interest_from, interest_to = int(target_interest_metric), round(target_interest_metric)\n",
    "            if(interest_from == interest_to):\n",
    "                interest_to = interest_from + 1\n",
    "\n",
    "            # Target Years Based on the Interest Rates\n",
    "            target_years = year_wise_df[year_wise_df['InterestRates'].between(interest_from, interest_to)][\n",
    "                'Year'].sort_values(ascending=False)\n",
    "            target_year_list = target_years.to_list()\n",
    "\n",
    "        # Run a loop across target\n",
    "        for yr in target_years:\n",
    "            start_date = str(yr) + '-01-01'\n",
    "            end_date = str((yr+1)) + '-01-01'\n",
    "            try:\n",
    "                if (bt_strategy.name == 'Top3'):\n",
    "                    top3codes = usa_inflation_interest_df[usa_inflation_interest_df['Year']==yr]['Top3'].to_string(index=False)\n",
    "                    price_data = bt.get(top3codes, start=start_date, end=end_date)\n",
    "                else:\n",
    "                    price_data = fetch_price_data_range(index_tickers, start_date, end_date)\n",
    "\n",
    "                bt_backtest = bt.Backtest(bt_strategy, price_data)\n",
    "                bt_res = bt.run(bt_backtest)\n",
    "\n",
    "                #bt_res.plot(title=bt_strategy.name)\n",
    "                #plt.show()\n",
    "\n",
    "                bt_stats = bt_res.stats\n",
    "                lst_interest.append(target_interest_metric)\n",
    "                lst_strategy.append(bt_strategy.name)\n",
    "                lst_year.append(yr)\n",
    "                lst_cagr.append(round(bt_stats.loc['cagr'][bt_strategy.name] * 100, 2))\n",
    "                lst_sharpe.append(round(bt_stats.loc['daily_sharpe'][bt_strategy.name], 2))\n",
    "                lst_sortino.append(round(bt_stats.loc['daily_sortino'][bt_strategy.name], 2))\n",
    "            except:\n",
    "                print('Error ', yr, ' - ', bt_strategy.name)\n",
    "\n",
    "    return pd.DataFrame(list(zip(lst_interest, lst_strategy, lst_year, lst_cagr, lst_sharpe, lst_sortino)), columns=['Interest Rate', 'strategy_name', 'year', 'cagr', 'sharpe', 'sortino'])\n"
   ]
  },
  {
   "cell_type": "code",
   "execution_count": 28,
   "id": "1b19cf8b",
   "metadata": {
    "pycharm": {
     "name": "#%%\n"
    }
   },
   "outputs": [],
   "source": [
    "def interest_rate_stock_parameters():\n",
    "    interest_strategy_df = pd.DataFrame(columns=['Interest Rate', 'strategy_name', 'year', 'cagr', 'sharpe', 'sortino'])\n",
    "    for item in range(1, 12):\n",
    "        df2 = interest_based_strategy_computation(strategy_lst, item)\n",
    "        interest_strategy_df = pd.concat([interest_strategy_df, df2])\n",
    "    interest_strategy_df = interest_strategy_df.reset_index()\n",
    "    interest_rate_stock_analysis_df = pd.pivot_table(interest_strategy_df, values=['cagr', 'sharpe', 'sortino'], index=['Interest Rate', 'strategy_name'],\n",
    "                        aggfunc={'cagr': np.mean,\n",
    "                                 'sharpe': np.mean,\n",
    "                                 'sortino': np.mean\n",
    "                                }).reset_index()\n",
    "    return interest_rate_stock_analysis_df\n",
    "\n"
   ]
  },
  {
   "cell_type": "code",
   "execution_count": 29,
   "id": "e434623a",
   "metadata": {
    "pycharm": {
     "name": "#%%\n"
    }
   },
   "outputs": [],
   "source": [
    "def plot_heatmap(dataframe, index_vars, values, plttitle, aggfn=np.mean, ):\n",
    "    pvt = pd.pivot_table(dataframe, index=index_vars,\n",
    "                    values=values, aggfunc=np.mean)\n",
    "    # Plot CAGR Pivot Table\n",
    "    plt.figure(figsize=(12,5))\n",
    "    plt.title(plttitle)\n",
    "    sns.heatmap(pvt, cmap=\"RdBu\")\n",
    "    plt.show()"
   ]
  },
  {
   "cell_type": "code",
   "execution_count": 30,
   "id": "f6893f7a",
   "metadata": {
    "pycharm": {
     "name": "#%%\n"
    }
   },
   "outputs": [
    {
     "name": "stdout",
     "output_type": "stream",
     "text": [
      "Error  1997  -  Equal_Weight\n",
      "Error  1996  -  Top3\n",
      "Error  1986  -  Top3\n",
      "Error  1984  -  Top3\n"
     ]
    }
   ],
   "source": [
    "interest_rate_stock_analysis_df = interest_rate_stock_parameters()\n",
    "# Strategy Based Dataframe\n",
    "equal_weight_strategy_df = interest_rate_stock_analysis_df[interest_rate_stock_analysis_df['strategy_name'] == 'Equal_Weight']\n",
    "inverse_volatility_strategy_df = interest_rate_stock_analysis_df[interest_rate_stock_analysis_df['strategy_name'] == 'Inverse_Volatility']\n",
    "top3_strategy_df = interest_rate_stock_analysis_df[interest_rate_stock_analysis_df['strategy_name'] == 'Top3']"
   ]
  },
  {
   "cell_type": "code",
   "execution_count": 31,
   "id": "800fa11b",
   "metadata": {
    "pycharm": {
     "name": "#%%\n"
    }
   },
   "outputs": [
    {
     "data": {
      "image/png": "[encoded data removed]",
      "text/plain": [
       "<Figure size 864x360 with 2 Axes>"
      ]
     },
     "metadata": {
      "needs_background": "light"
     },
     "output_type": "display_data"
    }
   ],
   "source": [
    "plot_heatmap(equal_weight_strategy_df, ['Interest Rate'], ['cagr'], 'Equal Weight Strategy - Interest Rate Vs CAGR')"
   ]
  },
  {
   "cell_type": "code",
   "execution_count": 32,
   "id": "3e8d6fef",
   "metadata": {
    "pycharm": {
     "name": "#%%\n"
    }
   },
   "outputs": [
    {
     "data": {
      "image/png": "[encoded data removed]",
      "text/plain": [
       "<Figure size 864x360 with 2 Axes>"
      ]
     },
     "metadata": {
      "needs_background": "light"
     },
     "output_type": "display_data"
    }
   ],
   "source": [
    "plot_heatmap(inverse_volatility_strategy_df, ['Interest Rate'], ['cagr'], 'Inverse Volatility - Interest Rate Vs CAGR')"
   ]
  },
  {
   "cell_type": "code",
   "execution_count": 33,
   "id": "20ca5520",
   "metadata": {
    "pycharm": {
     "name": "#%%\n"
    }
   },
   "outputs": [
    {
     "data": {
      "text/html": [
       "<div>\n",
       "<style scoped>\n",
       "    .dataframe tbody tr th:only-of-type {\n",
       "        vertical-align: middle;\n",
       "    }\n",
       "\n",
       "    .dataframe tbody tr th {\n",
       "        vertical-align: top;\n",
       "    }\n",
       "\n",
       "    .dataframe thead th {\n",
       "        text-align: right;\n",
       "    }\n",
       "</style>\n",
       "<table border=\"1\" class=\"dataframe\">\n",
       "  <thead>\n",
       "    <tr style=\"text-align: right;\">\n",
       "      <th></th>\n",
       "      <th>Interest Rate</th>\n",
       "      <th>strategy_name</th>\n",
       "      <th>cagr</th>\n",
       "      <th>sharpe</th>\n",
       "      <th>sortino</th>\n",
       "    </tr>\n",
       "  </thead>\n",
       "  <tbody>\n",
       "    <tr>\n",
       "      <th>0</th>\n",
       "      <td>1</td>\n",
       "      <td>Equal_Weight</td>\n",
       "      <td>12.674000</td>\n",
       "      <td>1.038000</td>\n",
       "      <td>1.726000</td>\n",
       "    </tr>\n",
       "    <tr>\n",
       "      <th>1</th>\n",
       "      <td>1</td>\n",
       "      <td>Inverse_Volatility</td>\n",
       "      <td>11.890000</td>\n",
       "      <td>0.996000</td>\n",
       "      <td>1.652000</td>\n",
       "    </tr>\n",
       "    <tr>\n",
       "      <th>2</th>\n",
       "      <td>1</td>\n",
       "      <td>Top3</td>\n",
       "      <td>12.292000</td>\n",
       "      <td>0.992000</td>\n",
       "      <td>1.678000</td>\n",
       "    </tr>\n",
       "    <tr>\n",
       "      <th>3</th>\n",
       "      <td>2</td>\n",
       "      <td>Equal_Weight</td>\n",
       "      <td>15.182222</td>\n",
       "      <td>0.898889</td>\n",
       "      <td>1.493333</td>\n",
       "    </tr>\n",
       "    <tr>\n",
       "      <th>4</th>\n",
       "      <td>2</td>\n",
       "      <td>Inverse_Volatility</td>\n",
       "      <td>16.136667</td>\n",
       "      <td>0.955556</td>\n",
       "      <td>1.591111</td>\n",
       "    </tr>\n",
       "    <tr>\n",
       "      <th>5</th>\n",
       "      <td>2</td>\n",
       "      <td>Top3</td>\n",
       "      <td>7.302222</td>\n",
       "      <td>0.522222</td>\n",
       "      <td>1.008889</td>\n",
       "    </tr>\n",
       "    <tr>\n",
       "      <th>6</th>\n",
       "      <td>3</td>\n",
       "      <td>Equal_Weight</td>\n",
       "      <td>-2.690000</td>\n",
       "      <td>0.444000</td>\n",
       "      <td>0.694000</td>\n",
       "    </tr>\n",
       "    <tr>\n",
       "      <th>7</th>\n",
       "      <td>3</td>\n",
       "      <td>Inverse_Volatility</td>\n",
       "      <td>-2.868000</td>\n",
       "      <td>0.456000</td>\n",
       "      <td>0.708000</td>\n",
       "    </tr>\n",
       "    <tr>\n",
       "      <th>8</th>\n",
       "      <td>3</td>\n",
       "      <td>Top3</td>\n",
       "      <td>5.806000</td>\n",
       "      <td>0.734000</td>\n",
       "      <td>1.276000</td>\n",
       "    </tr>\n",
       "    <tr>\n",
       "      <th>9</th>\n",
       "      <td>4</td>\n",
       "      <td>Equal_Weight</td>\n",
       "      <td>9.625000</td>\n",
       "      <td>0.760000</td>\n",
       "      <td>1.372500</td>\n",
       "    </tr>\n",
       "    <tr>\n",
       "      <th>10</th>\n",
       "      <td>4</td>\n",
       "      <td>Inverse_Volatility</td>\n",
       "      <td>9.695000</td>\n",
       "      <td>0.715000</td>\n",
       "      <td>1.330000</td>\n",
       "    </tr>\n",
       "    <tr>\n",
       "      <th>11</th>\n",
       "      <td>4</td>\n",
       "      <td>Top3</td>\n",
       "      <td>6.917500</td>\n",
       "      <td>0.532500</td>\n",
       "      <td>0.947500</td>\n",
       "    </tr>\n",
       "    <tr>\n",
       "      <th>12</th>\n",
       "      <td>5</td>\n",
       "      <td>Equal_Weight</td>\n",
       "      <td>11.722500</td>\n",
       "      <td>0.825000</td>\n",
       "      <td>1.287500</td>\n",
       "    </tr>\n",
       "    <tr>\n",
       "      <th>13</th>\n",
       "      <td>5</td>\n",
       "      <td>Inverse_Volatility</td>\n",
       "      <td>10.250000</td>\n",
       "      <td>0.827500</td>\n",
       "      <td>1.325000</td>\n",
       "    </tr>\n",
       "    <tr>\n",
       "      <th>14</th>\n",
       "      <td>5</td>\n",
       "      <td>Top3</td>\n",
       "      <td>16.430000</td>\n",
       "      <td>0.835000</td>\n",
       "      <td>1.395000</td>\n",
       "    </tr>\n",
       "    <tr>\n",
       "      <th>15</th>\n",
       "      <td>6</td>\n",
       "      <td>Equal_Weight</td>\n",
       "      <td>17.454444</td>\n",
       "      <td>1.463333</td>\n",
       "      <td>2.555556</td>\n",
       "    </tr>\n",
       "    <tr>\n",
       "      <th>16</th>\n",
       "      <td>6</td>\n",
       "      <td>Inverse_Volatility</td>\n",
       "      <td>17.067000</td>\n",
       "      <td>1.445000</td>\n",
       "      <td>2.510000</td>\n",
       "    </tr>\n",
       "    <tr>\n",
       "      <th>17</th>\n",
       "      <td>6</td>\n",
       "      <td>Top3</td>\n",
       "      <td>22.848750</td>\n",
       "      <td>1.273750</td>\n",
       "      <td>2.385000</td>\n",
       "    </tr>\n",
       "    <tr>\n",
       "      <th>18</th>\n",
       "      <td>7</td>\n",
       "      <td>Equal_Weight</td>\n",
       "      <td>32.490000</td>\n",
       "      <td>1.350000</td>\n",
       "      <td>2.140000</td>\n",
       "    </tr>\n",
       "    <tr>\n",
       "      <th>19</th>\n",
       "      <td>7</td>\n",
       "      <td>Inverse_Volatility</td>\n",
       "      <td>37.280000</td>\n",
       "      <td>1.540000</td>\n",
       "      <td>2.460000</td>\n",
       "    </tr>\n",
       "    <tr>\n",
       "      <th>20</th>\n",
       "      <td>7</td>\n",
       "      <td>Top3</td>\n",
       "      <td>63.650000</td>\n",
       "      <td>2.330000</td>\n",
       "      <td>4.030000</td>\n",
       "    </tr>\n",
       "    <tr>\n",
       "      <th>21</th>\n",
       "      <td>8</td>\n",
       "      <td>Equal_Weight</td>\n",
       "      <td>1.780000</td>\n",
       "      <td>0.080000</td>\n",
       "      <td>0.233333</td>\n",
       "    </tr>\n",
       "    <tr>\n",
       "      <th>22</th>\n",
       "      <td>8</td>\n",
       "      <td>Inverse_Volatility</td>\n",
       "      <td>3.753333</td>\n",
       "      <td>0.203333</td>\n",
       "      <td>0.450000</td>\n",
       "    </tr>\n",
       "    <tr>\n",
       "      <th>23</th>\n",
       "      <td>8</td>\n",
       "      <td>Top3</td>\n",
       "      <td>24.795000</td>\n",
       "      <td>0.900000</td>\n",
       "      <td>1.970000</td>\n",
       "    </tr>\n",
       "  </tbody>\n",
       "</table>\n",
       "</div>"
      ],
      "text/plain": [
       "    Interest Rate       strategy_name       cagr    sharpe   sortino\n",
       "0               1        Equal_Weight  12.674000  1.038000  1.726000\n",
       "1               1  Inverse_Volatility  11.890000  0.996000  1.652000\n",
       "2               1                Top3  12.292000  0.992000  1.678000\n",
       "3               2        Equal_Weight  15.182222  0.898889  1.493333\n",
       "4               2  Inverse_Volatility  16.136667  0.955556  1.591111\n",
       "5               2                Top3   7.302222  0.522222  1.008889\n",
       "6               3        Equal_Weight  -2.690000  0.444000  0.694000\n",
       "7               3  Inverse_Volatility  -2.868000  0.456000  0.708000\n",
       "8               3                Top3   5.806000  0.734000  1.276000\n",
       "9               4        Equal_Weight   9.625000  0.760000  1.372500\n",
       "10              4  Inverse_Volatility   9.695000  0.715000  1.330000\n",
       "11              4                Top3   6.917500  0.532500  0.947500\n",
       "12              5        Equal_Weight  11.722500  0.825000  1.287500\n",
       "13              5  Inverse_Volatility  10.250000  0.827500  1.325000\n",
       "14              5                Top3  16.430000  0.835000  1.395000\n",
       "15              6        Equal_Weight  17.454444  1.463333  2.555556\n",
       "16              6  Inverse_Volatility  17.067000  1.445000  2.510000\n",
       "17              6                Top3  22.848750  1.273750  2.385000\n",
       "18              7        Equal_Weight  32.490000  1.350000  2.140000\n",
       "19              7  Inverse_Volatility  37.280000  1.540000  2.460000\n",
       "20              7                Top3  63.650000  2.330000  4.030000\n",
       "21              8        Equal_Weight   1.780000  0.080000  0.233333\n",
       "22              8  Inverse_Volatility   3.753333  0.203333  0.450000\n",
       "23              8                Top3  24.795000  0.900000  1.970000"
      ]
     },
     "execution_count": 33,
     "metadata": {},
     "output_type": "execute_result"
    }
   ],
   "source": [
    "interest_rate_stock_analysis_df"
   ]
  },
  {
   "cell_type": "code",
   "execution_count": 34,
   "id": "e8b60834",
   "metadata": {
    "pycharm": {
     "name": "#%%\n"
    }
   },
   "outputs": [
    {
     "data": {
      "image/png": "[encoded data removed]",
      "text/plain": [
       "<Figure size 864x360 with 2 Axes>"
      ]
     },
     "metadata": {
      "needs_background": "light"
     },
     "output_type": "display_data"
    }
   ],
   "source": [
    "plot_heatmap(top3_strategy_df, ['Interest Rate'], ['cagr'], 'Top 3 Strategy - Interest Rate Vs CAGR')"
   ]
  },
  {
   "cell_type": "code",
   "execution_count": 35,
   "id": "76d30b93",
   "metadata": {
    "pycharm": {
     "name": "#%%\n"
    }
   },
   "outputs": [
    {
     "data": {
      "image/png": "[encoded data removed]",
      "text/plain": [
       "<Figure size 864x576 with 1 Axes>"
      ]
     },
     "metadata": {},
     "output_type": "display_data"
    }
   ],
   "source": [
    "with plt.style.context('seaborn-whitegrid'):\n",
    "    plt.figure(figsize=(12,8))\n",
    "    plt.plot(equal_weight_strategy_df['Interest Rate'], \n",
    "             equal_weight_strategy_df['cagr'], \n",
    "             label='Equal_Weight')\n",
    "    plt.plot(inverse_volatility_strategy_df['Interest Rate'], \n",
    "             inverse_volatility_strategy_df['cagr'], \n",
    "             label='Inverse_Volatility')\n",
    "    plt.plot(top3_strategy_df['Interest Rate'], \n",
    "             top3_strategy_df['cagr'], \n",
    "             label='Inverse_Volatility')\n",
    "    plt.xlabel('Interest Rates')\n",
    "    plt.ylabel('CAGR')\n",
    "    plt.title('Interest Rates Vs CAGR')\n",
    "    plt.legend()\n",
    "    plt.show()\n",
    "plt.show()\n",
    "\n"
   ]
  },
  {
   "cell_type": "markdown",
   "id": "257c3e5c",
   "metadata": {
    "pycharm": {
     "name": "#%% md\n"
    }
   },
   "source": [
    "### Overall Interest Rate based Strategy Stats"
   ]
  },
  {
   "cell_type": "code",
   "execution_count": 36,
   "id": "4f96558a",
   "metadata": {
    "pycharm": {
     "name": "#%%\n"
    }
   },
   "outputs": [
    {
     "data": {
      "text/html": [
       "<div>\n",
       "<style scoped>\n",
       "    .dataframe tbody tr th:only-of-type {\n",
       "        vertical-align: middle;\n",
       "    }\n",
       "\n",
       "    .dataframe tbody tr th {\n",
       "        vertical-align: top;\n",
       "    }\n",
       "\n",
       "    .dataframe thead th {\n",
       "        text-align: right;\n",
       "    }\n",
       "</style>\n",
       "<table border=\"1\" class=\"dataframe\">\n",
       "  <thead>\n",
       "    <tr style=\"text-align: right;\">\n",
       "      <th></th>\n",
       "      <th>Interest Rate</th>\n",
       "      <th>strategy_name</th>\n",
       "      <th>cagr</th>\n",
       "      <th>sharpe</th>\n",
       "      <th>sortino</th>\n",
       "    </tr>\n",
       "  </thead>\n",
       "  <tbody>\n",
       "    <tr>\n",
       "      <th>0</th>\n",
       "      <td>1</td>\n",
       "      <td>Equal_Weight</td>\n",
       "      <td>12.674000</td>\n",
       "      <td>1.038000</td>\n",
       "      <td>1.726000</td>\n",
       "    </tr>\n",
       "    <tr>\n",
       "      <th>1</th>\n",
       "      <td>1</td>\n",
       "      <td>Inverse_Volatility</td>\n",
       "      <td>11.890000</td>\n",
       "      <td>0.996000</td>\n",
       "      <td>1.652000</td>\n",
       "    </tr>\n",
       "    <tr>\n",
       "      <th>2</th>\n",
       "      <td>1</td>\n",
       "      <td>Top3</td>\n",
       "      <td>12.292000</td>\n",
       "      <td>0.992000</td>\n",
       "      <td>1.678000</td>\n",
       "    </tr>\n",
       "    <tr>\n",
       "      <th>3</th>\n",
       "      <td>2</td>\n",
       "      <td>Equal_Weight</td>\n",
       "      <td>15.182222</td>\n",
       "      <td>0.898889</td>\n",
       "      <td>1.493333</td>\n",
       "    </tr>\n",
       "    <tr>\n",
       "      <th>4</th>\n",
       "      <td>2</td>\n",
       "      <td>Inverse_Volatility</td>\n",
       "      <td>16.136667</td>\n",
       "      <td>0.955556</td>\n",
       "      <td>1.591111</td>\n",
       "    </tr>\n",
       "    <tr>\n",
       "      <th>5</th>\n",
       "      <td>2</td>\n",
       "      <td>Top3</td>\n",
       "      <td>7.302222</td>\n",
       "      <td>0.522222</td>\n",
       "      <td>1.008889</td>\n",
       "    </tr>\n",
       "    <tr>\n",
       "      <th>6</th>\n",
       "      <td>3</td>\n",
       "      <td>Equal_Weight</td>\n",
       "      <td>-2.690000</td>\n",
       "      <td>0.444000</td>\n",
       "      <td>0.694000</td>\n",
       "    </tr>\n",
       "    <tr>\n",
       "      <th>7</th>\n",
       "      <td>3</td>\n",
       "      <td>Inverse_Volatility</td>\n",
       "      <td>-2.868000</td>\n",
       "      <td>0.456000</td>\n",
       "      <td>0.708000</td>\n",
       "    </tr>\n",
       "    <tr>\n",
       "      <th>8</th>\n",
       "      <td>3</td>\n",
       "      <td>Top3</td>\n",
       "      <td>5.806000</td>\n",
       "      <td>0.734000</td>\n",
       "      <td>1.276000</td>\n",
       "    </tr>\n",
       "    <tr>\n",
       "      <th>9</th>\n",
       "      <td>4</td>\n",
       "      <td>Equal_Weight</td>\n",
       "      <td>9.625000</td>\n",
       "      <td>0.760000</td>\n",
       "      <td>1.372500</td>\n",
       "    </tr>\n",
       "    <tr>\n",
       "      <th>10</th>\n",
       "      <td>4</td>\n",
       "      <td>Inverse_Volatility</td>\n",
       "      <td>9.695000</td>\n",
       "      <td>0.715000</td>\n",
       "      <td>1.330000</td>\n",
       "    </tr>\n",
       "    <tr>\n",
       "      <th>11</th>\n",
       "      <td>4</td>\n",
       "      <td>Top3</td>\n",
       "      <td>6.917500</td>\n",
       "      <td>0.532500</td>\n",
       "      <td>0.947500</td>\n",
       "    </tr>\n",
       "    <tr>\n",
       "      <th>12</th>\n",
       "      <td>5</td>\n",
       "      <td>Equal_Weight</td>\n",
       "      <td>11.722500</td>\n",
       "      <td>0.825000</td>\n",
       "      <td>1.287500</td>\n",
       "    </tr>\n",
       "    <tr>\n",
       "      <th>13</th>\n",
       "      <td>5</td>\n",
       "      <td>Inverse_Volatility</td>\n",
       "      <td>10.250000</td>\n",
       "      <td>0.827500</td>\n",
       "      <td>1.325000</td>\n",
       "    </tr>\n",
       "    <tr>\n",
       "      <th>14</th>\n",
       "      <td>5</td>\n",
       "      <td>Top3</td>\n",
       "      <td>16.430000</td>\n",
       "      <td>0.835000</td>\n",
       "      <td>1.395000</td>\n",
       "    </tr>\n",
       "    <tr>\n",
       "      <th>15</th>\n",
       "      <td>6</td>\n",
       "      <td>Equal_Weight</td>\n",
       "      <td>17.454444</td>\n",
       "      <td>1.463333</td>\n",
       "      <td>2.555556</td>\n",
       "    </tr>\n",
       "    <tr>\n",
       "      <th>16</th>\n",
       "      <td>6</td>\n",
       "      <td>Inverse_Volatility</td>\n",
       "      <td>17.067000</td>\n",
       "      <td>1.445000</td>\n",
       "      <td>2.510000</td>\n",
       "    </tr>\n",
       "    <tr>\n",
       "      <th>17</th>\n",
       "      <td>6</td>\n",
       "      <td>Top3</td>\n",
       "      <td>22.848750</td>\n",
       "      <td>1.273750</td>\n",
       "      <td>2.385000</td>\n",
       "    </tr>\n",
       "    <tr>\n",
       "      <th>18</th>\n",
       "      <td>7</td>\n",
       "      <td>Equal_Weight</td>\n",
       "      <td>32.490000</td>\n",
       "      <td>1.350000</td>\n",
       "      <td>2.140000</td>\n",
       "    </tr>\n",
       "    <tr>\n",
       "      <th>19</th>\n",
       "      <td>7</td>\n",
       "      <td>Inverse_Volatility</td>\n",
       "      <td>37.280000</td>\n",
       "      <td>1.540000</td>\n",
       "      <td>2.460000</td>\n",
       "    </tr>\n",
       "    <tr>\n",
       "      <th>20</th>\n",
       "      <td>7</td>\n",
       "      <td>Top3</td>\n",
       "      <td>63.650000</td>\n",
       "      <td>2.330000</td>\n",
       "      <td>4.030000</td>\n",
       "    </tr>\n",
       "    <tr>\n",
       "      <th>21</th>\n",
       "      <td>8</td>\n",
       "      <td>Equal_Weight</td>\n",
       "      <td>1.780000</td>\n",
       "      <td>0.080000</td>\n",
       "      <td>0.233333</td>\n",
       "    </tr>\n",
       "    <tr>\n",
       "      <th>22</th>\n",
       "      <td>8</td>\n",
       "      <td>Inverse_Volatility</td>\n",
       "      <td>3.753333</td>\n",
       "      <td>0.203333</td>\n",
       "      <td>0.450000</td>\n",
       "    </tr>\n",
       "    <tr>\n",
       "      <th>23</th>\n",
       "      <td>8</td>\n",
       "      <td>Top3</td>\n",
       "      <td>24.795000</td>\n",
       "      <td>0.900000</td>\n",
       "      <td>1.970000</td>\n",
       "    </tr>\n",
       "  </tbody>\n",
       "</table>\n",
       "</div>"
      ],
      "text/plain": [
       "    Interest Rate       strategy_name       cagr    sharpe   sortino\n",
       "0               1        Equal_Weight  12.674000  1.038000  1.726000\n",
       "1               1  Inverse_Volatility  11.890000  0.996000  1.652000\n",
       "2               1                Top3  12.292000  0.992000  1.678000\n",
       "3               2        Equal_Weight  15.182222  0.898889  1.493333\n",
       "4               2  Inverse_Volatility  16.136667  0.955556  1.591111\n",
       "5               2                Top3   7.302222  0.522222  1.008889\n",
       "6               3        Equal_Weight  -2.690000  0.444000  0.694000\n",
       "7               3  Inverse_Volatility  -2.868000  0.456000  0.708000\n",
       "8               3                Top3   5.806000  0.734000  1.276000\n",
       "9               4        Equal_Weight   9.625000  0.760000  1.372500\n",
       "10              4  Inverse_Volatility   9.695000  0.715000  1.330000\n",
       "11              4                Top3   6.917500  0.532500  0.947500\n",
       "12              5        Equal_Weight  11.722500  0.825000  1.287500\n",
       "13              5  Inverse_Volatility  10.250000  0.827500  1.325000\n",
       "14              5                Top3  16.430000  0.835000  1.395000\n",
       "15              6        Equal_Weight  17.454444  1.463333  2.555556\n",
       "16              6  Inverse_Volatility  17.067000  1.445000  2.510000\n",
       "17              6                Top3  22.848750  1.273750  2.385000\n",
       "18              7        Equal_Weight  32.490000  1.350000  2.140000\n",
       "19              7  Inverse_Volatility  37.280000  1.540000  2.460000\n",
       "20              7                Top3  63.650000  2.330000  4.030000\n",
       "21              8        Equal_Weight   1.780000  0.080000  0.233333\n",
       "22              8  Inverse_Volatility   3.753333  0.203333  0.450000\n",
       "23              8                Top3  24.795000  0.900000  1.970000"
      ]
     },
     "execution_count": 36,
     "metadata": {},
     "output_type": "execute_result"
    }
   ],
   "source": [
    "interest_rate_stock_analysis_df"
   ]
  },
  {
   "cell_type": "code",
   "execution_count": 37,
   "id": "8fc205f6",
   "metadata": {
    "pycharm": {
     "name": "#%%\n"
    }
   },
   "outputs": [],
   "source": [
    "interest_master_data = usa_interest_data.copy()\n",
    "interest_master_data[\"Interest Rate\"] = interest_master_data[\"InterestRates\"].apply(lambda x: int(x))\n",
    "interest_master_data.drop(columns=[\"InterestRates\"], inplace=True)"
   ]
  },
  {
   "cell_type": "code",
   "execution_count": 38,
   "id": "918444af",
   "metadata": {
    "pycharm": {
     "name": "#%%\n"
    }
   },
   "outputs": [
    {
     "data": {
      "text/html": [
       "<div>\n",
       "<style scoped>\n",
       "    .dataframe tbody tr th:only-of-type {\n",
       "        vertical-align: middle;\n",
       "    }\n",
       "\n",
       "    .dataframe tbody tr th {\n",
       "        vertical-align: top;\n",
       "    }\n",
       "\n",
       "    .dataframe thead th {\n",
       "        text-align: right;\n",
       "    }\n",
       "</style>\n",
       "<table border=\"1\" class=\"dataframe\">\n",
       "  <thead>\n",
       "    <tr style=\"text-align: right;\">\n",
       "      <th></th>\n",
       "      <th>Year</th>\n",
       "      <th>Interest Rate</th>\n",
       "      <th>strategy_name</th>\n",
       "      <th>cagr</th>\n",
       "      <th>sharpe</th>\n",
       "      <th>sortino</th>\n",
       "    </tr>\n",
       "  </thead>\n",
       "  <tbody>\n",
       "    <tr>\n",
       "      <th>0</th>\n",
       "      <td>1980</td>\n",
       "      <td>5</td>\n",
       "      <td>Equal_Weight</td>\n",
       "      <td>11.7225</td>\n",
       "      <td>0.8250</td>\n",
       "      <td>1.2875</td>\n",
       "    </tr>\n",
       "    <tr>\n",
       "      <th>1</th>\n",
       "      <td>1980</td>\n",
       "      <td>5</td>\n",
       "      <td>Inverse_Volatility</td>\n",
       "      <td>10.2500</td>\n",
       "      <td>0.8275</td>\n",
       "      <td>1.3250</td>\n",
       "    </tr>\n",
       "    <tr>\n",
       "      <th>2</th>\n",
       "      <td>1980</td>\n",
       "      <td>5</td>\n",
       "      <td>Top3</td>\n",
       "      <td>16.4300</td>\n",
       "      <td>0.8350</td>\n",
       "      <td>1.3950</td>\n",
       "    </tr>\n",
       "    <tr>\n",
       "      <th>3</th>\n",
       "      <td>1987</td>\n",
       "      <td>5</td>\n",
       "      <td>Equal_Weight</td>\n",
       "      <td>11.7225</td>\n",
       "      <td>0.8250</td>\n",
       "      <td>1.2875</td>\n",
       "    </tr>\n",
       "    <tr>\n",
       "      <th>4</th>\n",
       "      <td>1987</td>\n",
       "      <td>5</td>\n",
       "      <td>Inverse_Volatility</td>\n",
       "      <td>10.2500</td>\n",
       "      <td>0.8275</td>\n",
       "      <td>1.3250</td>\n",
       "    </tr>\n",
       "    <tr>\n",
       "      <th>...</th>\n",
       "      <td>...</td>\n",
       "      <td>...</td>\n",
       "      <td>...</td>\n",
       "      <td>...</td>\n",
       "      <td>...</td>\n",
       "      <td>...</td>\n",
       "    </tr>\n",
       "    <tr>\n",
       "      <th>118</th>\n",
       "      <td>2013</td>\n",
       "      <td>1</td>\n",
       "      <td>Inverse_Volatility</td>\n",
       "      <td>11.8900</td>\n",
       "      <td>0.9960</td>\n",
       "      <td>1.6520</td>\n",
       "    </tr>\n",
       "    <tr>\n",
       "      <th>119</th>\n",
       "      <td>2013</td>\n",
       "      <td>1</td>\n",
       "      <td>Top3</td>\n",
       "      <td>12.2920</td>\n",
       "      <td>0.9920</td>\n",
       "      <td>1.6780</td>\n",
       "    </tr>\n",
       "    <tr>\n",
       "      <th>120</th>\n",
       "      <td>2014</td>\n",
       "      <td>1</td>\n",
       "      <td>Equal_Weight</td>\n",
       "      <td>12.6740</td>\n",
       "      <td>1.0380</td>\n",
       "      <td>1.7260</td>\n",
       "    </tr>\n",
       "    <tr>\n",
       "      <th>121</th>\n",
       "      <td>2014</td>\n",
       "      <td>1</td>\n",
       "      <td>Inverse_Volatility</td>\n",
       "      <td>11.8900</td>\n",
       "      <td>0.9960</td>\n",
       "      <td>1.6520</td>\n",
       "    </tr>\n",
       "    <tr>\n",
       "      <th>122</th>\n",
       "      <td>2014</td>\n",
       "      <td>1</td>\n",
       "      <td>Top3</td>\n",
       "      <td>12.2920</td>\n",
       "      <td>0.9920</td>\n",
       "      <td>1.6780</td>\n",
       "    </tr>\n",
       "  </tbody>\n",
       "</table>\n",
       "<p>123 rows × 6 columns</p>\n",
       "</div>"
      ],
      "text/plain": [
       "     Year  Interest Rate       strategy_name     cagr  sharpe  sortino\n",
       "0    1980              5        Equal_Weight  11.7225  0.8250   1.2875\n",
       "1    1980              5  Inverse_Volatility  10.2500  0.8275   1.3250\n",
       "2    1980              5                Top3  16.4300  0.8350   1.3950\n",
       "3    1987              5        Equal_Weight  11.7225  0.8250   1.2875\n",
       "4    1987              5  Inverse_Volatility  10.2500  0.8275   1.3250\n",
       "..    ...            ...                 ...      ...     ...      ...\n",
       "118  2013              1  Inverse_Volatility  11.8900  0.9960   1.6520\n",
       "119  2013              1                Top3  12.2920  0.9920   1.6780\n",
       "120  2014              1        Equal_Weight  12.6740  1.0380   1.7260\n",
       "121  2014              1  Inverse_Volatility  11.8900  0.9960   1.6520\n",
       "122  2014              1                Top3  12.2920  0.9920   1.6780\n",
       "\n",
       "[123 rows x 6 columns]"
      ]
     },
     "execution_count": 38,
     "metadata": {},
     "output_type": "execute_result"
    }
   ],
   "source": [
    "interest_rate_stock_analysis_df = pd.merge(interest_master_data, \n",
    "             interest_rate_stock_analysis_df,\n",
    "             on=['Interest Rate']\n",
    "            )\n",
    "interest_rate_stock_analysis_df"
   ]
  },
  {
   "cell_type": "code",
   "execution_count": 39,
   "id": "cb8c3c5f",
   "metadata": {
    "pycharm": {
     "name": "#%%\n"
    }
   },
   "outputs": [
    {
     "name": "stdout",
     "output_type": "stream",
     "text": [
      "CAGR by choosing the best strategy based on Interest Rates -> 17.284207%\n"
     ]
    }
   ],
   "source": [
    "interest_max_returns_df = pd.pivot_table(interest_rate_stock_analysis_df, values=['cagr'], index=['Year'],\n",
    "                   aggfunc={'cagr': max})\n",
    "# Calculate the CAGR Returns based on Interest Rate Based Strategy\n",
    "interest_rate_strategy_cagr = interest_max_returns_df['cagr'].mean()\n",
    "print('CAGR by choosing the best strategy based on Interest Rates -> %2F%%' \n",
    "      % interest_rate_strategy_cagr)"
   ]
  },
  {
   "cell_type": "markdown",
   "id": "58bce1f9",
   "metadata": {
    "pycharm": {
     "name": "#%% md\n"
    }
   },
   "source": [
    "## Inflation Based Trading Strategy"
   ]
  },
  {
   "cell_type": "code",
   "execution_count": 40,
   "id": "a54e0609",
   "metadata": {
    "pycharm": {
     "name": "#%%\n"
    }
   },
   "outputs": [],
   "source": [
    "def inflation_based_strategy_computation(strategies, target_inflation_metric = -1):\n",
    "    \n",
    "    if target_inflation_metric == 8:\n",
    "        # We don't have data Inflation @ 8. \n",
    "        # Inflation 9 - unique data case so letz set inflation metric to 10\n",
    "        computed_target_inflation_metric = 10\n",
    "    else:\n",
    "        computed_target_inflation_metric = target_inflation_metric\n",
    "    \n",
    "    # Initialize empty lists\n",
    "    lst_inflation = []\n",
    "    lst_year = []\n",
    "    lst_cagr = []\n",
    "    lst_sharpe = []\n",
    "    lst_sortino = []\n",
    "    lst_strategy = []\n",
    "\n",
    "    for bt_strategy in strategies:\n",
    "        \n",
    "        target_year_list = []\n",
    "        if target_inflation_metric == -1:\n",
    "            target_year_list = range(1974, 2022)\n",
    "        else:\n",
    "            inflation_from, inflation_to = int(computed_target_inflation_metric), round(computed_target_inflation_metric)\n",
    "            if(inflation_from == inflation_to):\n",
    "                inflation_to = inflation_from + 1\n",
    "\n",
    "            # Target Years Based on the Interest Rates\n",
    "            target_years = year_wise_df[year_wise_df['Inflation'].between(inflation_from, inflation_to)][\n",
    "                'Year'].sort_values(ascending=False)\n",
    "            target_year_list = target_years.to_list()\n",
    "        \n",
    "\n",
    "        # Run a loop across target\n",
    "        for yr in target_years:\n",
    "            start_date = str(yr) + '-01-01'\n",
    "            end_date = str((yr+1)) + '-01-01'\n",
    "            \n",
    "            try:\n",
    "                                            \n",
    "                if (bt_strategy.name == 'Top3'):\n",
    "                    top3codes = usa_inflation_interest_df[usa_inflation_interest_df['Year']==yr]['Top3'].to_string(index=False)\n",
    "                    price_data = bt.get(top3codes, start=start_date, end=end_date)\n",
    "                else:\n",
    "                    price_data = fetch_price_data_range(index_tickers, start_date, end_date)\n",
    "\n",
    "                bt_backtest = bt.Backtest(bt_strategy, price_data)\n",
    "                bt_res = bt.run(bt_backtest)\n",
    "\n",
    "                #bt_res.plot(title=\"Index Equal Weight Strategy\")\n",
    "                #plt.show()\n",
    "\n",
    "                bt_stats = bt_res.stats\n",
    "                lst_inflation.append(target_inflation_metric)\n",
    "                lst_strategy.append(bt_strategy.name)\n",
    "\n",
    "\n",
    "                lst_year.append(yr)\n",
    "                lst_cagr.append(round(bt_stats.loc['cagr'][bt_strategy.name] * 100, 2))\n",
    "                lst_sharpe.append(round(bt_stats.loc['daily_sharpe'][bt_strategy.name], 2))\n",
    "                lst_sortino.append(round(bt_stats.loc['daily_sortino'][bt_strategy.name], 2))\n",
    "            \n",
    "            except:\n",
    "                print('Error ', yr, ' - ', bt_strategy.name)\n",
    "\n",
    "    return pd.DataFrame(list(zip(lst_inflation, lst_strategy, lst_year, lst_cagr, lst_sharpe, lst_sortino)),\n",
    "                     columns=['Inflation', 'strategy_name', 'year', 'cagr', 'sharpe', 'sortino'])\n"
   ]
  },
  {
   "cell_type": "code",
   "execution_count": 41,
   "id": "3e349633",
   "metadata": {
    "pycharm": {
     "name": "#%%\n"
    }
   },
   "outputs": [],
   "source": [
    "def inflation_rate_stock_parameters():\n",
    "    inflation_strategy_df = pd.DataFrame(columns=['Inflation', 'strategy_name', 'year', 'cagr', 'sharpe', 'sortino'])\n",
    "    for item in range(1, 12):\n",
    "        df2 = inflation_based_strategy_computation(strategy_lst, item)\n",
    "        inflation_strategy_df = pd.concat([inflation_strategy_df, df2])\n",
    "    # Inflation Strategy Dataframe\n",
    "    inflation_strategy_df = pd.pivot_table(inflation_strategy_df, values=['cagr', 'sharpe', 'sortino'], index=['Inflation', 'strategy_name'],\n",
    "                    aggfunc={'cagr': np.mean,\n",
    "                             'sharpe': np.mean,\n",
    "                             'sortino': np.mean\n",
    "                            }).reset_index()\n",
    "    return inflation_strategy_df\n"
   ]
  },
  {
   "cell_type": "code",
   "execution_count": 42,
   "id": "256a3d6f",
   "metadata": {
    "pycharm": {
     "name": "#%%\n"
    }
   },
   "outputs": [],
   "source": [
    "inflation_rate_stock_analysis_df = inflation_rate_stock_parameters()\n",
    "\n",
    "equal_weight_strategy_df = inflation_rate_stock_analysis_df[inflation_rate_stock_analysis_df['strategy_name'] == 'Equal_Weight']\n",
    "inverse_volatility_strategy_df = inflation_rate_stock_analysis_df[inflation_rate_stock_analysis_df['strategy_name'] == 'Inverse_Volatility']\n",
    "top3_strategy_df = inflation_rate_stock_analysis_df[inflation_rate_stock_analysis_df['strategy_name'] == 'Top3']\n"
   ]
  },
  {
   "cell_type": "code",
   "execution_count": 43,
   "id": "5f0d4c0e",
   "metadata": {
    "pycharm": {
     "name": "#%%\n"
    }
   },
   "outputs": [
    {
     "data": {
      "text/html": [
       "<div>\n",
       "<style scoped>\n",
       "    .dataframe tbody tr th:only-of-type {\n",
       "        vertical-align: middle;\n",
       "    }\n",
       "\n",
       "    .dataframe tbody tr th {\n",
       "        vertical-align: top;\n",
       "    }\n",
       "\n",
       "    .dataframe thead th {\n",
       "        text-align: right;\n",
       "    }\n",
       "</style>\n",
       "<table border=\"1\" class=\"dataframe\">\n",
       "  <thead>\n",
       "    <tr style=\"text-align: right;\">\n",
       "      <th></th>\n",
       "      <th>Inflation</th>\n",
       "      <th>strategy_name</th>\n",
       "      <th>cagr</th>\n",
       "      <th>sharpe</th>\n",
       "      <th>sortino</th>\n",
       "    </tr>\n",
       "  </thead>\n",
       "  <tbody>\n",
       "    <tr>\n",
       "      <th>0</th>\n",
       "      <td>1</td>\n",
       "      <td>Equal_Weight</td>\n",
       "      <td>15.854444</td>\n",
       "      <td>1.035556</td>\n",
       "      <td>1.617778</td>\n",
       "    </tr>\n",
       "    <tr>\n",
       "      <th>1</th>\n",
       "      <td>1</td>\n",
       "      <td>Inverse_Volatility</td>\n",
       "      <td>16.646667</td>\n",
       "      <td>1.095556</td>\n",
       "      <td>1.714444</td>\n",
       "    </tr>\n",
       "    <tr>\n",
       "      <th>2</th>\n",
       "      <td>1</td>\n",
       "      <td>Top3</td>\n",
       "      <td>19.440000</td>\n",
       "      <td>1.183333</td>\n",
       "      <td>2.000000</td>\n",
       "    </tr>\n",
       "    <tr>\n",
       "      <th>3</th>\n",
       "      <td>2</td>\n",
       "      <td>Equal_Weight</td>\n",
       "      <td>16.365385</td>\n",
       "      <td>1.172308</td>\n",
       "      <td>1.989231</td>\n",
       "    </tr>\n",
       "    <tr>\n",
       "      <th>4</th>\n",
       "      <td>2</td>\n",
       "      <td>Inverse_Volatility</td>\n",
       "      <td>14.263846</td>\n",
       "      <td>1.103846</td>\n",
       "      <td>1.880000</td>\n",
       "    </tr>\n",
       "    <tr>\n",
       "      <th>5</th>\n",
       "      <td>2</td>\n",
       "      <td>Top3</td>\n",
       "      <td>16.921538</td>\n",
       "      <td>1.125385</td>\n",
       "      <td>2.053077</td>\n",
       "    </tr>\n",
       "  </tbody>\n",
       "</table>\n",
       "</div>"
      ],
      "text/plain": [
       "   Inflation       strategy_name       cagr    sharpe   sortino\n",
       "0          1        Equal_Weight  15.854444  1.035556  1.617778\n",
       "1          1  Inverse_Volatility  16.646667  1.095556  1.714444\n",
       "2          1                Top3  19.440000  1.183333  2.000000\n",
       "3          2        Equal_Weight  16.365385  1.172308  1.989231\n",
       "4          2  Inverse_Volatility  14.263846  1.103846  1.880000\n",
       "5          2                Top3  16.921538  1.125385  2.053077"
      ]
     },
     "execution_count": 43,
     "metadata": {},
     "output_type": "execute_result"
    }
   ],
   "source": [
    "inflation_rate_stock_analysis_df.head(6)"
   ]
  },
  {
   "cell_type": "code",
   "execution_count": 44,
   "id": "12555de3",
   "metadata": {
    "pycharm": {
     "name": "#%%\n"
    }
   },
   "outputs": [
    {
     "data": {
      "image/png": "[encoded data removed]",
      "text/plain": [
       "<Figure size 864x576 with 1 Axes>"
      ]
     },
     "metadata": {},
     "output_type": "display_data"
    }
   ],
   "source": [
    "with plt.style.context('seaborn-whitegrid'):\n",
    "    plt.figure(figsize=(12,8))\n",
    "    plt.plot(equal_weight_strategy_df['Inflation'], \n",
    "             equal_weight_strategy_df['cagr'], \n",
    "             label='Equal_Weight')\n",
    "    plt.plot(inverse_volatility_strategy_df['Inflation'], \n",
    "             inverse_volatility_strategy_df['cagr'], \n",
    "             label='Inverse_Volatility')\n",
    "    plt.plot(top3_strategy_df['Inflation'], \n",
    "             top3_strategy_df['cagr'], \n",
    "             label='Top 3 Strategy')\n",
    "    plt.xlabel('Interest Rates')\n",
    "    plt.ylabel('CAGR')\n",
    "    plt.title('Interest Rates Vs CAGR')\n",
    "    plt.legend()\n",
    "plt.show()"
   ]
  },
  {
   "cell_type": "code",
   "execution_count": 45,
   "id": "977c4e3f",
   "metadata": {
    "pycharm": {
     "name": "#%%\n"
    }
   },
   "outputs": [
    {
     "data": {
      "image/png": "[encoded data removed]",
      "text/plain": [
       "<Figure size 864x360 with 2 Axes>"
      ]
     },
     "metadata": {
      "needs_background": "light"
     },
     "output_type": "display_data"
    }
   ],
   "source": [
    "plot_heatmap(equal_weight_strategy_df, ['Inflation'], ['cagr'], 'Equal Weight Strategy - Inflation Rate Vs CAGR')\n"
   ]
  },
  {
   "cell_type": "code",
   "execution_count": 46,
   "id": "04db4d7d",
   "metadata": {
    "pycharm": {
     "name": "#%%\n"
    }
   },
   "outputs": [
    {
     "data": {
      "image/png": "[encoded data removed]",
      "text/plain": [
       "<Figure size 864x360 with 2 Axes>"
      ]
     },
     "metadata": {
      "needs_background": "light"
     },
     "output_type": "display_data"
    }
   ],
   "source": [
    "plot_heatmap(inverse_volatility_strategy_df, ['Inflation'], ['cagr'], 'Inverse Volatility Strategy - Inflation Rate Vs CAGR')\n"
   ]
  },
  {
   "cell_type": "code",
   "execution_count": 47,
   "id": "58baed07",
   "metadata": {
    "pycharm": {
     "name": "#%%\n"
    }
   },
   "outputs": [
    {
     "data": {
      "image/png": "[encoded data removed]",
      "text/plain": [
       "<Figure size 864x360 with 2 Axes>"
      ]
     },
     "metadata": {
      "needs_background": "light"
     },
     "output_type": "display_data"
    }
   ],
   "source": [
    "plot_heatmap(top3_strategy_df, ['Inflation'], ['cagr'], 'Top5 Strategy - Inflation Rate Vs CAGR')\n"
   ]
  },
  {
   "cell_type": "code",
   "execution_count": 48,
   "id": "f337f184",
   "metadata": {
    "pycharm": {
     "name": "#%%\n"
    }
   },
   "outputs": [
    {
     "data": {
      "image/png": "[encoded data removed]",
      "text/plain": [
       "<Figure size 864x432 with 1 Axes>"
      ]
     },
     "metadata": {},
     "output_type": "display_data"
    }
   ],
   "source": [
    "with plt.style.context('seaborn-whitegrid'):\n",
    "\n",
    "    plt.figure(figsize=(12,6))\n",
    "\n",
    "    barWidth = 0.25\n",
    "\n",
    "    plt.bar(equal_weight_strategy_df['Inflation'], \n",
    "            equal_weight_strategy_df['cagr'],\n",
    "            edgecolor ='gray',\n",
    "            color='g', width=barWidth,\n",
    "            label='Equal Weight Strategy')\n",
    "    plt.bar(inverse_volatility_strategy_df['Inflation'], \n",
    "            inverse_volatility_strategy_df['cagr'],\n",
    "            edgecolor ='gray',\n",
    "            color='b', width=barWidth,\n",
    "            label='Inverse Volatility Strategy')\n",
    "    plt.bar(top3_strategy_df['Inflation'], \n",
    "            top3_strategy_df['cagr'],\n",
    "            edgecolor ='gray',\n",
    "            color='gray', width=barWidth,\n",
    "            label='Top 5 Strategy')\n",
    "    plt.legend()\n",
    "\n",
    "plt.show()"
   ]
  },
  {
   "cell_type": "code",
   "execution_count": 49,
   "id": "2a6d87d2",
   "metadata": {
    "pycharm": {
     "name": "#%%\n"
    }
   },
   "outputs": [
    {
     "data": {
      "text/html": [
       "<div>\n",
       "<style scoped>\n",
       "    .dataframe tbody tr th:only-of-type {\n",
       "        vertical-align: middle;\n",
       "    }\n",
       "\n",
       "    .dataframe tbody tr th {\n",
       "        vertical-align: top;\n",
       "    }\n",
       "\n",
       "    .dataframe thead th {\n",
       "        text-align: right;\n",
       "    }\n",
       "</style>\n",
       "<table border=\"1\" class=\"dataframe\">\n",
       "  <thead>\n",
       "    <tr style=\"text-align: right;\">\n",
       "      <th></th>\n",
       "      <th>Year</th>\n",
       "      <th>Inflation</th>\n",
       "    </tr>\n",
       "    <tr>\n",
       "      <th>Country Code</th>\n",
       "      <th></th>\n",
       "      <th></th>\n",
       "    </tr>\n",
       "  </thead>\n",
       "  <tbody>\n",
       "    <tr>\n",
       "      <th>USA</th>\n",
       "      <td>1980</td>\n",
       "      <td>13</td>\n",
       "    </tr>\n",
       "    <tr>\n",
       "      <th>USA</th>\n",
       "      <td>1981</td>\n",
       "      <td>10</td>\n",
       "    </tr>\n",
       "    <tr>\n",
       "      <th>USA</th>\n",
       "      <td>1982</td>\n",
       "      <td>6</td>\n",
       "    </tr>\n",
       "    <tr>\n",
       "      <th>USA</th>\n",
       "      <td>1983</td>\n",
       "      <td>3</td>\n",
       "    </tr>\n",
       "    <tr>\n",
       "      <th>USA</th>\n",
       "      <td>1984</td>\n",
       "      <td>4</td>\n",
       "    </tr>\n",
       "    <tr>\n",
       "      <th>USA</th>\n",
       "      <td>1985</td>\n",
       "      <td>3</td>\n",
       "    </tr>\n",
       "    <tr>\n",
       "      <th>USA</th>\n",
       "      <td>1986</td>\n",
       "      <td>1</td>\n",
       "    </tr>\n",
       "    <tr>\n",
       "      <th>USA</th>\n",
       "      <td>1987</td>\n",
       "      <td>3</td>\n",
       "    </tr>\n",
       "    <tr>\n",
       "      <th>USA</th>\n",
       "      <td>1988</td>\n",
       "      <td>4</td>\n",
       "    </tr>\n",
       "    <tr>\n",
       "      <th>USA</th>\n",
       "      <td>1989</td>\n",
       "      <td>4</td>\n",
       "    </tr>\n",
       "    <tr>\n",
       "      <th>USA</th>\n",
       "      <td>1990</td>\n",
       "      <td>5</td>\n",
       "    </tr>\n",
       "    <tr>\n",
       "      <th>USA</th>\n",
       "      <td>1991</td>\n",
       "      <td>4</td>\n",
       "    </tr>\n",
       "    <tr>\n",
       "      <th>USA</th>\n",
       "      <td>1992</td>\n",
       "      <td>3</td>\n",
       "    </tr>\n",
       "    <tr>\n",
       "      <th>USA</th>\n",
       "      <td>1993</td>\n",
       "      <td>2</td>\n",
       "    </tr>\n",
       "    <tr>\n",
       "      <th>USA</th>\n",
       "      <td>1994</td>\n",
       "      <td>2</td>\n",
       "    </tr>\n",
       "    <tr>\n",
       "      <th>USA</th>\n",
       "      <td>1995</td>\n",
       "      <td>2</td>\n",
       "    </tr>\n",
       "    <tr>\n",
       "      <th>USA</th>\n",
       "      <td>1996</td>\n",
       "      <td>2</td>\n",
       "    </tr>\n",
       "    <tr>\n",
       "      <th>USA</th>\n",
       "      <td>1997</td>\n",
       "      <td>2</td>\n",
       "    </tr>\n",
       "    <tr>\n",
       "      <th>USA</th>\n",
       "      <td>1998</td>\n",
       "      <td>1</td>\n",
       "    </tr>\n",
       "    <tr>\n",
       "      <th>USA</th>\n",
       "      <td>1999</td>\n",
       "      <td>2</td>\n",
       "    </tr>\n",
       "    <tr>\n",
       "      <th>USA</th>\n",
       "      <td>2000</td>\n",
       "      <td>3</td>\n",
       "    </tr>\n",
       "    <tr>\n",
       "      <th>USA</th>\n",
       "      <td>2001</td>\n",
       "      <td>2</td>\n",
       "    </tr>\n",
       "    <tr>\n",
       "      <th>USA</th>\n",
       "      <td>2002</td>\n",
       "      <td>1</td>\n",
       "    </tr>\n",
       "    <tr>\n",
       "      <th>USA</th>\n",
       "      <td>2003</td>\n",
       "      <td>2</td>\n",
       "    </tr>\n",
       "    <tr>\n",
       "      <th>USA</th>\n",
       "      <td>2004</td>\n",
       "      <td>2</td>\n",
       "    </tr>\n",
       "    <tr>\n",
       "      <th>USA</th>\n",
       "      <td>2005</td>\n",
       "      <td>3</td>\n",
       "    </tr>\n",
       "    <tr>\n",
       "      <th>USA</th>\n",
       "      <td>2006</td>\n",
       "      <td>3</td>\n",
       "    </tr>\n",
       "    <tr>\n",
       "      <th>USA</th>\n",
       "      <td>2007</td>\n",
       "      <td>2</td>\n",
       "    </tr>\n",
       "    <tr>\n",
       "      <th>USA</th>\n",
       "      <td>2008</td>\n",
       "      <td>3</td>\n",
       "    </tr>\n",
       "    <tr>\n",
       "      <th>USA</th>\n",
       "      <td>2009</td>\n",
       "      <td>0</td>\n",
       "    </tr>\n",
       "    <tr>\n",
       "      <th>USA</th>\n",
       "      <td>2010</td>\n",
       "      <td>1</td>\n",
       "    </tr>\n",
       "    <tr>\n",
       "      <th>USA</th>\n",
       "      <td>2011</td>\n",
       "      <td>3</td>\n",
       "    </tr>\n",
       "    <tr>\n",
       "      <th>USA</th>\n",
       "      <td>2012</td>\n",
       "      <td>2</td>\n",
       "    </tr>\n",
       "    <tr>\n",
       "      <th>USA</th>\n",
       "      <td>2013</td>\n",
       "      <td>1</td>\n",
       "    </tr>\n",
       "    <tr>\n",
       "      <th>USA</th>\n",
       "      <td>2014</td>\n",
       "      <td>1</td>\n",
       "    </tr>\n",
       "    <tr>\n",
       "      <th>USA</th>\n",
       "      <td>2015</td>\n",
       "      <td>0</td>\n",
       "    </tr>\n",
       "    <tr>\n",
       "      <th>USA</th>\n",
       "      <td>2016</td>\n",
       "      <td>1</td>\n",
       "    </tr>\n",
       "    <tr>\n",
       "      <th>USA</th>\n",
       "      <td>2017</td>\n",
       "      <td>2</td>\n",
       "    </tr>\n",
       "    <tr>\n",
       "      <th>USA</th>\n",
       "      <td>2018</td>\n",
       "      <td>2</td>\n",
       "    </tr>\n",
       "    <tr>\n",
       "      <th>USA</th>\n",
       "      <td>2019</td>\n",
       "      <td>1</td>\n",
       "    </tr>\n",
       "    <tr>\n",
       "      <th>USA</th>\n",
       "      <td>2020</td>\n",
       "      <td>1</td>\n",
       "    </tr>\n",
       "    <tr>\n",
       "      <th>USA</th>\n",
       "      <td>2021</td>\n",
       "      <td>4</td>\n",
       "    </tr>\n",
       "  </tbody>\n",
       "</table>\n",
       "</div>"
      ],
      "text/plain": [
       "              Year  Inflation\n",
       "Country Code                 \n",
       "USA           1980         13\n",
       "USA           1981         10\n",
       "USA           1982          6\n",
       "USA           1983          3\n",
       "USA           1984          4\n",
       "USA           1985          3\n",
       "USA           1986          1\n",
       "USA           1987          3\n",
       "USA           1988          4\n",
       "USA           1989          4\n",
       "USA           1990          5\n",
       "USA           1991          4\n",
       "USA           1992          3\n",
       "USA           1993          2\n",
       "USA           1994          2\n",
       "USA           1995          2\n",
       "USA           1996          2\n",
       "USA           1997          2\n",
       "USA           1998          1\n",
       "USA           1999          2\n",
       "USA           2000          3\n",
       "USA           2001          2\n",
       "USA           2002          1\n",
       "USA           2003          2\n",
       "USA           2004          2\n",
       "USA           2005          3\n",
       "USA           2006          3\n",
       "USA           2007          2\n",
       "USA           2008          3\n",
       "USA           2009          0\n",
       "USA           2010          1\n",
       "USA           2011          3\n",
       "USA           2012          2\n",
       "USA           2013          1\n",
       "USA           2014          1\n",
       "USA           2015          0\n",
       "USA           2016          1\n",
       "USA           2017          2\n",
       "USA           2018          2\n",
       "USA           2019          1\n",
       "USA           2020          1\n",
       "USA           2021          4"
      ]
     },
     "execution_count": 49,
     "metadata": {},
     "output_type": "execute_result"
    }
   ],
   "source": [
    "inflation_master_data = usa_inflation_data.copy()\n",
    "inflation_master_data.Inflation = inflation_master_data.Inflation.astype(\"int\")\n",
    "inflation_master_data"
   ]
  },
  {
   "cell_type": "code",
   "execution_count": 50,
   "id": "003869f5",
   "metadata": {
    "pycharm": {
     "name": "#%%\n"
    }
   },
   "outputs": [
    {
     "data": {
      "text/html": [
       "<div>\n",
       "<style scoped>\n",
       "    .dataframe tbody tr th:only-of-type {\n",
       "        vertical-align: middle;\n",
       "    }\n",
       "\n",
       "    .dataframe tbody tr th {\n",
       "        vertical-align: top;\n",
       "    }\n",
       "\n",
       "    .dataframe thead th {\n",
       "        text-align: right;\n",
       "    }\n",
       "</style>\n",
       "<table border=\"1\" class=\"dataframe\">\n",
       "  <thead>\n",
       "    <tr style=\"text-align: right;\">\n",
       "      <th></th>\n",
       "      <th>Year</th>\n",
       "      <th>Inflation</th>\n",
       "      <th>strategy_name</th>\n",
       "      <th>cagr</th>\n",
       "      <th>sharpe</th>\n",
       "      <th>sortino</th>\n",
       "    </tr>\n",
       "  </thead>\n",
       "  <tbody>\n",
       "    <tr>\n",
       "      <th>0</th>\n",
       "      <td>1981</td>\n",
       "      <td>10</td>\n",
       "      <td>Equal_Weight</td>\n",
       "      <td>-6.940000</td>\n",
       "      <td>-0.530000</td>\n",
       "      <td>-0.790000</td>\n",
       "    </tr>\n",
       "    <tr>\n",
       "      <th>1</th>\n",
       "      <td>1981</td>\n",
       "      <td>10</td>\n",
       "      <td>Inverse_Volatility</td>\n",
       "      <td>-4.430000</td>\n",
       "      <td>-0.330000</td>\n",
       "      <td>-0.500000</td>\n",
       "    </tr>\n",
       "    <tr>\n",
       "      <th>2</th>\n",
       "      <td>1981</td>\n",
       "      <td>10</td>\n",
       "      <td>Top3</td>\n",
       "      <td>-8.890000</td>\n",
       "      <td>-0.450000</td>\n",
       "      <td>-0.840000</td>\n",
       "    </tr>\n",
       "    <tr>\n",
       "      <th>3</th>\n",
       "      <td>1982</td>\n",
       "      <td>6</td>\n",
       "      <td>Equal_Weight</td>\n",
       "      <td>17.000000</td>\n",
       "      <td>1.120000</td>\n",
       "      <td>2.140000</td>\n",
       "    </tr>\n",
       "    <tr>\n",
       "      <th>4</th>\n",
       "      <td>1982</td>\n",
       "      <td>6</td>\n",
       "      <td>Inverse_Volatility</td>\n",
       "      <td>23.250000</td>\n",
       "      <td>1.550000</td>\n",
       "      <td>2.990000</td>\n",
       "    </tr>\n",
       "    <tr>\n",
       "      <th>...</th>\n",
       "      <td>...</td>\n",
       "      <td>...</td>\n",
       "      <td>...</td>\n",
       "      <td>...</td>\n",
       "      <td>...</td>\n",
       "      <td>...</td>\n",
       "    </tr>\n",
       "    <tr>\n",
       "      <th>112</th>\n",
       "      <td>2017</td>\n",
       "      <td>2</td>\n",
       "      <td>Inverse_Volatility</td>\n",
       "      <td>14.263846</td>\n",
       "      <td>1.103846</td>\n",
       "      <td>1.880000</td>\n",
       "    </tr>\n",
       "    <tr>\n",
       "      <th>113</th>\n",
       "      <td>2017</td>\n",
       "      <td>2</td>\n",
       "      <td>Top3</td>\n",
       "      <td>16.921538</td>\n",
       "      <td>1.125385</td>\n",
       "      <td>2.053077</td>\n",
       "    </tr>\n",
       "    <tr>\n",
       "      <th>114</th>\n",
       "      <td>2018</td>\n",
       "      <td>2</td>\n",
       "      <td>Equal_Weight</td>\n",
       "      <td>16.365385</td>\n",
       "      <td>1.172308</td>\n",
       "      <td>1.989231</td>\n",
       "    </tr>\n",
       "    <tr>\n",
       "      <th>115</th>\n",
       "      <td>2018</td>\n",
       "      <td>2</td>\n",
       "      <td>Inverse_Volatility</td>\n",
       "      <td>14.263846</td>\n",
       "      <td>1.103846</td>\n",
       "      <td>1.880000</td>\n",
       "    </tr>\n",
       "    <tr>\n",
       "      <th>116</th>\n",
       "      <td>2018</td>\n",
       "      <td>2</td>\n",
       "      <td>Top3</td>\n",
       "      <td>16.921538</td>\n",
       "      <td>1.125385</td>\n",
       "      <td>2.053077</td>\n",
       "    </tr>\n",
       "  </tbody>\n",
       "</table>\n",
       "<p>117 rows × 6 columns</p>\n",
       "</div>"
      ],
      "text/plain": [
       "     Year  Inflation       strategy_name       cagr    sharpe   sortino\n",
       "0    1981         10        Equal_Weight  -6.940000 -0.530000 -0.790000\n",
       "1    1981         10  Inverse_Volatility  -4.430000 -0.330000 -0.500000\n",
       "2    1981         10                Top3  -8.890000 -0.450000 -0.840000\n",
       "3    1982          6        Equal_Weight  17.000000  1.120000  2.140000\n",
       "4    1982          6  Inverse_Volatility  23.250000  1.550000  2.990000\n",
       "..    ...        ...                 ...        ...       ...       ...\n",
       "112  2017          2  Inverse_Volatility  14.263846  1.103846  1.880000\n",
       "113  2017          2                Top3  16.921538  1.125385  2.053077\n",
       "114  2018          2        Equal_Weight  16.365385  1.172308  1.989231\n",
       "115  2018          2  Inverse_Volatility  14.263846  1.103846  1.880000\n",
       "116  2018          2                Top3  16.921538  1.125385  2.053077\n",
       "\n",
       "[117 rows x 6 columns]"
      ]
     },
     "execution_count": 50,
     "metadata": {},
     "output_type": "execute_result"
    }
   ],
   "source": [
    "inflation_rate_stock_analysis_df = pd.merge(inflation_master_data, \n",
    "             inflation_rate_stock_analysis_df,\n",
    "             on=['Inflation']\n",
    "            )\n",
    "inflation_rate_stock_analysis_df"
   ]
  },
  {
   "cell_type": "code",
   "execution_count": 51,
   "id": "0647eee0",
   "metadata": {
    "pycharm": {
     "name": "#%%\n"
    }
   },
   "outputs": [
    {
     "name": "stdout",
     "output_type": "stream",
     "text": [
      "CAGR by choosing the best strategy based on Inflation Rates - 16.296026%\n"
     ]
    }
   ],
   "source": [
    "inflation_inflation_returns_df = pd.pivot_table(inflation_rate_stock_analysis_df, values=['cagr'], index=['Year'],\n",
    "                   aggfunc={'cagr': max})\n",
    "inflation_rate_strategy_cagr = inflation_inflation_returns_df['cagr'].mean()\n",
    "print('CAGR by choosing the best strategy based on Inflation Rates - %2F%%' \n",
    "      % inflation_rate_strategy_cagr)"
   ]
  },
  {
   "cell_type": "markdown",
   "id": "89880127",
   "metadata": {
    "pycharm": {
     "name": "#%% md\n"
    }
   },
   "source": [
    "## Direct Market Investment"
   ]
  },
  {
   "cell_type": "code",
   "execution_count": 52,
   "id": "3326c22f",
   "metadata": {
    "pycharm": {
     "name": "#%%\n"
    }
   },
   "outputs": [],
   "source": [
    "def backtest_stats(btresults, strategy_name):\n",
    "    \n",
    "    header(strategy_name)\n",
    "    \n",
    "    # Obtain all backtest stats\n",
    "    resInfo = btresults.stats\n",
    "\n",
    "    # Get daily, monthly, and yearly returns\n",
    "    #print('Daily return: %.4f'% resInfo.loc['daily_mean'].iloc[0])\n",
    "    #print('Monthly return: %.4f'% resInfo.loc['monthly_mean'].iloc[0])\n",
    "    #print('Yearly return: %.4f'% resInfo.loc['yearly_mean'].iloc[0])\n",
    "    \n",
    "    # Get the compound annual growth rate\n",
    "    #print('Daily Sharpe Ratio: %.2f'% resInfo.loc['daily_sharpe'].iloc[0])\n",
    "    divider()\n",
    "    print('Compound annual growth rate: %.2f%%'% round(resInfo.loc['cagr'].iloc[0]*100, 2))\n",
    "    divider()\n",
    "\n",
    "\n"
   ]
  },
  {
   "cell_type": "code",
   "execution_count": 53,
   "id": "7cc5489e",
   "metadata": {
    "pycharm": {
     "name": "#%%\n"
    }
   },
   "outputs": [
    {
     "data": {
      "text/html": [
       "<div>\n",
       "<style scoped>\n",
       "    .dataframe tbody tr th:only-of-type {\n",
       "        vertical-align: middle;\n",
       "    }\n",
       "\n",
       "    .dataframe tbody tr th {\n",
       "        vertical-align: top;\n",
       "    }\n",
       "\n",
       "    .dataframe thead th {\n",
       "        text-align: right;\n",
       "    }\n",
       "</style>\n",
       "<table border=\"1\" class=\"dataframe\">\n",
       "  <thead>\n",
       "    <tr style=\"text-align: right;\">\n",
       "      <th></th>\n",
       "      <th>SP500</th>\n",
       "      <th>Nasdaq</th>\n",
       "      <th>year</th>\n",
       "    </tr>\n",
       "    <tr>\n",
       "      <th>Date</th>\n",
       "      <th></th>\n",
       "      <th></th>\n",
       "      <th></th>\n",
       "    </tr>\n",
       "  </thead>\n",
       "  <tbody>\n",
       "    <tr>\n",
       "      <th>1980-12-31</th>\n",
       "      <td>118.710118</td>\n",
       "      <td>168.608379</td>\n",
       "      <td>1980.0</td>\n",
       "    </tr>\n",
       "    <tr>\n",
       "      <th>1981-12-31</th>\n",
       "      <td>128.037905</td>\n",
       "      <td>203.182371</td>\n",
       "      <td>1981.0</td>\n",
       "    </tr>\n",
       "    <tr>\n",
       "      <th>1982-12-31</th>\n",
       "      <td>119.705732</td>\n",
       "      <td>188.972886</td>\n",
       "      <td>1982.0</td>\n",
       "    </tr>\n",
       "    <tr>\n",
       "      <th>1983-12-31</th>\n",
       "      <td>160.473122</td>\n",
       "      <td>285.427786</td>\n",
       "      <td>1983.0</td>\n",
       "    </tr>\n",
       "    <tr>\n",
       "      <th>1984-12-31</th>\n",
       "      <td>160.463557</td>\n",
       "      <td>248.977707</td>\n",
       "      <td>1984.0</td>\n",
       "    </tr>\n",
       "  </tbody>\n",
       "</table>\n",
       "</div>"
      ],
      "text/plain": [
       "                 SP500      Nasdaq    year\n",
       "Date                                      \n",
       "1980-12-31  118.710118  168.608379  1980.0\n",
       "1981-12-31  128.037905  203.182371  1981.0\n",
       "1982-12-31  119.705732  188.972886  1982.0\n",
       "1983-12-31  160.473122  285.427786  1983.0\n",
       "1984-12-31  160.463557  248.977707  1984.0"
      ]
     },
     "execution_count": 53,
     "metadata": {},
     "output_type": "execute_result"
    }
   ],
   "source": [
    "# Daily Price Data for Index Tickers\n",
    "daily_price_data = bt.get(index_tickers, start = start_date)\n",
    "# Yearly Price Data for Index Tickers\n",
    "yearly_price_data = daily_price_data.resample(\"y\").mean()\n",
    "yearly_price_data.head(5)"
   ]
  },
  {
   "cell_type": "code",
   "execution_count": 54,
   "id": "3ecc369e",
   "metadata": {
    "pycharm": {
     "name": "#%%\n"
    }
   },
   "outputs": [
    {
     "data": {
      "image/png": "[encoded data removed]",
      "text/plain": [
       "<Figure size 864x432 with 1 Axes>"
      ]
     },
     "metadata": {
      "needs_background": "light"
     },
     "output_type": "display_data"
    }
   ],
   "source": [
    "plt.figure(figsize=(12,6))\n",
    "plt.bar(yearly_price_data['year'], \n",
    "        yearly_price_data['SP500'],\n",
    "        label=\"SP 500\")\n",
    "plt.title(\"Stock Prices Over the Years\")\n",
    "plt.ylabel(\"Stock Quote\")\n",
    "plt.legend()\n",
    "plt.show()"
   ]
  },
  {
   "cell_type": "code",
   "execution_count": 55,
   "id": "631c430a",
   "metadata": {
    "pycharm": {
     "name": "#%%\n"
    }
   },
   "outputs": [
    {
     "data": {
      "image/png": "[encoded data removed]",
      "text/plain": [
       "<Figure size 1080x360 with 1 Axes>"
      ]
     },
     "metadata": {
      "needs_background": "light"
     },
     "output_type": "display_data"
    }
   ],
   "source": [
    "### Applying Strategies over complete Market Data\n",
    "bt_backtest_equal = bt.Backtest(strategy_lst[0], price_data)\n",
    "bt_backtest_inv = bt.Backtest(strategy_lst[1], price_data)\n",
    "\n",
    "bt_results = bt.run(bt_backtest_equal, bt_backtest_inv)\n",
    "\n",
    "bt_results.plot(title=\"Equal Weight vs Inverse Volatility\")\n",
    "\n",
    "plt.show()"
   ]
  },
  {
   "cell_type": "code",
   "execution_count": 56,
   "id": "1048e992",
   "metadata": {
    "pycharm": {
     "name": "#%%\n"
    }
   },
   "outputs": [
    {
     "name": "stdout",
     "output_type": "stream",
     "text": [
      "<Strategy Equal_Weight>\n",
      "--------------\n",
      "Compound annual growth rate: 6.98%\n",
      "--------------\n",
      "<Strategy Inverse_Volatility>\n",
      "--------------\n",
      "Compound annual growth rate: 7.39%\n",
      "--------------\n"
     ]
    }
   ],
   "source": [
    "backtest_stats(bt.run(bt_backtest_equal), strategy_lst[0])\n",
    "backtest_stats(bt.run(bt_backtest_inv), strategy_lst[1])"
   ]
  },
  {
   "cell_type": "markdown",
   "id": "dba20607",
   "metadata": {
    "pycharm": {
     "name": "#%% md\n"
    }
   },
   "source": [
    "## CAGR (Market, Interest Rate & Inflation Rate Strategy)"
   ]
  },
  {
   "cell_type": "markdown",
   "id": "15291f2c",
   "metadata": {
    "pycharm": {
     "name": "#%% md\n"
    }
   },
   "source": [
    "In this project we completed an extensive analysis comparing the direct market trades and \n",
    "Interest based Strategies and Inflation based Strategies.<br/>\n",
    "\n",
    "### Comparative Study\n",
    "For Trades with SP500 & Nasdaq, simple strategies\n",
    "Direct Market Equal Weight Strategy run monthly yields a CAGR of 6.14%<br/>\n",
    "Inverse Volatility Strategy run weekly yields as CAGR of 6.23%<br/>\n",
    "Our Strategies has a potential to yield above market returns over a long term and let's plot the final results <br/>\n",
    "However our interest rate strategy and inflation rate strategy yield better results. Let's plot our data\n"
   ]
  },
  {
   "cell_type": "code",
   "execution_count": 57,
   "id": "f7fdd2b5",
   "metadata": {
    "pycharm": {
     "name": "#%%\n"
    }
   },
   "outputs": [],
   "source": [
    "#interest_rate_strategy_cagr, inflation_rate_strategy_cagr"
   ]
  },
  {
   "cell_type": "code",
   "execution_count": 59,
   "id": "d9f8fd93",
   "metadata": {},
   "outputs": [
    {
     "data": {
      "image/png": "[encoded data removed]",
      "text/plain": [
       "<Figure size 432x288 with 1 Axes>"
      ]
     },
     "metadata": {
      "needs_background": "light"
     },
     "output_type": "display_data"
    }
   ],
   "source": [
    "st_returns = [('Simple',6.23),('Interest Rate Stgy',interest_rate_strategy_cagr),('Inflation Rate Stgy',inflation_rate_strategy_cagr)]\n",
    "\n",
    "labels, ys = zip(*st_returns)\n",
    "xs = np.arange(len(labels)) \n",
    "width = 0.5\n",
    "\n",
    "plt.title(\"Returns Across Strategies\")\n",
    "plt.bar(xs, ys, width, align='center')\n",
    "\n",
    "plt.xticks(xs, labels) #Replace default x-ticks with xs, then replace xs with labels\n",
    "plt.yticks(ys)\n",
    "\n",
    "plt.show()"
   ]
  },
  {
   "cell_type": "markdown",
   "id": "132b0898",
   "metadata": {},
   "source": [
    "Our Recommendation is going to be combination strategy across interest rate and inflation rate strategies,\n",
    "however both of our strategies beats the market rates hands down"
   ]
  },
  {
   "cell_type": "code",
   "execution_count": null,
   "id": "7b655138",
   "metadata": {},
   "outputs": [],
   "source": []
  }
 ],
 "metadata": {
  "kernelspec": {
   "display_name": "Python 3 (ipykernel)",
   "language": "python",
   "name": "python3"
  },
  "language_info": {
   "codemirror_mode": {
    "name": "ipython",
    "version": 3
   },
   "file_extension": ".py",
   "mimetype": "text/x-python",
   "name": "python",
   "nbconvert_exporter": "python",
   "pygments_lexer": "ipython3",
   "version": "3.9.12"
  }
 },
 "nbformat": 4,
 "nbformat_minor": 5
}
