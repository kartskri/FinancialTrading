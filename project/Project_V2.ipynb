{
 "cells": [
  {
   "cell_type": "code",
   "execution_count": 43,
   "id": "252c574e",
   "metadata": {},
   "outputs": [],
   "source": [
    "import pandas as pd\n",
    "import bt\n",
    "import matplotlib\n",
    "import matplotlib.pyplot as plt\n",
    "import seaborn as sns\n",
    "import numpy as np\n",
    "import talib"
   ]
  },
  {
   "cell_type": "code",
   "execution_count": 2,
   "id": "f5f030cf",
   "metadata": {},
   "outputs": [],
   "source": [
    "import warnings\n",
    "warnings.filterwarnings('ignore')\n",
    "%matplotlib inline"
   ]
  },
  {
   "cell_type": "code",
   "execution_count": 3,
   "id": "1e651bc0",
   "metadata": {},
   "outputs": [],
   "source": [
    "country_code = 'USA'"
   ]
  },
  {
   "cell_type": "markdown",
   "id": "f57757d0",
   "metadata": {},
   "source": [
    "## Alternate Dataset - Inflation Dataset\n",
    "Data Downloaded from \"https://data.worldbank.org/indicator/FR.INR.RINR?locations=US\" \n",
    "<br/>Loaded into a pandas dataset & Visualize the Inflation of United States over the years"
   ]
  },
  {
   "cell_type": "code",
   "execution_count": 4,
   "id": "1014c958",
   "metadata": {},
   "outputs": [],
   "source": [
    "# Inflation Data for all countries\n",
    "raw_inflation_data = pd.read_excel('./data/country_inflation_data.xls', skiprows=3)\n",
    "raw_inflation_data.drop(columns=['Country Name', 'Indicator Name', 'Indicator Code'], inplace=True)"
   ]
  },
  {
   "cell_type": "markdown",
   "id": "a98daa55",
   "metadata": {},
   "source": [
    "### Santize the data"
   ]
  },
  {
   "cell_type": "code",
   "execution_count": 5,
   "id": "ef150d9f",
   "metadata": {},
   "outputs": [
    {
     "data": {
      "text/html": [
       "<div>\n",
       "<style scoped>\n",
       "    .dataframe tbody tr th:only-of-type {\n",
       "        vertical-align: middle;\n",
       "    }\n",
       "\n",
       "    .dataframe tbody tr th {\n",
       "        vertical-align: top;\n",
       "    }\n",
       "\n",
       "    .dataframe thead th {\n",
       "        text-align: right;\n",
       "    }\n",
       "</style>\n",
       "<table border=\"1\" class=\"dataframe\">\n",
       "  <thead>\n",
       "    <tr style=\"text-align: right;\">\n",
       "      <th></th>\n",
       "      <th>Year</th>\n",
       "      <th>Inflation</th>\n",
       "    </tr>\n",
       "    <tr>\n",
       "      <th>Country Code</th>\n",
       "      <th></th>\n",
       "      <th></th>\n",
       "    </tr>\n",
       "  </thead>\n",
       "  <tbody>\n",
       "    <tr>\n",
       "      <th>VNM</th>\n",
       "      <td>2021</td>\n",
       "      <td>1.834716</td>\n",
       "    </tr>\n",
       "    <tr>\n",
       "      <th>WLD</th>\n",
       "      <td>2021</td>\n",
       "      <td>3.423629</td>\n",
       "    </tr>\n",
       "    <tr>\n",
       "      <th>WSM</th>\n",
       "      <td>2021</td>\n",
       "      <td>3.133205</td>\n",
       "    </tr>\n",
       "    <tr>\n",
       "      <th>XKX</th>\n",
       "      <td>2021</td>\n",
       "      <td>3.353691</td>\n",
       "    </tr>\n",
       "    <tr>\n",
       "      <th>ZAF</th>\n",
       "      <td>2021</td>\n",
       "      <td>4.611672</td>\n",
       "    </tr>\n",
       "  </tbody>\n",
       "</table>\n",
       "</div>"
      ],
      "text/plain": [
       "              Year  Inflation\n",
       "Country Code                 \n",
       "VNM           2021   1.834716\n",
       "WLD           2021   3.423629\n",
       "WSM           2021   3.133205\n",
       "XKX           2021   3.353691\n",
       "ZAF           2021   4.611672"
      ]
     },
     "execution_count": 5,
     "metadata": {},
     "output_type": "execute_result"
    }
   ],
   "source": [
    "# Structure the Data so that it can be interpreted easily\n",
    "df_inflation_data = pd.melt(raw_inflation_data, id_vars=['Country Code'], var_name=\"Year\", value_name=\"Inflation\")\n",
    "df_inflation_data.index = df_inflation_data['Country Code']\n",
    "df_inflation_data['Year'] = df_inflation_data['Year'].astype('int')\n",
    "df_inflation_data.drop(columns=['Country Code'], inplace=True)\n",
    "df_inflation_data.dropna(inplace=True)\n",
    "df_inflation_data.tail(5)"
   ]
  },
  {
   "cell_type": "markdown",
   "id": "1fdd248f",
   "metadata": {},
   "source": [
    "### Plot of US Inflation Over the Years"
   ]
  },
  {
   "cell_type": "code",
   "execution_count": 6,
   "id": "fccbb26f",
   "metadata": {},
   "outputs": [
    {
     "data": {
      "image/png": "[encoded data removed]",
      "text/plain": [
       "<Figure size 1080x432 with 1 Axes>"
      ]
     },
     "metadata": {
      "needs_background": "light"
     },
     "output_type": "display_data"
    }
   ],
   "source": [
    "plt.figure(figsize=(15,6))\n",
    "usa_inflation_data = df_inflation_data.loc[country_code][['Year','Inflation']]\n",
    "plt.title(\"USA Inflation over the years\")\n",
    "plt.xlabel('Years')\n",
    "plt.ylabel('Inflation Percentages')\n",
    "plt.scatter(data=usa_inflation_data, x='Year', y='Inflation', color='blue', alpha=0.6)\n",
    "plt.show()\n"
   ]
  },
  {
   "cell_type": "markdown",
   "id": "30acf6d2",
   "metadata": {},
   "source": [
    "## Interest Rates Dataset\n",
    "How has the Federal Reserve responded to the Inflationary Pressures?<br/>\n",
    "It can come evident from the interest rate dataset.<br/>\n",
    "Loading the interest rate database and visually Ploting them<br/>\n",
    "Data Downloaded from https://data.worldbank.org/indicator/FR.INR.RINR?locations=US\n"
   ]
  },
  {
   "cell_type": "code",
   "execution_count": 7,
   "id": "0b3a4378",
   "metadata": {},
   "outputs": [],
   "source": [
    "# Inflation Data for all countries\n",
    "raw_interest_data = pd.read_excel('./data/country_interest_rates.xls', skiprows=3)\n",
    "raw_interest_data.drop(columns=['Country Name', 'Indicator Name', 'Indicator Code'], inplace=True)"
   ]
  },
  {
   "cell_type": "markdown",
   "id": "0e177423",
   "metadata": {},
   "source": [
    "### Santize the data"
   ]
  },
  {
   "cell_type": "code",
   "execution_count": 8,
   "id": "1131a569",
   "metadata": {},
   "outputs": [
    {
     "data": {
      "text/html": [
       "<div>\n",
       "<style scoped>\n",
       "    .dataframe tbody tr th:only-of-type {\n",
       "        vertical-align: middle;\n",
       "    }\n",
       "\n",
       "    .dataframe tbody tr th {\n",
       "        vertical-align: top;\n",
       "    }\n",
       "\n",
       "    .dataframe thead th {\n",
       "        text-align: right;\n",
       "    }\n",
       "</style>\n",
       "<table border=\"1\" class=\"dataframe\">\n",
       "  <thead>\n",
       "    <tr style=\"text-align: right;\">\n",
       "      <th></th>\n",
       "      <th>Year</th>\n",
       "      <th>InterestRates</th>\n",
       "    </tr>\n",
       "    <tr>\n",
       "      <th>Country Code</th>\n",
       "      <th></th>\n",
       "      <th></th>\n",
       "    </tr>\n",
       "  </thead>\n",
       "  <tbody>\n",
       "    <tr>\n",
       "      <th>VUT</th>\n",
       "      <td>2020</td>\n",
       "      <td>0.277822</td>\n",
       "    </tr>\n",
       "    <tr>\n",
       "      <th>WSM</th>\n",
       "      <td>2020</td>\n",
       "      <td>8.471778</td>\n",
       "    </tr>\n",
       "    <tr>\n",
       "      <th>ZAF</th>\n",
       "      <td>2020</td>\n",
       "      <td>2.313127</td>\n",
       "    </tr>\n",
       "    <tr>\n",
       "      <th>ZMB</th>\n",
       "      <td>2020</td>\n",
       "      <td>-3.749081</td>\n",
       "    </tr>\n",
       "    <tr>\n",
       "      <th>ZWE</th>\n",
       "      <td>2020</td>\n",
       "      <td>-79.803157</td>\n",
       "    </tr>\n",
       "  </tbody>\n",
       "</table>\n",
       "</div>"
      ],
      "text/plain": [
       "              Year  InterestRates\n",
       "Country Code                     \n",
       "VUT           2020       0.277822\n",
       "WSM           2020       8.471778\n",
       "ZAF           2020       2.313127\n",
       "ZMB           2020      -3.749081\n",
       "ZWE           2020     -79.803157"
      ]
     },
     "execution_count": 8,
     "metadata": {},
     "output_type": "execute_result"
    }
   ],
   "source": [
    "# Structure the Data so that it can be interpreted easily\n",
    "df_interest_data = pd.melt(raw_interest_data, id_vars=['Country Code'], var_name=\"Year\", value_name=\"InterestRates\")\n",
    "df_interest_data.index = df_interest_data['Country Code']\n",
    "df_interest_data['Year'] = df_interest_data['Year'].astype('int')\n",
    "df_interest_data.drop(columns=['Country Code'], inplace=True)\n",
    "df_interest_data.dropna(inplace=True)\n",
    "df_interest_data.tail(5)"
   ]
  },
  {
   "cell_type": "code",
   "execution_count": 79,
   "id": "bd239947",
   "metadata": {},
   "outputs": [
    {
     "data": {
      "image/png": "[encoded data removed]",
      "text/plain": [
       "<Figure size 1080x432 with 1 Axes>"
      ]
     },
     "metadata": {
      "needs_background": "light"
     },
     "output_type": "display_data"
    }
   ],
   "source": [
    "# Inflation Data for USA\n",
    "plt.figure(figsize=(15,6))\n",
    "usa_interest_data = df_interest_data.loc[country_code][['Year','InterestRates']]\n",
    "plt.title(\"USA Interest Rates over the years\")\n",
    "plt.xlabel('Years')\n",
    "plt.ylabel('Interest Rates')\n",
    "plt.scatter(data=usa_interest_data, x='Year', y='InterestRates', color='green', alpha=0.6)\n",
    "plt.show()\n"
   ]
  },
  {
   "cell_type": "markdown",
   "id": "12216497",
   "metadata": {},
   "source": [
    "### Merge Inflation and Interest Rate Datasets \n",
    "Merging interest rates and inflation data in to a single dataframe so that we can fetch the correlation"
   ]
  },
  {
   "cell_type": "code",
   "execution_count": 10,
   "id": "ccd9ed33",
   "metadata": {},
   "outputs": [
    {
     "data": {
      "text/html": [
       "<div>\n",
       "<style scoped>\n",
       "    .dataframe tbody tr th:only-of-type {\n",
       "        vertical-align: middle;\n",
       "    }\n",
       "\n",
       "    .dataframe tbody tr th {\n",
       "        vertical-align: top;\n",
       "    }\n",
       "\n",
       "    .dataframe thead th {\n",
       "        text-align: right;\n",
       "    }\n",
       "</style>\n",
       "<table border=\"1\" class=\"dataframe\">\n",
       "  <thead>\n",
       "    <tr style=\"text-align: right;\">\n",
       "      <th></th>\n",
       "      <th>Inflation</th>\n",
       "      <th>InterestRates</th>\n",
       "      <th>Interest_Rate_Next_Year</th>\n",
       "    </tr>\n",
       "    <tr>\n",
       "      <th>Year</th>\n",
       "      <th></th>\n",
       "      <th></th>\n",
       "      <th></th>\n",
       "    </tr>\n",
       "  </thead>\n",
       "  <tbody>\n",
       "    <tr>\n",
       "      <th>2016</th>\n",
       "      <td>1.261583</td>\n",
       "      <td>2.436851</td>\n",
       "      <td>2.175694</td>\n",
       "    </tr>\n",
       "    <tr>\n",
       "      <th>2017</th>\n",
       "      <td>2.130110</td>\n",
       "      <td>2.175694</td>\n",
       "      <td>2.444494</td>\n",
       "    </tr>\n",
       "    <tr>\n",
       "      <th>2018</th>\n",
       "      <td>2.442583</td>\n",
       "      <td>2.444494</td>\n",
       "      <td>3.436010</td>\n",
       "    </tr>\n",
       "    <tr>\n",
       "      <th>2019</th>\n",
       "      <td>1.812210</td>\n",
       "      <td>3.436010</td>\n",
       "      <td>2.311111</td>\n",
       "    </tr>\n",
       "    <tr>\n",
       "      <th>2020</th>\n",
       "      <td>1.233584</td>\n",
       "      <td>2.311111</td>\n",
       "      <td>0.000000</td>\n",
       "    </tr>\n",
       "  </tbody>\n",
       "</table>\n",
       "</div>"
      ],
      "text/plain": [
       "      Inflation  InterestRates  Interest_Rate_Next_Year\n",
       "Year                                                   \n",
       "2016   1.261583       2.436851                 2.175694\n",
       "2017   2.130110       2.175694                 2.444494\n",
       "2018   2.442583       2.444494                 3.436010\n",
       "2019   1.812210       3.436010                 2.311111\n",
       "2020   1.233584       2.311111                 0.000000"
      ]
     },
     "execution_count": 10,
     "metadata": {},
     "output_type": "execute_result"
    }
   ],
   "source": [
    "usa_inflation_interest_df = pd.merge(usa_inflation_data, usa_interest_data, on=[\"Year\"])\n",
    "usa_inflation_interest_df.index = usa_inflation_interest_df['Year']\n",
    "usa_inflation_interest_df['Interest_Rate_Next_Year'] = usa_inflation_interest_df[\"Year\"].apply(lambda x: (usa_inflation_interest_df.loc[x+1][\"InterestRates\"]) if x < 2020 else 0.0)\n",
    "usa_inflation_interest_df = usa_inflation_interest_df.drop(columns=['Year'])\n",
    "usa_inflation_interest_df['Interest_Rate_Next_Year'] = usa_inflation_interest_df['Interest_Rate_Next_Year'].astype(\"float\")\n",
    "usa_inflation_interest_df.tail(5)\n"
   ]
  },
  {
   "cell_type": "code",
   "execution_count": 11,
   "id": "48048ab3",
   "metadata": {},
   "outputs": [
    {
     "data": {
      "text/html": [
       "<div>\n",
       "<style scoped>\n",
       "    .dataframe tbody tr th:only-of-type {\n",
       "        vertical-align: middle;\n",
       "    }\n",
       "\n",
       "    .dataframe tbody tr th {\n",
       "        vertical-align: top;\n",
       "    }\n",
       "\n",
       "    .dataframe thead th {\n",
       "        text-align: right;\n",
       "    }\n",
       "</style>\n",
       "<table border=\"1\" class=\"dataframe\">\n",
       "  <thead>\n",
       "    <tr style=\"text-align: right;\">\n",
       "      <th></th>\n",
       "      <th>Inflation</th>\n",
       "      <th>InterestRates</th>\n",
       "      <th>Interest_Rate_Next_Year</th>\n",
       "    </tr>\n",
       "  </thead>\n",
       "  <tbody>\n",
       "    <tr>\n",
       "      <th>Inflation</th>\n",
       "      <td>1.000000</td>\n",
       "      <td>0.076389</td>\n",
       "      <td>0.179262</td>\n",
       "    </tr>\n",
       "    <tr>\n",
       "      <th>InterestRates</th>\n",
       "      <td>0.076389</td>\n",
       "      <td>1.000000</td>\n",
       "      <td>0.856736</td>\n",
       "    </tr>\n",
       "    <tr>\n",
       "      <th>Interest_Rate_Next_Year</th>\n",
       "      <td>0.179262</td>\n",
       "      <td>0.856736</td>\n",
       "      <td>1.000000</td>\n",
       "    </tr>\n",
       "  </tbody>\n",
       "</table>\n",
       "</div>"
      ],
      "text/plain": [
       "                         Inflation  InterestRates  Interest_Rate_Next_Year\n",
       "Inflation                 1.000000       0.076389                 0.179262\n",
       "InterestRates             0.076389       1.000000                 0.856736\n",
       "Interest_Rate_Next_Year   0.179262       0.856736                 1.000000"
      ]
     },
     "execution_count": 11,
     "metadata": {},
     "output_type": "execute_result"
    }
   ],
   "source": [
    "inflation_interest_correlation = usa_inflation_interest_df.corr(method='pearson')\n",
    "inflation_interest_correlation"
   ]
  },
  {
   "cell_type": "code",
   "execution_count": 12,
   "id": "7b0ed5fd",
   "metadata": {},
   "outputs": [
    {
     "data": {
      "image/png": "[encoded data removed]",
      "text/plain": [
       "<Figure size 432x288 with 2 Axes>"
      ]
     },
     "metadata": {
      "needs_background": "light"
     },
     "output_type": "display_data"
    }
   ],
   "source": [
    "# Plot the heatmap signifying the correlation between Inflation & Interest Rates\n",
    "sns.heatmap(usa_inflation_interest_df[['Inflation', 'InterestRates']].corr())\n",
    "plt.show()"
   ]
  },
  {
   "cell_type": "markdown",
   "id": "16e7b339",
   "metadata": {},
   "source": [
    "### Correlation between interest rates and inflation\n",
    "\n",
    "We don't see a  string correlation between interest rates and inflation and infact we see some cases same side movement and in some cases an opposite movement as depicted in the graph below"
   ]
  },
  {
   "cell_type": "code",
   "execution_count": 13,
   "id": "b78acf07",
   "metadata": {},
   "outputs": [
    {
     "data": {
      "image/png": "[encoded data removed]",
      "text/plain": [
       "<Figure size 864x864 with 1 Axes>"
      ]
     },
     "metadata": {
      "needs_background": "light"
     },
     "output_type": "display_data"
    }
   ],
   "source": [
    "plt.figure(figsize=(12,12))\n",
    "plt.plot(usa_inflation_interest_df['Inflation'], color='red', label='Inflation Over the Years')\n",
    "plt.plot(usa_inflation_interest_df['InterestRates'], color='blue', label='Interest Rates Over the Years')\n",
    "plt.title(\"Interest Rates & Inflation over the Years\")\n",
    "plt.legend()\n",
    "plt.show()"
   ]
  },
  {
   "cell_type": "code",
   "execution_count": 83,
   "id": "3327c833",
   "metadata": {},
   "outputs": [
    {
     "data": {
      "text/html": [
       "<div>\n",
       "<style scoped>\n",
       "    .dataframe tbody tr th:only-of-type {\n",
       "        vertical-align: middle;\n",
       "    }\n",
       "\n",
       "    .dataframe tbody tr th {\n",
       "        vertical-align: top;\n",
       "    }\n",
       "\n",
       "    .dataframe thead th {\n",
       "        text-align: right;\n",
       "    }\n",
       "</style>\n",
       "<table border=\"1\" class=\"dataframe\">\n",
       "  <thead>\n",
       "    <tr style=\"text-align: right;\">\n",
       "      <th></th>\n",
       "      <th>Year</th>\n",
       "      <th>Inflation</th>\n",
       "      <th>InterestRates</th>\n",
       "      <th>Interest_Rate_Next_Year</th>\n",
       "      <th>Top5</th>\n",
       "    </tr>\n",
       "  </thead>\n",
       "  <tbody>\n",
       "    <tr>\n",
       "      <th>0</th>\n",
       "      <td>1989</td>\n",
       "      <td>4.827003</td>\n",
       "      <td>6.690687</td>\n",
       "      <td>6.039749</td>\n",
       "      <td>GM,F,XOM,IBM,GE</td>\n",
       "    </tr>\n",
       "    <tr>\n",
       "      <th>1</th>\n",
       "      <td>1990</td>\n",
       "      <td>5.397956</td>\n",
       "      <td>6.039749</td>\n",
       "      <td>4.915346</td>\n",
       "      <td>GM,F,XOM,IBM,GE</td>\n",
       "    </tr>\n",
       "    <tr>\n",
       "      <th>2</th>\n",
       "      <td>1991</td>\n",
       "      <td>4.234964</td>\n",
       "      <td>4.915346</td>\n",
       "      <td>3.884238</td>\n",
       "      <td>GM,F,XOM,IBM,GE</td>\n",
       "    </tr>\n",
       "    <tr>\n",
       "      <th>3</th>\n",
       "      <td>1992</td>\n",
       "      <td>3.028820</td>\n",
       "      <td>3.884238</td>\n",
       "      <td>3.545617</td>\n",
       "      <td>GM,F,XOM,IBM,GE</td>\n",
       "    </tr>\n",
       "    <tr>\n",
       "      <th>4</th>\n",
       "      <td>1993</td>\n",
       "      <td>2.951657</td>\n",
       "      <td>3.545617</td>\n",
       "      <td>4.898310</td>\n",
       "      <td>GM,F,XOM,IBM,GE</td>\n",
       "    </tr>\n",
       "    <tr>\n",
       "      <th>5</th>\n",
       "      <td>1994</td>\n",
       "      <td>2.607442</td>\n",
       "      <td>4.898310</td>\n",
       "      <td>6.593996</td>\n",
       "      <td>GM,F,XOM,IBM,GE</td>\n",
       "    </tr>\n",
       "    <tr>\n",
       "      <th>6</th>\n",
       "      <td>1995</td>\n",
       "      <td>2.805420</td>\n",
       "      <td>6.593996</td>\n",
       "      <td>6.324074</td>\n",
       "      <td>GM,F,XOM,IBM,GE</td>\n",
       "    </tr>\n",
       "    <tr>\n",
       "      <th>7</th>\n",
       "      <td>1996</td>\n",
       "      <td>2.931204</td>\n",
       "      <td>6.324074</td>\n",
       "      <td>6.536615</td>\n",
       "      <td>GM,F,XOM,IBM,GE</td>\n",
       "    </tr>\n",
       "    <tr>\n",
       "      <th>8</th>\n",
       "      <td>1997</td>\n",
       "      <td>2.337690</td>\n",
       "      <td>6.536615</td>\n",
       "      <td>7.148192</td>\n",
       "      <td>GM,F,XOM,IBM,GE</td>\n",
       "    </tr>\n",
       "    <tr>\n",
       "      <th>9</th>\n",
       "      <td>1998</td>\n",
       "      <td>1.552279</td>\n",
       "      <td>7.148192</td>\n",
       "      <td>6.457135</td>\n",
       "      <td>GM,F,XOM,IBM,GE</td>\n",
       "    </tr>\n",
       "    <tr>\n",
       "      <th>10</th>\n",
       "      <td>1999</td>\n",
       "      <td>2.188027</td>\n",
       "      <td>6.457135</td>\n",
       "      <td>6.844844</td>\n",
       "      <td>GM,F,XOM,IBM,GE</td>\n",
       "    </tr>\n",
       "    <tr>\n",
       "      <th>11</th>\n",
       "      <td>2000</td>\n",
       "      <td>3.376857</td>\n",
       "      <td>6.844844</td>\n",
       "      <td>4.626757</td>\n",
       "      <td>GM,F,XOM,IBM,GE</td>\n",
       "    </tr>\n",
       "    <tr>\n",
       "      <th>12</th>\n",
       "      <td>2001</td>\n",
       "      <td>2.826171</td>\n",
       "      <td>4.626757</td>\n",
       "      <td>3.045071</td>\n",
       "      <td>GM,F,XOM,IBM,GE</td>\n",
       "    </tr>\n",
       "    <tr>\n",
       "      <th>13</th>\n",
       "      <td>2002</td>\n",
       "      <td>1.586032</td>\n",
       "      <td>3.045071</td>\n",
       "      <td>2.224101</td>\n",
       "      <td>GM,F,XOM,IBM,GE</td>\n",
       "    </tr>\n",
       "    <tr>\n",
       "      <th>14</th>\n",
       "      <td>2003</td>\n",
       "      <td>2.270095</td>\n",
       "      <td>2.224101</td>\n",
       "      <td>1.604589</td>\n",
       "      <td>GM,F,XOM,IBM,GE</td>\n",
       "    </tr>\n",
       "    <tr>\n",
       "      <th>15</th>\n",
       "      <td>2004</td>\n",
       "      <td>2.677237</td>\n",
       "      <td>1.604589</td>\n",
       "      <td>2.981357</td>\n",
       "      <td>GM,F,XOM,IBM,GE</td>\n",
       "    </tr>\n",
       "    <tr>\n",
       "      <th>16</th>\n",
       "      <td>2005</td>\n",
       "      <td>3.392747</td>\n",
       "      <td>2.981357</td>\n",
       "      <td>4.786448</td>\n",
       "      <td>GM,F,XOM,IBM,GE</td>\n",
       "    </tr>\n",
       "    <tr>\n",
       "      <th>17</th>\n",
       "      <td>2006</td>\n",
       "      <td>3.225944</td>\n",
       "      <td>4.786448</td>\n",
       "      <td>5.223406</td>\n",
       "      <td>GM,F,XOM,IBM,GE</td>\n",
       "    </tr>\n",
       "    <tr>\n",
       "      <th>18</th>\n",
       "      <td>2007</td>\n",
       "      <td>2.852672</td>\n",
       "      <td>5.223406</td>\n",
       "      <td>3.082411</td>\n",
       "      <td>GM,F,XOM,IBM,GE</td>\n",
       "    </tr>\n",
       "    <tr>\n",
       "      <th>19</th>\n",
       "      <td>2008</td>\n",
       "      <td>3.839100</td>\n",
       "      <td>3.082411</td>\n",
       "      <td>2.468829</td>\n",
       "      <td>GM,F,XOM,IBM,GE</td>\n",
       "    </tr>\n",
       "    <tr>\n",
       "      <th>20</th>\n",
       "      <td>2009</td>\n",
       "      <td>-0.355546</td>\n",
       "      <td>2.468829</td>\n",
       "      <td>2.060737</td>\n",
       "      <td>GM,F,XOM,IBM,GE</td>\n",
       "    </tr>\n",
       "    <tr>\n",
       "      <th>21</th>\n",
       "      <td>2010</td>\n",
       "      <td>1.640043</td>\n",
       "      <td>2.060737</td>\n",
       "      <td>1.137338</td>\n",
       "      <td>GM,F,XOM,IBM,GE</td>\n",
       "    </tr>\n",
       "    <tr>\n",
       "      <th>22</th>\n",
       "      <td>2011</td>\n",
       "      <td>3.156842</td>\n",
       "      <td>1.137338</td>\n",
       "      <td>1.307083</td>\n",
       "      <td>GM,F,XOM,IBM,GE</td>\n",
       "    </tr>\n",
       "    <tr>\n",
       "      <th>23</th>\n",
       "      <td>2012</td>\n",
       "      <td>2.069337</td>\n",
       "      <td>1.307083</td>\n",
       "      <td>1.469299</td>\n",
       "      <td>GM,F,XOM,IBM,GE</td>\n",
       "    </tr>\n",
       "    <tr>\n",
       "      <th>24</th>\n",
       "      <td>2013</td>\n",
       "      <td>1.464833</td>\n",
       "      <td>1.469299</td>\n",
       "      <td>1.374742</td>\n",
       "      <td>GM,F,XOM,IBM,GE</td>\n",
       "    </tr>\n",
       "    <tr>\n",
       "      <th>25</th>\n",
       "      <td>2014</td>\n",
       "      <td>1.622223</td>\n",
       "      <td>1.374742</td>\n",
       "      <td>2.285696</td>\n",
       "      <td>GM,F,XOM,IBM,GE</td>\n",
       "    </tr>\n",
       "    <tr>\n",
       "      <th>26</th>\n",
       "      <td>2015</td>\n",
       "      <td>0.118627</td>\n",
       "      <td>2.285696</td>\n",
       "      <td>2.436851</td>\n",
       "      <td>GM,F,XOM,IBM,GE</td>\n",
       "    </tr>\n",
       "    <tr>\n",
       "      <th>27</th>\n",
       "      <td>2016</td>\n",
       "      <td>1.261583</td>\n",
       "      <td>2.436851</td>\n",
       "      <td>2.175694</td>\n",
       "      <td>GM,F,XOM,IBM,GE</td>\n",
       "    </tr>\n",
       "    <tr>\n",
       "      <th>28</th>\n",
       "      <td>2017</td>\n",
       "      <td>2.130110</td>\n",
       "      <td>2.175694</td>\n",
       "      <td>2.444494</td>\n",
       "      <td>GM,F,XOM,IBM,GE</td>\n",
       "    </tr>\n",
       "    <tr>\n",
       "      <th>29</th>\n",
       "      <td>2018</td>\n",
       "      <td>2.442583</td>\n",
       "      <td>2.444494</td>\n",
       "      <td>3.436010</td>\n",
       "      <td>GM,F,XOM,IBM,GE</td>\n",
       "    </tr>\n",
       "    <tr>\n",
       "      <th>30</th>\n",
       "      <td>2019</td>\n",
       "      <td>1.812210</td>\n",
       "      <td>3.436010</td>\n",
       "      <td>2.311111</td>\n",
       "      <td>GM,F,XOM,IBM,GE</td>\n",
       "    </tr>\n",
       "    <tr>\n",
       "      <th>31</th>\n",
       "      <td>2020</td>\n",
       "      <td>1.233584</td>\n",
       "      <td>2.311111</td>\n",
       "      <td>0.000000</td>\n",
       "      <td>GM,F,XOM,IBM,GE</td>\n",
       "    </tr>\n",
       "  </tbody>\n",
       "</table>\n",
       "</div>"
      ],
      "text/plain": [
       "    Year  Inflation  InterestRates  Interest_Rate_Next_Year             Top5\n",
       "0   1989   4.827003       6.690687                 6.039749  GM,F,XOM,IBM,GE\n",
       "1   1990   5.397956       6.039749                 4.915346  GM,F,XOM,IBM,GE\n",
       "2   1991   4.234964       4.915346                 3.884238  GM,F,XOM,IBM,GE\n",
       "3   1992   3.028820       3.884238                 3.545617  GM,F,XOM,IBM,GE\n",
       "4   1993   2.951657       3.545617                 4.898310  GM,F,XOM,IBM,GE\n",
       "5   1994   2.607442       4.898310                 6.593996  GM,F,XOM,IBM,GE\n",
       "6   1995   2.805420       6.593996                 6.324074  GM,F,XOM,IBM,GE\n",
       "7   1996   2.931204       6.324074                 6.536615  GM,F,XOM,IBM,GE\n",
       "8   1997   2.337690       6.536615                 7.148192  GM,F,XOM,IBM,GE\n",
       "9   1998   1.552279       7.148192                 6.457135  GM,F,XOM,IBM,GE\n",
       "10  1999   2.188027       6.457135                 6.844844  GM,F,XOM,IBM,GE\n",
       "11  2000   3.376857       6.844844                 4.626757  GM,F,XOM,IBM,GE\n",
       "12  2001   2.826171       4.626757                 3.045071  GM,F,XOM,IBM,GE\n",
       "13  2002   1.586032       3.045071                 2.224101  GM,F,XOM,IBM,GE\n",
       "14  2003   2.270095       2.224101                 1.604589  GM,F,XOM,IBM,GE\n",
       "15  2004   2.677237       1.604589                 2.981357  GM,F,XOM,IBM,GE\n",
       "16  2005   3.392747       2.981357                 4.786448  GM,F,XOM,IBM,GE\n",
       "17  2006   3.225944       4.786448                 5.223406  GM,F,XOM,IBM,GE\n",
       "18  2007   2.852672       5.223406                 3.082411  GM,F,XOM,IBM,GE\n",
       "19  2008   3.839100       3.082411                 2.468829  GM,F,XOM,IBM,GE\n",
       "20  2009  -0.355546       2.468829                 2.060737  GM,F,XOM,IBM,GE\n",
       "21  2010   1.640043       2.060737                 1.137338  GM,F,XOM,IBM,GE\n",
       "22  2011   3.156842       1.137338                 1.307083  GM,F,XOM,IBM,GE\n",
       "23  2012   2.069337       1.307083                 1.469299  GM,F,XOM,IBM,GE\n",
       "24  2013   1.464833       1.469299                 1.374742  GM,F,XOM,IBM,GE\n",
       "25  2014   1.622223       1.374742                 2.285696  GM,F,XOM,IBM,GE\n",
       "26  2015   0.118627       2.285696                 2.436851  GM,F,XOM,IBM,GE\n",
       "27  2016   1.261583       2.436851                 2.175694  GM,F,XOM,IBM,GE\n",
       "28  2017   2.130110       2.175694                 2.444494  GM,F,XOM,IBM,GE\n",
       "29  2018   2.442583       2.444494                 3.436010  GM,F,XOM,IBM,GE\n",
       "30  2019   1.812210       3.436010                 2.311111  GM,F,XOM,IBM,GE\n",
       "31  2020   1.233584       2.311111                 0.000000  GM,F,XOM,IBM,GE"
      ]
     },
     "execution_count": 83,
     "metadata": {},
     "output_type": "execute_result"
    }
   ],
   "source": [
    "# Top 5 Stocks\n",
    "raw_stocks_data = pd.read_excel('./data/sp500_historic_data.xlsx')\n",
    "usa_inflation_interest_df = pd.merge(usa_inflation_interest_df, raw_stocks_data, on=[\"Year\"])"
   ]
  },
  {
   "cell_type": "markdown",
   "id": "beda7722",
   "metadata": {},
   "source": [
    "## Constants"
   ]
  },
  {
   "cell_type": "code",
   "execution_count": 14,
   "id": "0b93c52c",
   "metadata": {},
   "outputs": [],
   "source": [
    "index_tickers = '^RUA, ^GSPC'\n",
    "index_ticker_column_mapper = {'gspc': 'SP500', 'rua': 'Russell3000'}\n",
    "target_inflation_metric = '7'\n",
    "start_date = '1988-01-01'"
   ]
  },
  {
   "cell_type": "markdown",
   "id": "65693f4e",
   "metadata": {},
   "source": [
    "## Indexes Investment Strategy\n",
    "### Allocating portfolio across S&P 500, Russell 3000 companies\n",
    "\n",
    "S&P 500 - Top 500 Companies in US Markets launched in 1923 tracking 90 stocks, expanded to 500 stocks from 1957\n",
    "RUA - Russell Top 3000 companies launched in 1984 tracks top 3000 companies"
   ]
  },
  {
   "cell_type": "code",
   "execution_count": 15,
   "id": "37f8497c",
   "metadata": {},
   "outputs": [],
   "source": [
    "def fetch_price_data(tickers, start_date):\n",
    "    raw_price_data = bt.get(tickers, start = start_date)\n",
    "    return raw_price_data"
   ]
  },
  {
   "cell_type": "code",
   "execution_count": 16,
   "id": "1ac328c4",
   "metadata": {},
   "outputs": [],
   "source": [
    "# Price Data for the two indices SP500 &Rusell 3000 index.\n",
    "price_data = fetch_price_data(index_tickers, start_date)\n",
    "price_data.rename(columns = index_ticker_column_mapper, inplace=True)"
   ]
  },
  {
   "cell_type": "code",
   "execution_count": 17,
   "id": "a459545a",
   "metadata": {},
   "outputs": [
    {
     "data": {
      "image/png": "[encoded data removed]",
      "text/plain": [
       "<Figure size 864x432 with 1 Axes>"
      ]
     },
     "metadata": {
      "needs_background": "light"
     },
     "output_type": "display_data"
    }
   ],
   "source": [
    "# Plot Price Data\n",
    "plt.figure(figsize=(12,6))\n",
    "plt.xlabel(\"Year\")\n",
    "plt.ylabel(\"Price Quote\")\n",
    "plt.title('Pricing Over the Years')\n",
    "plt.plot(price_data['SP500'], color='blue', label='SP 500')\n",
    "plt.plot(price_data['Russell3000'], color='green', label='Russell 3000')\n",
    "plt.legend()\n",
    "plt.show()"
   ]
  },
  {
   "cell_type": "markdown",
   "id": "3ef5bafb",
   "metadata": {},
   "source": [
    "### Merge Inflation, Interest Rates data with SP500 and Russell 3000 Pricing Data"
   ]
  },
  {
   "cell_type": "code",
   "execution_count": 18,
   "id": "a69a3fe6",
   "metadata": {},
   "outputs": [],
   "source": [
    "price_data['year'] = pd.DatetimeIndex(price_data.index).year\n",
    "year_wise_df = price_data.groupby(by='year').agg(\n",
    "    {'SP500' : 'mean', 'Russell3000': 'mean'})\n",
    "year_wise_df['Year'] = year_wise_df.index\n",
    "year_wise_df = pd.merge(usa_inflation_interest_df, \n",
    "                        year_wise_df, \n",
    "                        on=[\"Year\"])"
   ]
  },
  {
   "cell_type": "code",
   "execution_count": 19,
   "id": "69f2c21f",
   "metadata": {},
   "outputs": [
    {
     "data": {
      "text/html": [
       "<div>\n",
       "<style scoped>\n",
       "    .dataframe tbody tr th:only-of-type {\n",
       "        vertical-align: middle;\n",
       "    }\n",
       "\n",
       "    .dataframe tbody tr th {\n",
       "        vertical-align: top;\n",
       "    }\n",
       "\n",
       "    .dataframe thead th {\n",
       "        text-align: right;\n",
       "    }\n",
       "</style>\n",
       "<table border=\"1\" class=\"dataframe\">\n",
       "  <thead>\n",
       "    <tr style=\"text-align: right;\">\n",
       "      <th></th>\n",
       "      <th>Year</th>\n",
       "      <th>Inflation</th>\n",
       "      <th>InterestRates</th>\n",
       "      <th>Interest_Rate_Next_Year</th>\n",
       "      <th>SP500</th>\n",
       "      <th>Russell3000</th>\n",
       "    </tr>\n",
       "  </thead>\n",
       "  <tbody>\n",
       "    <tr>\n",
       "      <th>0</th>\n",
       "      <td>1988</td>\n",
       "      <td>4.077741</td>\n",
       "      <td>5.590382</td>\n",
       "      <td>6.690687</td>\n",
       "      <td>265.880158</td>\n",
       "      <td>151.341383</td>\n",
       "    </tr>\n",
       "    <tr>\n",
       "      <th>1</th>\n",
       "      <td>1989</td>\n",
       "      <td>4.827003</td>\n",
       "      <td>6.690687</td>\n",
       "      <td>6.039749</td>\n",
       "      <td>323.051429</td>\n",
       "      <td>182.767937</td>\n",
       "    </tr>\n",
       "    <tr>\n",
       "      <th>2</th>\n",
       "      <td>1990</td>\n",
       "      <td>5.397956</td>\n",
       "      <td>6.039749</td>\n",
       "      <td>4.915346</td>\n",
       "      <td>334.632056</td>\n",
       "      <td>184.698656</td>\n",
       "    </tr>\n",
       "    <tr>\n",
       "      <th>3</th>\n",
       "      <td>1991</td>\n",
       "      <td>4.234964</td>\n",
       "      <td>4.915346</td>\n",
       "      <td>3.884238</td>\n",
       "      <td>376.186324</td>\n",
       "      <td>209.323874</td>\n",
       "    </tr>\n",
       "    <tr>\n",
       "      <th>4</th>\n",
       "      <td>1992</td>\n",
       "      <td>3.028820</td>\n",
       "      <td>3.884238</td>\n",
       "      <td>3.545617</td>\n",
       "      <td>415.747008</td>\n",
       "      <td>234.955552</td>\n",
       "    </tr>\n",
       "  </tbody>\n",
       "</table>\n",
       "</div>"
      ],
      "text/plain": [
       "   Year  Inflation  InterestRates  Interest_Rate_Next_Year       SP500  \\\n",
       "0  1988   4.077741       5.590382                 6.690687  265.880158   \n",
       "1  1989   4.827003       6.690687                 6.039749  323.051429   \n",
       "2  1990   5.397956       6.039749                 4.915346  334.632056   \n",
       "3  1991   4.234964       4.915346                 3.884238  376.186324   \n",
       "4  1992   3.028820       3.884238                 3.545617  415.747008   \n",
       "\n",
       "   Russell3000  \n",
       "0   151.341383  \n",
       "1   182.767937  \n",
       "2   184.698656  \n",
       "3   209.323874  \n",
       "4   234.955552  "
      ]
     },
     "execution_count": 19,
     "metadata": {},
     "output_type": "execute_result"
    }
   ],
   "source": [
    "year_wise_df.head()"
   ]
  },
  {
   "cell_type": "code",
   "execution_count": 80,
   "id": "86e194c5",
   "metadata": {},
   "outputs": [
    {
     "data": {
      "image/png": "[encoded data removed]",
      "text/plain": [
       "<Figure size 864x432 with 2 Axes>"
      ]
     },
     "metadata": {
      "needs_background": "light"
     },
     "output_type": "display_data"
    }
   ],
   "source": [
    "fig, axs = plt.subplots(2, figsize=(12,6))\n",
    "fig.figsize = (24,25)\n",
    "fig.suptitle('SP500 - Russell 3000 Performance')\n",
    "axs[1].plot(year_wise_df['Year'], year_wise_df['SP500'], label='SP 500')\n",
    "axs[1].plot(year_wise_df['Year'], year_wise_df['Russell3000'], label='Russell 3000')\n",
    "axs[1].legend()\n",
    "axs[0].plot(year_wise_df['Year'], year_wise_df['Inflation'], label = 'Inflation')\n",
    "axs[0].plot(year_wise_df['Year'], year_wise_df['InterestRates'], label='Interest Rates')\n",
    "axs[0].legend()\n",
    "\n",
    "for ax in fig.get_axes():\n",
    "    ax.label_outer()\n",
    "plt.show()"
   ]
  },
  {
   "cell_type": "markdown",
   "id": "c7baa019",
   "metadata": {},
   "source": [
    "##### Graph Inference\n",
    "\n",
    "From the Graphs, we see a strong correlation with interest rates, inflation along \n",
    "the stock market movement. We can do a prediction of stock market direction infering\n",
    "from the inflation and interest rates movement."
   ]
  },
  {
   "cell_type": "markdown",
   "id": "93673f2b",
   "metadata": {},
   "source": [
    "### Trading Strategies"
   ]
  },
  {
   "cell_type": "markdown",
   "id": "79680f12",
   "metadata": {},
   "source": [
    "#### Equal Weight Strategy\n",
    "\n",
    "We have our bt algos to run monthly and select all indices and weighing equally"
   ]
  },
  {
   "cell_type": "code",
   "execution_count": 21,
   "id": "49dc6aef",
   "metadata": {},
   "outputs": [],
   "source": [
    "equal_weight_strategy = bt.Strategy('Equal_Weight',\n",
    "                            [\n",
    "                              bt.algos.RunMonthly(),\n",
    "                              bt.algos.SelectAll(),\n",
    "                              bt.algos.WeighEqually(),\n",
    "                              bt.algos.Rebalance()\n",
    "                            ])"
   ]
  },
  {
   "cell_type": "code",
   "execution_count": 22,
   "id": "9bd205ad",
   "metadata": {},
   "outputs": [],
   "source": [
    "inverse_volatility_strategy = bt.Strategy('Inverse_Volatility',\n",
    "                            [\n",
    "                              bt.algos.RunWeekly(),\n",
    "                              bt.algos.SelectAll(),\n",
    "                              bt.algos.WeighInvVol(),\n",
    "                              bt.algos.Rebalance()\n",
    "                            ])"
   ]
  },
  {
   "cell_type": "code",
   "execution_count": 23,
   "id": "c083120c",
   "metadata": {},
   "outputs": [],
   "source": [
    "top5_strategy = bt.Strategy('Top5',\n",
    "                            [\n",
    "                              bt.algos.RunWeekly(),\n",
    "                              bt.algos.SelectAll(),\n",
    "                              bt.algos.WeighInvVol(),\n",
    "                              bt.algos.Rebalance()\n",
    "                            ])"
   ]
  },
  {
   "cell_type": "markdown",
   "id": "c9e9fd45",
   "metadata": {},
   "source": [
    "## Interest Rate Based Trading Strategy"
   ]
  },
  {
   "cell_type": "code",
   "execution_count": 86,
   "id": "46aa97e3",
   "metadata": {},
   "outputs": [],
   "source": [
    "def interest_based_strategy_computation(target_interest_metric, strategies):\n",
    "    \n",
    "    # Initialize empty lists\n",
    "    lst_interest = []\n",
    "    lst_year = []\n",
    "    lst_cagr = []\n",
    "    lst_sharpe = []\n",
    "    lst_sortino = []\n",
    "    lst_strategy = []\n",
    "\n",
    "    for bt_strategy in strategies:\n",
    "                \n",
    "        interest_from, interest_to = int(target_interest_metric), round(target_interest_metric)\n",
    "        if(interest_from == interest_to):\n",
    "            interest_to = interest_from + 1\n",
    "\n",
    "        # Target Years Based on the Interest Rates\n",
    "        target_years = year_wise_df[year_wise_df['InterestRates'].between(interest_from, interest_to)][\n",
    "            'Year'].sort_values(ascending=False)\n",
    "        target_year_list = target_years.to_list()\n",
    "\n",
    "        # Run a loop across target\n",
    "        for yr in target_years:\n",
    "            start_date = str(yr) + '-01-01'\n",
    "            end_date = str((yr+1)) + '-01-01'\n",
    "            \n",
    "            if (bt_strategy.name == 'Top5'):\n",
    "                price_data = fetch_price_data(usa_inflation_interest_df[usa_inflation_interest_df['Year']==yr]['Top5'], start_date)\n",
    "            else:\n",
    "                price_data = fetch_price_data(index_tickers, start_date)\n",
    "\n",
    "            bt_backtest = bt.Backtest(bt_strategy, price_data)\n",
    "            bt_res = bt.run(bt_backtest)\n",
    "\n",
    "            #bt_res.plot(title=\"Index Equal Weight Strategy\")\n",
    "            #plt.show()\n",
    "\n",
    "            bt_stats = bt_res.stats\n",
    "            lst_interest.append(target_interest_metric)\n",
    "            lst_strategy.append(bt_strategy.name)\n",
    "            lst_year.append(yr)\n",
    "            lst_cagr.append(round(bt_stats.loc['cagr'][bt_strategy.name] * 100, 2))\n",
    "            lst_sharpe.append(round(bt_stats.loc['daily_sharpe'][bt_strategy.name], 2))\n",
    "            lst_sortino.append(round(bt_stats.loc['daily_sortino'][bt_strategy.name], 2))\n",
    "\n",
    "    return pd.DataFrame(list(zip(lst_interest, lst_strategy, lst_year, lst_cagr, lst_sharpe, lst_sortino)),\n",
    "                     columns=['Interest Rate', 'strategy_name', 'year', 'cagr', 'sharpe', 'sortino'])\n"
   ]
  },
  {
   "cell_type": "code",
   "execution_count": 36,
   "id": "40ee8dff",
   "metadata": {},
   "outputs": [
    {
     "data": {
      "text/html": [
       "<div>\n",
       "<style scoped>\n",
       "    .dataframe tbody tr th:only-of-type {\n",
       "        vertical-align: middle;\n",
       "    }\n",
       "\n",
       "    .dataframe tbody tr th {\n",
       "        vertical-align: top;\n",
       "    }\n",
       "\n",
       "    .dataframe thead th {\n",
       "        text-align: right;\n",
       "    }\n",
       "</style>\n",
       "<table border=\"1\" class=\"dataframe\">\n",
       "  <thead>\n",
       "    <tr style=\"text-align: right;\">\n",
       "      <th></th>\n",
       "      <th>Interest Rate</th>\n",
       "      <th>strategy_name</th>\n",
       "      <th>year</th>\n",
       "      <th>cagr</th>\n",
       "      <th>sharpe</th>\n",
       "      <th>sortino</th>\n",
       "    </tr>\n",
       "  </thead>\n",
       "  <tbody>\n",
       "    <tr>\n",
       "      <th>0</th>\n",
       "      <td>1</td>\n",
       "      <td>Equal_Weight</td>\n",
       "      <td>2014</td>\n",
       "      <td>9.52</td>\n",
       "      <td>0.61</td>\n",
       "      <td>0.91</td>\n",
       "    </tr>\n",
       "    <tr>\n",
       "      <th>1</th>\n",
       "      <td>1</td>\n",
       "      <td>Equal_Weight</td>\n",
       "      <td>2013</td>\n",
       "      <td>11.15</td>\n",
       "      <td>0.71</td>\n",
       "      <td>1.07</td>\n",
       "    </tr>\n",
       "    <tr>\n",
       "      <th>2</th>\n",
       "      <td>1</td>\n",
       "      <td>Equal_Weight</td>\n",
       "      <td>2012</td>\n",
       "      <td>11.5</td>\n",
       "      <td>0.74</td>\n",
       "      <td>1.12</td>\n",
       "    </tr>\n",
       "    <tr>\n",
       "      <th>3</th>\n",
       "      <td>1</td>\n",
       "      <td>Equal_Weight</td>\n",
       "      <td>2011</td>\n",
       "      <td>10.44</td>\n",
       "      <td>0.66</td>\n",
       "      <td>1.0</td>\n",
       "    </tr>\n",
       "    <tr>\n",
       "      <th>4</th>\n",
       "      <td>1</td>\n",
       "      <td>Equal_Weight</td>\n",
       "      <td>2004</td>\n",
       "      <td>7.29</td>\n",
       "      <td>0.46</td>\n",
       "      <td>0.71</td>\n",
       "    </tr>\n",
       "    <tr>\n",
       "      <th>...</th>\n",
       "      <td>...</td>\n",
       "      <td>...</td>\n",
       "      <td>...</td>\n",
       "      <td>...</td>\n",
       "      <td>...</td>\n",
       "      <td>...</td>\n",
       "    </tr>\n",
       "    <tr>\n",
       "      <th>11</th>\n",
       "      <td>6</td>\n",
       "      <td>Inverse_Volatility</td>\n",
       "      <td>1995</td>\n",
       "      <td>8.23</td>\n",
       "      <td>0.51</td>\n",
       "      <td>0.8</td>\n",
       "    </tr>\n",
       "    <tr>\n",
       "      <th>12</th>\n",
       "      <td>6</td>\n",
       "      <td>Inverse_Volatility</td>\n",
       "      <td>1990</td>\n",
       "      <td>7.84</td>\n",
       "      <td>0.51</td>\n",
       "      <td>0.8</td>\n",
       "    </tr>\n",
       "    <tr>\n",
       "      <th>13</th>\n",
       "      <td>6</td>\n",
       "      <td>Inverse_Volatility</td>\n",
       "      <td>1989</td>\n",
       "      <td>8.31</td>\n",
       "      <td>0.53</td>\n",
       "      <td>0.84</td>\n",
       "    </tr>\n",
       "    <tr>\n",
       "      <th>0</th>\n",
       "      <td>7</td>\n",
       "      <td>Equal_Weight</td>\n",
       "      <td>1998</td>\n",
       "      <td>6.05</td>\n",
       "      <td>0.4</td>\n",
       "      <td>0.62</td>\n",
       "    </tr>\n",
       "    <tr>\n",
       "      <th>1</th>\n",
       "      <td>7</td>\n",
       "      <td>Inverse_Volatility</td>\n",
       "      <td>1998</td>\n",
       "      <td>6.22</td>\n",
       "      <td>0.41</td>\n",
       "      <td>0.64</td>\n",
       "    </tr>\n",
       "  </tbody>\n",
       "</table>\n",
       "<p>66 rows × 6 columns</p>\n",
       "</div>"
      ],
      "text/plain": [
       "   Interest Rate       strategy_name  year   cagr sharpe sortino\n",
       "0              1        Equal_Weight  2014   9.52   0.61    0.91\n",
       "1              1        Equal_Weight  2013  11.15   0.71    1.07\n",
       "2              1        Equal_Weight  2012   11.5   0.74    1.12\n",
       "3              1        Equal_Weight  2011  10.44   0.66     1.0\n",
       "4              1        Equal_Weight  2004   7.29   0.46    0.71\n",
       "..           ...                 ...   ...    ...    ...     ...\n",
       "11             6  Inverse_Volatility  1995   8.23   0.51     0.8\n",
       "12             6  Inverse_Volatility  1990   7.84   0.51     0.8\n",
       "13             6  Inverse_Volatility  1989   8.31   0.53    0.84\n",
       "0              7        Equal_Weight  1998   6.05    0.4    0.62\n",
       "1              7  Inverse_Volatility  1998   6.22   0.41    0.64\n",
       "\n",
       "[66 rows x 6 columns]"
      ]
     },
     "execution_count": 36,
     "metadata": {},
     "output_type": "execute_result"
    }
   ],
   "source": [
    "interest_strategy_df = pd.DataFrame(columns=['Interest Rate', 'strategy_name', 'year', 'cagr', 'sharpe', 'sortino'])\n",
    "for interest_rate in range(1, 12):\n",
    "    df2 = interest_based_strategy_computation(interest_rate, [equal_weight_strategy, inverse_volatility_strategy, top5_strategy])\n",
    "    interest_strategy_df = pd.concat([interest_strategy_df, df2])\n",
    "interest_strategy_df"
   ]
  },
  {
   "cell_type": "code",
   "execution_count": 54,
   "id": "23876722",
   "metadata": {},
   "outputs": [],
   "source": [
    "strategy_stats_params_df = pd.pivot_table(df, values=['cagr', 'sharpe', 'sortino'], index=['Interest Rate', 'strategy_name'],\n",
    "                    aggfunc={'cagr': np.mean,\n",
    "                             'sharpe': np.mean,\n",
    "                             'sortino': np.mean\n",
    "                            }).reset_index()"
   ]
  },
  {
   "cell_type": "code",
   "execution_count": 74,
   "id": "f6893f7a",
   "metadata": {},
   "outputs": [
    {
     "data": {
      "image/png": "[encoded data removed]",
      "text/plain": [
       "<Figure size 864x576 with 1 Axes>"
      ]
     },
     "metadata": {
      "needs_background": "light"
     },
     "output_type": "display_data"
    }
   ],
   "source": [
    "equal_weight_strategy_df = strategy_stats_params_df[strategy_stats_params_df['strategy_name'] == 'Equal_Weight']\n",
    "inverse_volatility_strategy_df = strategy_stats_params_df[strategy_stats_params_df['strategy_name'] == 'Inverse_Volatility']\n",
    "top5_strategy_df = strategy_stats_params_df[strategy_stats_params_df['strategy_name'] == 'Top5']\n",
    "\n",
    "plt.figure(figsize=(12,8))\n",
    "plt.plot(equal_weight_strategy_df['Interest Rate'], \n",
    "         equal_weight_strategy_df['cagr'], \n",
    "         label='Equal_Weight')\n",
    "plt.plot(inverse_volatility_strategy_df['Interest Rate'], \n",
    "         inverse_volatility_strategy_df['cagr'], \n",
    "         label='Inverse_Volatility')\n",
    "plt.xlabel('Interest Rates')\n",
    "plt.ylabel('CAGR')\n",
    "plt.title('Interest Rates Vs CAGR')\n",
    "plt.legend()\n",
    "plt.show()"
   ]
  },
  {
   "cell_type": "markdown",
   "id": "58bce1f9",
   "metadata": {},
   "source": [
    "### Inflation Based Trading Strategy"
   ]
  },
  {
   "cell_type": "code",
   "execution_count": 85,
   "id": "a54e0609",
   "metadata": {},
   "outputs": [],
   "source": [
    "def inflation_based_strategy_computation(target_inflation_metric, strategies):\n",
    "    \n",
    "    # Initialize empty lists\n",
    "    lst_inflation = []\n",
    "    lst_year = []\n",
    "    lst_cagr = []\n",
    "    lst_sharpe = []\n",
    "    lst_sortino = []\n",
    "    lst_strategy = []\n",
    "\n",
    "    for bt_strategy in strategies:\n",
    "                \n",
    "        inflation_from, inflation_to = int(target_inflation_metric), round(target_inflation_metric)\n",
    "        if(inflation_from == inflation_to):\n",
    "            inflation_from = interest_from + 1\n",
    "\n",
    "        # Target Years Based on the Interest Rates\n",
    "        target_years = year_wise_df[year_wise_df['Inflation'].between(inflation_from, inflation_to)][\n",
    "            'Year'].sort_values(ascending=False)\n",
    "        target_year_list = target_years.to_list()\n",
    "\n",
    "        # Run a loop across target\n",
    "        for yr in target_years:\n",
    "            start_date = str(yr) + '-01-01'\n",
    "            end_date = str((yr+1)) + '-01-01'\n",
    "\n",
    "            if (bt_strategy.name == 'Top5'):\n",
    "                price_data = fetch_price_data(usa_inflation_interest_df[usa_inflation_interest_df['Year']==yr]['Top5'], start_date)\n",
    "            else:\n",
    "                price_data = fetch_price_data(index_tickers, start_date)\n",
    "\n",
    "            bt_backtest = bt.Backtest(bt_strategy, price_data)\n",
    "            bt_res = bt.run(bt_backtest)\n",
    "\n",
    "            #bt_res.plot(title=\"Index Equal Weight Strategy\")\n",
    "            #plt.show()\n",
    "\n",
    "            bt_stats = bt_res.stats\n",
    "            lst_inflation.append(target_interest_metric)\n",
    "            lst_strategy.append(bt_strategy.name)\n",
    "            lst_year.append(yr)\n",
    "            lst_cagr.append(round(bt_stats.loc['cagr'][bt_strategy.name] * 100, 2))\n",
    "            lst_sharpe.append(round(bt_stats.loc['daily_sharpe'][bt_strategy.name], 2))\n",
    "            lst_sortino.append(round(bt_stats.loc['daily_sortino'][bt_strategy.name], 2))\n",
    "\n",
    "    return pd.DataFrame(list(zip(lst_inflation, lst_strategy, lst_year, lst_cagr, lst_sharpe, lst_sortino)),\n",
    "                     columns=['Inflation', 'strategy_name', 'year', 'cagr', 'sharpe', 'sortino'])\n"
   ]
  },
  {
   "cell_type": "code",
   "execution_count": null,
   "id": "b9193377",
   "metadata": {},
   "outputs": [],
   "source": [
    "inflation_strategy_df = pd.DataFrame(columns=['Inflation', 'strategy_name', 'year', 'cagr', 'sharpe', 'sortino'])\n",
    "for interest_rate in range(1, 12):\n",
    "    df2 = inflation_based_strategy_computation(interest_rate, [equal_weight_strategy, inverse_volatility_strategy, top5_strategy])\n",
    "    inflation_strategy_df = pd.concat([inflation_strategy_df, df2])\n",
    "inflation_strategy_df"
   ]
  },
  {
   "cell_type": "code",
   "execution_count": null,
   "id": "d676bee8",
   "metadata": {},
   "outputs": [],
   "source": [
    "strategy_stats_params_df = pd.pivot_table(inflation_strategy_df, values=['cagr', 'sharpe', 'sortino'], index=['Inflation', 'strategy_name'],\n",
    "                    aggfunc={'cagr': np.mean,\n",
    "                             'sharpe': np.mean,\n",
    "                             'sortino': np.mean\n",
    "                            }).reset_index()"
   ]
  },
  {
   "cell_type": "code",
   "execution_count": null,
   "id": "256a3d6f",
   "metadata": {},
   "outputs": [],
   "source": [
    "equal_weight_strategy_df = strategy_stats_params_df[strategy_stats_params_df['strategy_name'] == 'Equal_Weight']\n",
    "inverse_volatility_strategy_df = strategy_stats_params_df[strategy_stats_params_df['strategy_name'] == 'Inverse_Volatility']\n",
    "top5_strategy_df = strategy_stats_params_df[strategy_stats_params_df['strategy_name'] == 'Top5']\n",
    "\n",
    "plt.figure(figsize=(12,8))\n",
    "plt.plot(equal_weight_strategy_df['Interest Rate'], \n",
    "         equal_weight_strategy_df['cagr'], \n",
    "         label='Equal_Weight')\n",
    "plt.plot(inverse_volatility_strategy_df['Interest Rate'], \n",
    "         inverse_volatility_strategy_df['cagr'], \n",
    "         label='Inverse_Volatility')\n",
    "plt.xlabel('Interest Rates')\n",
    "plt.ylabel('CAGR')\n",
    "plt.title('Interest Rates Vs CAGR')\n",
    "plt.legend()\n",
    "plt.show()"
   ]
  }
 ],
 "metadata": {
  "kernelspec": {
   "display_name": "Python 3 (ipykernel)",
   "language": "python",
   "name": "python3"
  },
  "language_info": {
   "codemirror_mode": {
    "name": "ipython",
    "version": 3
   },
   "file_extension": ".py",
   "mimetype": "text/x-python",
   "name": "python",
   "nbconvert_exporter": "python",
   "pygments_lexer": "ipython3",
   "version": "3.9.12"
  }
 },
 "nbformat": 4,
 "nbformat_minor": 5
}
