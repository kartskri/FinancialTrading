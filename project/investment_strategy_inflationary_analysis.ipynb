{
 "cells": [
  {
   "cell_type": "code",
   "execution_count": 1,
   "id": "252c574e",
   "metadata": {},
   "outputs": [],
   "source": [
    "import pandas as pd\n",
    "import bt\n",
    "import matplotlib\n",
    "import matplotlib.pyplot as plt\n",
    "import seaborn as sns\n",
    "import talib"
   ]
  },
  {
   "cell_type": "code",
   "execution_count": 2,
   "id": "f5f030cf",
   "metadata": {},
   "outputs": [],
   "source": [
    "%matplotlib inline"
   ]
  },
  {
   "cell_type": "code",
   "execution_count": 3,
   "id": "1e651bc0",
   "metadata": {},
   "outputs": [],
   "source": [
    "country_code = 'USA'"
   ]
  },
  {
   "cell_type": "markdown",
   "id": "f57757d0",
   "metadata": {},
   "source": [
    "## Inflation DataSet\n",
    "Data Downloaded from \"https://data.worldbank.org/indicator/FR.INR.RINR?locations=US\" \n",
    "<br/>Loaded into a pandas dataset & Visualize the Inflation of United States over the years"
   ]
  },
  {
   "cell_type": "code",
   "execution_count": 4,
   "id": "1014c958",
   "metadata": {},
   "outputs": [],
   "source": [
    "# Inflation Data for all countries\n",
    "raw_inflation_data = pd.read_excel('./data/country_inflation_data.xls', skiprows=3)\n",
    "raw_inflation_data.drop(columns=['Country Name', 'Indicator Name', 'Indicator Code'], inplace=True)"
   ]
  },
  {
   "cell_type": "code",
   "execution_count": 5,
   "id": "ef150d9f",
   "metadata": {},
   "outputs": [
    {
     "data": {
      "text/html": [
       "<div>\n",
       "<style scoped>\n",
       "    .dataframe tbody tr th:only-of-type {\n",
       "        vertical-align: middle;\n",
       "    }\n",
       "\n",
       "    .dataframe tbody tr th {\n",
       "        vertical-align: top;\n",
       "    }\n",
       "\n",
       "    .dataframe thead th {\n",
       "        text-align: right;\n",
       "    }\n",
       "</style>\n",
       "<table border=\"1\" class=\"dataframe\">\n",
       "  <thead>\n",
       "    <tr style=\"text-align: right;\">\n",
       "      <th></th>\n",
       "      <th>Year</th>\n",
       "      <th>Inflation</th>\n",
       "    </tr>\n",
       "    <tr>\n",
       "      <th>Country Code</th>\n",
       "      <th></th>\n",
       "      <th></th>\n",
       "    </tr>\n",
       "  </thead>\n",
       "  <tbody>\n",
       "    <tr>\n",
       "      <th>VNM</th>\n",
       "      <td>2021</td>\n",
       "      <td>1.834716</td>\n",
       "    </tr>\n",
       "    <tr>\n",
       "      <th>WLD</th>\n",
       "      <td>2021</td>\n",
       "      <td>3.423629</td>\n",
       "    </tr>\n",
       "    <tr>\n",
       "      <th>WSM</th>\n",
       "      <td>2021</td>\n",
       "      <td>3.133205</td>\n",
       "    </tr>\n",
       "    <tr>\n",
       "      <th>XKX</th>\n",
       "      <td>2021</td>\n",
       "      <td>3.353691</td>\n",
       "    </tr>\n",
       "    <tr>\n",
       "      <th>ZAF</th>\n",
       "      <td>2021</td>\n",
       "      <td>4.611672</td>\n",
       "    </tr>\n",
       "  </tbody>\n",
       "</table>\n",
       "</div>"
      ],
      "text/plain": [
       "              Year  Inflation\n",
       "Country Code                 \n",
       "VNM           2021   1.834716\n",
       "WLD           2021   3.423629\n",
       "WSM           2021   3.133205\n",
       "XKX           2021   3.353691\n",
       "ZAF           2021   4.611672"
      ]
     },
     "execution_count": 5,
     "metadata": {},
     "output_type": "execute_result"
    }
   ],
   "source": [
    "# Structure the Data so that it can be interpreted easily\n",
    "df_inflation_data = pd.melt(raw_inflation_data, id_vars=['Country Code'], var_name=\"Year\", value_name=\"Inflation\")\n",
    "df_inflation_data.index = df_inflation_data['Country Code']\n",
    "df_inflation_data['Year'] = df_inflation_data['Year'].astype('int')\n",
    "df_inflation_data.drop(columns=['Country Code'], inplace=True)\n",
    "df_inflation_data.dropna(inplace=True)\n",
    "df_inflation_data.tail(5)"
   ]
  },
  {
   "cell_type": "code",
   "execution_count": 6,
   "id": "48cd67d7",
   "metadata": {},
   "outputs": [
    {
     "data": {
      "text/html": [
       "<div>\n",
       "<style scoped>\n",
       "    .dataframe tbody tr th:only-of-type {\n",
       "        vertical-align: middle;\n",
       "    }\n",
       "\n",
       "    .dataframe tbody tr th {\n",
       "        vertical-align: top;\n",
       "    }\n",
       "\n",
       "    .dataframe thead th {\n",
       "        text-align: right;\n",
       "    }\n",
       "</style>\n",
       "<table border=\"1\" class=\"dataframe\">\n",
       "  <thead>\n",
       "    <tr style=\"text-align: right;\">\n",
       "      <th></th>\n",
       "      <th>Year</th>\n",
       "      <th>Inflation</th>\n",
       "    </tr>\n",
       "    <tr>\n",
       "      <th>Country Code</th>\n",
       "      <th></th>\n",
       "      <th></th>\n",
       "    </tr>\n",
       "  </thead>\n",
       "  <tbody>\n",
       "    <tr>\n",
       "      <th>USA</th>\n",
       "      <td>1960</td>\n",
       "      <td>1.457976</td>\n",
       "    </tr>\n",
       "    <tr>\n",
       "      <th>USA</th>\n",
       "      <td>1961</td>\n",
       "      <td>1.070724</td>\n",
       "    </tr>\n",
       "  </tbody>\n",
       "</table>\n",
       "</div>"
      ],
      "text/plain": [
       "              Year  Inflation\n",
       "Country Code                 \n",
       "USA           1960   1.457976\n",
       "USA           1961   1.070724"
      ]
     },
     "execution_count": 6,
     "metadata": {},
     "output_type": "execute_result"
    }
   ],
   "source": [
    "# Inflation Data for USA\n",
    "usa_inflation_data = df_inflation_data.loc[country_code]\n",
    "usa_inflation_data.head(2)"
   ]
  },
  {
   "cell_type": "markdown",
   "id": "30acf6d2",
   "metadata": {},
   "source": [
    "## Interest Rates Dataset\n",
    "How has the Federal Reserve responded to the Inflationary Pressures?<br/>\n",
    "It can come evident from the interest rate dataset.<br/>\n",
    "Loading the interest rate database and visually Ploting them<br/>\n",
    "Data Downloaded from https://data.worldbank.org/indicator/FR.INR.RINR?locations=US\n"
   ]
  },
  {
   "cell_type": "code",
   "execution_count": 7,
   "id": "0b3a4378",
   "metadata": {},
   "outputs": [],
   "source": [
    "# Inflation Data for all countries\n",
    "raw_interest_data = pd.read_excel('./data/country_interest_rates.xls', skiprows=3)\n",
    "raw_interest_data.drop(columns=['Country Name', 'Indicator Name', 'Indicator Code'], inplace=True)"
   ]
  },
  {
   "cell_type": "code",
   "execution_count": 8,
   "id": "1131a569",
   "metadata": {},
   "outputs": [
    {
     "data": {
      "text/html": [
       "<div>\n",
       "<style scoped>\n",
       "    .dataframe tbody tr th:only-of-type {\n",
       "        vertical-align: middle;\n",
       "    }\n",
       "\n",
       "    .dataframe tbody tr th {\n",
       "        vertical-align: top;\n",
       "    }\n",
       "\n",
       "    .dataframe thead th {\n",
       "        text-align: right;\n",
       "    }\n",
       "</style>\n",
       "<table border=\"1\" class=\"dataframe\">\n",
       "  <thead>\n",
       "    <tr style=\"text-align: right;\">\n",
       "      <th></th>\n",
       "      <th>Year</th>\n",
       "      <th>InterestRates</th>\n",
       "    </tr>\n",
       "    <tr>\n",
       "      <th>Country Code</th>\n",
       "      <th></th>\n",
       "      <th></th>\n",
       "    </tr>\n",
       "  </thead>\n",
       "  <tbody>\n",
       "    <tr>\n",
       "      <th>VUT</th>\n",
       "      <td>2020</td>\n",
       "      <td>0.277822</td>\n",
       "    </tr>\n",
       "    <tr>\n",
       "      <th>WSM</th>\n",
       "      <td>2020</td>\n",
       "      <td>8.471778</td>\n",
       "    </tr>\n",
       "    <tr>\n",
       "      <th>ZAF</th>\n",
       "      <td>2020</td>\n",
       "      <td>2.313127</td>\n",
       "    </tr>\n",
       "    <tr>\n",
       "      <th>ZMB</th>\n",
       "      <td>2020</td>\n",
       "      <td>-3.749081</td>\n",
       "    </tr>\n",
       "    <tr>\n",
       "      <th>ZWE</th>\n",
       "      <td>2020</td>\n",
       "      <td>-79.803157</td>\n",
       "    </tr>\n",
       "  </tbody>\n",
       "</table>\n",
       "</div>"
      ],
      "text/plain": [
       "              Year  InterestRates\n",
       "Country Code                     \n",
       "VUT           2020       0.277822\n",
       "WSM           2020       8.471778\n",
       "ZAF           2020       2.313127\n",
       "ZMB           2020      -3.749081\n",
       "ZWE           2020     -79.803157"
      ]
     },
     "execution_count": 8,
     "metadata": {},
     "output_type": "execute_result"
    }
   ],
   "source": [
    "# Structure the Data so that it can be interpreted easily\n",
    "df_interest_data = pd.melt(raw_interest_data, id_vars=['Country Code'], var_name=\"Year\", value_name=\"InterestRates\")\n",
    "df_interest_data.index = df_interest_data['Country Code']\n",
    "df_interest_data['Year'] = df_interest_data['Year'].astype('int')\n",
    "df_interest_data.drop(columns=['Country Code'], inplace=True)\n",
    "df_interest_data.dropna(inplace=True)\n",
    "df_interest_data.tail(5)"
   ]
  },
  {
   "cell_type": "code",
   "execution_count": 9,
   "id": "bd239947",
   "metadata": {},
   "outputs": [
    {
     "data": {
      "text/html": [
       "<div>\n",
       "<style scoped>\n",
       "    .dataframe tbody tr th:only-of-type {\n",
       "        vertical-align: middle;\n",
       "    }\n",
       "\n",
       "    .dataframe tbody tr th {\n",
       "        vertical-align: top;\n",
       "    }\n",
       "\n",
       "    .dataframe thead th {\n",
       "        text-align: right;\n",
       "    }\n",
       "</style>\n",
       "<table border=\"1\" class=\"dataframe\">\n",
       "  <thead>\n",
       "    <tr style=\"text-align: right;\">\n",
       "      <th></th>\n",
       "      <th>Year</th>\n",
       "      <th>InterestRates</th>\n",
       "    </tr>\n",
       "    <tr>\n",
       "      <th>Country Code</th>\n",
       "      <th></th>\n",
       "      <th></th>\n",
       "    </tr>\n",
       "  </thead>\n",
       "  <tbody>\n",
       "    <tr>\n",
       "      <th>USA</th>\n",
       "      <td>1961</td>\n",
       "      <td>3.107885</td>\n",
       "    </tr>\n",
       "    <tr>\n",
       "      <th>USA</th>\n",
       "      <td>1962</td>\n",
       "      <td>3.215346</td>\n",
       "    </tr>\n",
       "  </tbody>\n",
       "</table>\n",
       "</div>"
      ],
      "text/plain": [
       "              Year  InterestRates\n",
       "Country Code                     \n",
       "USA           1961       3.107885\n",
       "USA           1962       3.215346"
      ]
     },
     "execution_count": 9,
     "metadata": {},
     "output_type": "execute_result"
    }
   ],
   "source": [
    "# Inflation Data for USA\n",
    "usa_interest_data = df_interest_data.loc[country_code]\n",
    "usa_interest_data.head(2)"
   ]
  },
  {
   "cell_type": "markdown",
   "id": "12216497",
   "metadata": {},
   "source": [
    "## Merge Inflation and Interest Rate Datasets \n",
    "Merging interest rates and inflation data in to a single dataframe so that we can fetch the correlation"
   ]
  },
  {
   "cell_type": "code",
   "execution_count": 10,
   "id": "ccd9ed33",
   "metadata": {},
   "outputs": [
    {
     "data": {
      "text/html": [
       "<div>\n",
       "<style scoped>\n",
       "    .dataframe tbody tr th:only-of-type {\n",
       "        vertical-align: middle;\n",
       "    }\n",
       "\n",
       "    .dataframe tbody tr th {\n",
       "        vertical-align: top;\n",
       "    }\n",
       "\n",
       "    .dataframe thead th {\n",
       "        text-align: right;\n",
       "    }\n",
       "</style>\n",
       "<table border=\"1\" class=\"dataframe\">\n",
       "  <thead>\n",
       "    <tr style=\"text-align: right;\">\n",
       "      <th></th>\n",
       "      <th>Inflation</th>\n",
       "      <th>InterestRates</th>\n",
       "      <th>Interest_Rate_Next_Year</th>\n",
       "    </tr>\n",
       "    <tr>\n",
       "      <th>Year</th>\n",
       "      <th></th>\n",
       "      <th></th>\n",
       "      <th></th>\n",
       "    </tr>\n",
       "  </thead>\n",
       "  <tbody>\n",
       "    <tr>\n",
       "      <th>2001</th>\n",
       "      <td>2.826171</td>\n",
       "      <td>4.626757</td>\n",
       "      <td>3.045071</td>\n",
       "    </tr>\n",
       "    <tr>\n",
       "      <th>2002</th>\n",
       "      <td>1.586032</td>\n",
       "      <td>3.045071</td>\n",
       "      <td>2.224101</td>\n",
       "    </tr>\n",
       "    <tr>\n",
       "      <th>2003</th>\n",
       "      <td>2.270095</td>\n",
       "      <td>2.224101</td>\n",
       "      <td>1.604589</td>\n",
       "    </tr>\n",
       "    <tr>\n",
       "      <th>2004</th>\n",
       "      <td>2.677237</td>\n",
       "      <td>1.604589</td>\n",
       "      <td>2.981357</td>\n",
       "    </tr>\n",
       "    <tr>\n",
       "      <th>2005</th>\n",
       "      <td>3.392747</td>\n",
       "      <td>2.981357</td>\n",
       "      <td>4.786448</td>\n",
       "    </tr>\n",
       "    <tr>\n",
       "      <th>2006</th>\n",
       "      <td>3.225944</td>\n",
       "      <td>4.786448</td>\n",
       "      <td>5.223406</td>\n",
       "    </tr>\n",
       "    <tr>\n",
       "      <th>2007</th>\n",
       "      <td>2.852672</td>\n",
       "      <td>5.223406</td>\n",
       "      <td>3.082411</td>\n",
       "    </tr>\n",
       "    <tr>\n",
       "      <th>2008</th>\n",
       "      <td>3.839100</td>\n",
       "      <td>3.082411</td>\n",
       "      <td>2.468829</td>\n",
       "    </tr>\n",
       "    <tr>\n",
       "      <th>2009</th>\n",
       "      <td>-0.355546</td>\n",
       "      <td>2.468829</td>\n",
       "      <td>2.060737</td>\n",
       "    </tr>\n",
       "    <tr>\n",
       "      <th>2010</th>\n",
       "      <td>1.640043</td>\n",
       "      <td>2.060737</td>\n",
       "      <td>1.137338</td>\n",
       "    </tr>\n",
       "    <tr>\n",
       "      <th>2011</th>\n",
       "      <td>3.156842</td>\n",
       "      <td>1.137338</td>\n",
       "      <td>1.307083</td>\n",
       "    </tr>\n",
       "    <tr>\n",
       "      <th>2012</th>\n",
       "      <td>2.069337</td>\n",
       "      <td>1.307083</td>\n",
       "      <td>1.469299</td>\n",
       "    </tr>\n",
       "    <tr>\n",
       "      <th>2013</th>\n",
       "      <td>1.464833</td>\n",
       "      <td>1.469299</td>\n",
       "      <td>1.374742</td>\n",
       "    </tr>\n",
       "    <tr>\n",
       "      <th>2014</th>\n",
       "      <td>1.622223</td>\n",
       "      <td>1.374742</td>\n",
       "      <td>2.285696</td>\n",
       "    </tr>\n",
       "    <tr>\n",
       "      <th>2015</th>\n",
       "      <td>0.118627</td>\n",
       "      <td>2.285696</td>\n",
       "      <td>2.436851</td>\n",
       "    </tr>\n",
       "    <tr>\n",
       "      <th>2016</th>\n",
       "      <td>1.261583</td>\n",
       "      <td>2.436851</td>\n",
       "      <td>2.175694</td>\n",
       "    </tr>\n",
       "    <tr>\n",
       "      <th>2017</th>\n",
       "      <td>2.130110</td>\n",
       "      <td>2.175694</td>\n",
       "      <td>2.444494</td>\n",
       "    </tr>\n",
       "    <tr>\n",
       "      <th>2018</th>\n",
       "      <td>2.442583</td>\n",
       "      <td>2.444494</td>\n",
       "      <td>3.436010</td>\n",
       "    </tr>\n",
       "    <tr>\n",
       "      <th>2019</th>\n",
       "      <td>1.812210</td>\n",
       "      <td>3.436010</td>\n",
       "      <td>2.311111</td>\n",
       "    </tr>\n",
       "    <tr>\n",
       "      <th>2020</th>\n",
       "      <td>1.233584</td>\n",
       "      <td>2.311111</td>\n",
       "      <td>0.000000</td>\n",
       "    </tr>\n",
       "  </tbody>\n",
       "</table>\n",
       "</div>"
      ],
      "text/plain": [
       "      Inflation  InterestRates  Interest_Rate_Next_Year\n",
       "Year                                                   \n",
       "2001   2.826171       4.626757                 3.045071\n",
       "2002   1.586032       3.045071                 2.224101\n",
       "2003   2.270095       2.224101                 1.604589\n",
       "2004   2.677237       1.604589                 2.981357\n",
       "2005   3.392747       2.981357                 4.786448\n",
       "2006   3.225944       4.786448                 5.223406\n",
       "2007   2.852672       5.223406                 3.082411\n",
       "2008   3.839100       3.082411                 2.468829\n",
       "2009  -0.355546       2.468829                 2.060737\n",
       "2010   1.640043       2.060737                 1.137338\n",
       "2011   3.156842       1.137338                 1.307083\n",
       "2012   2.069337       1.307083                 1.469299\n",
       "2013   1.464833       1.469299                 1.374742\n",
       "2014   1.622223       1.374742                 2.285696\n",
       "2015   0.118627       2.285696                 2.436851\n",
       "2016   1.261583       2.436851                 2.175694\n",
       "2017   2.130110       2.175694                 2.444494\n",
       "2018   2.442583       2.444494                 3.436010\n",
       "2019   1.812210       3.436010                 2.311111\n",
       "2020   1.233584       2.311111                 0.000000"
      ]
     },
     "execution_count": 10,
     "metadata": {},
     "output_type": "execute_result"
    }
   ],
   "source": [
    "usa_inflation_interest_df = pd.merge(usa_inflation_data, usa_interest_data, on=[\"Year\"])\n",
    "usa_inflation_interest_df.index = usa_inflation_interest_df['Year']\n",
    "usa_inflation_interest_df['Interest_Rate_Next_Year'] = usa_inflation_interest_df[\"Year\"].apply(lambda x: (usa_inflation_interest_df.loc[x+1][\"InterestRates\"]) if x < 2020 else 0.0)\n",
    "usa_inflation_interest_df = usa_inflation_interest_df.drop(columns=['Year'])\n",
    "usa_inflation_interest_df['Interest_Rate_Next_Year'] = usa_inflation_interest_df['Interest_Rate_Next_Year'].astype(\"float\")\n",
    "usa_inflation_interest_df.tail(20)\n"
   ]
  },
  {
   "cell_type": "code",
   "execution_count": 11,
   "id": "48048ab3",
   "metadata": {},
   "outputs": [
    {
     "data": {
      "text/html": [
       "<div>\n",
       "<style scoped>\n",
       "    .dataframe tbody tr th:only-of-type {\n",
       "        vertical-align: middle;\n",
       "    }\n",
       "\n",
       "    .dataframe tbody tr th {\n",
       "        vertical-align: top;\n",
       "    }\n",
       "\n",
       "    .dataframe thead th {\n",
       "        text-align: right;\n",
       "    }\n",
       "</style>\n",
       "<table border=\"1\" class=\"dataframe\">\n",
       "  <thead>\n",
       "    <tr style=\"text-align: right;\">\n",
       "      <th></th>\n",
       "      <th>Inflation</th>\n",
       "      <th>InterestRates</th>\n",
       "      <th>Interest_Rate_Next_Year</th>\n",
       "    </tr>\n",
       "  </thead>\n",
       "  <tbody>\n",
       "    <tr>\n",
       "      <th>Inflation</th>\n",
       "      <td>1.000000</td>\n",
       "      <td>0.076389</td>\n",
       "      <td>0.179262</td>\n",
       "    </tr>\n",
       "    <tr>\n",
       "      <th>InterestRates</th>\n",
       "      <td>0.076389</td>\n",
       "      <td>1.000000</td>\n",
       "      <td>0.856736</td>\n",
       "    </tr>\n",
       "    <tr>\n",
       "      <th>Interest_Rate_Next_Year</th>\n",
       "      <td>0.179262</td>\n",
       "      <td>0.856736</td>\n",
       "      <td>1.000000</td>\n",
       "    </tr>\n",
       "  </tbody>\n",
       "</table>\n",
       "</div>"
      ],
      "text/plain": [
       "                         Inflation  InterestRates  Interest_Rate_Next_Year\n",
       "Inflation                 1.000000       0.076389                 0.179262\n",
       "InterestRates             0.076389       1.000000                 0.856736\n",
       "Interest_Rate_Next_Year   0.179262       0.856736                 1.000000"
      ]
     },
     "execution_count": 11,
     "metadata": {},
     "output_type": "execute_result"
    }
   ],
   "source": [
    "inflation_interest_correlation = usa_inflation_interest_df.corr(method='pearson')\n",
    "inflation_interest_correlation"
   ]
  },
  {
   "cell_type": "code",
   "execution_count": 12,
   "id": "7b0ed5fd",
   "metadata": {},
   "outputs": [
    {
     "data": {
      "image/png": "[encoded data removed]",
      "text/plain": [
       "<Figure size 432x288 with 2 Axes>"
      ]
     },
     "metadata": {
      "needs_background": "light"
     },
     "output_type": "display_data"
    }
   ],
   "source": [
    "# Plot the heatmap signifying the correlation between Inflation & Interest Rates\n",
    "sns.heatmap(usa_inflation_interest_df[['Inflation', 'InterestRates']].corr())\n",
    "plt.show()"
   ]
  },
  {
   "cell_type": "markdown",
   "id": "16e7b339",
   "metadata": {},
   "source": [
    "### Correlation between interest rates and inflation\n",
    "\n",
    "We don't see a  string correlation between interest rates and inflation and infact we see some cases same side movement and in some cases an opposite movement as depicted in the graph below"
   ]
  },
  {
   "cell_type": "code",
   "execution_count": 13,
   "id": "b78acf07",
   "metadata": {},
   "outputs": [
    {
     "data": {
      "image/png": "[encoded data removed]",
      "text/plain": [
       "<Figure size 864x864 with 1 Axes>"
      ]
     },
     "metadata": {
      "needs_background": "light"
     },
     "output_type": "display_data"
    }
   ],
   "source": [
    "plt.figure(figsize=(12,12))\n",
    "plt.plot(usa_inflation_interest_df['Inflation'], color='red', label='Inflation Over the Years')\n",
    "plt.plot(usa_inflation_interest_df['InterestRates'], color='blue', label='Interest Rates Over the Years')\n",
    "plt.title(\"Interest Rates & Inflation over the Years\")\n",
    "plt.legend()\n",
    "plt.show()"
   ]
  },
  {
   "cell_type": "markdown",
   "id": "65693f4e",
   "metadata": {},
   "source": [
    "## Indexes Investment Strategy\n",
    "### Allocating portfolio across S&P 500, Russell 3000 companies\n",
    "\n",
    "S&P 500 - Top 500 Companies in US Markets launched in 1923 tracking 90 stocks, expanded to 500 stocks from 1957\n",
    "RUA - Russell Top 3000 companies launched in 1984 tracks top 3000 companies"
   ]
  },
  {
   "cell_type": "code",
   "execution_count": 14,
   "id": "0b93c52c",
   "metadata": {},
   "outputs": [],
   "source": [
    "#ticker = '^W5000, ^RUA, ^GSPC'\n",
    "index_tickers = '^RUA, ^GSPC'\n",
    "target_inflation_metric = '7'\n",
    "start_date = '1988-01-01'\n",
    "end_date = '1971-01-01'"
   ]
  },
  {
   "cell_type": "code",
   "execution_count": 15,
   "id": "60669cf7",
   "metadata": {},
   "outputs": [
    {
     "name": "stdout",
     "output_type": "stream",
     "text": [
      "            Russell3000       SP500\n",
      "Date                               \n",
      "1988-01-04   143.199997  255.940002\n",
      "1988-01-05   144.929993  258.630005\n",
      "1988-01-06   145.289993  258.890015\n",
      "1988-01-07   146.350006  261.070007\n",
      "1988-01-08   137.779999  243.399994\n"
     ]
    }
   ],
   "source": [
    "# Price Data\n",
    "price_data = bt.get(index_tickers, start=start_date)\n",
    "price_data.rename(columns = {'gspc': 'SP500', 'rua': 'Russell3000'}, inplace=True)\n",
    "print(price_data.head(5))"
   ]
  },
  {
   "cell_type": "markdown",
   "id": "33e7df23",
   "metadata": {},
   "source": [
    "#### Plots of SP 500 & Russell funds over the years"
   ]
  },
  {
   "cell_type": "code",
   "execution_count": 16,
   "id": "f4d8e528",
   "metadata": {},
   "outputs": [
    {
     "data": {
      "image/png": "[encoded data removed]",
      "text/plain": [
       "<Figure size 864x864 with 1 Axes>"
      ]
     },
     "metadata": {
      "needs_background": "light"
     },
     "output_type": "display_data"
    }
   ],
   "source": [
    "plt.figure(figsize=(12, 12))\n",
    "plt.plot(price_data['SP500'], color='red', label='S & P 500')\n",
    "plt.plot(price_data['Russell3000'], color='green', label='Russell 3000')\n",
    "plt.title('S&P 500 and Russell 3000 performance over the years')\n",
    "plt.legend()\n",
    "plt.show()"
   ]
  },
  {
   "cell_type": "code",
   "execution_count": 17,
   "id": "a69a3fe6",
   "metadata": {},
   "outputs": [
    {
     "data": {
      "text/html": [
       "<div>\n",
       "<style scoped>\n",
       "    .dataframe tbody tr th:only-of-type {\n",
       "        vertical-align: middle;\n",
       "    }\n",
       "\n",
       "    .dataframe tbody tr th {\n",
       "        vertical-align: top;\n",
       "    }\n",
       "\n",
       "    .dataframe thead th {\n",
       "        text-align: right;\n",
       "    }\n",
       "</style>\n",
       "<table border=\"1\" class=\"dataframe\">\n",
       "  <thead>\n",
       "    <tr style=\"text-align: right;\">\n",
       "      <th></th>\n",
       "      <th>Year</th>\n",
       "      <th>Inflation</th>\n",
       "      <th>InterestRates</th>\n",
       "      <th>Interest_Rate_Next_Year</th>\n",
       "      <th>SP500</th>\n",
       "      <th>Russell3000</th>\n",
       "    </tr>\n",
       "  </thead>\n",
       "  <tbody>\n",
       "    <tr>\n",
       "      <th>28</th>\n",
       "      <td>2016</td>\n",
       "      <td>1.261583</td>\n",
       "      <td>2.436851</td>\n",
       "      <td>2.175694</td>\n",
       "      <td>2094.651264</td>\n",
       "      <td>1236.001071</td>\n",
       "    </tr>\n",
       "    <tr>\n",
       "      <th>29</th>\n",
       "      <td>2017</td>\n",
       "      <td>2.130110</td>\n",
       "      <td>2.175694</td>\n",
       "      <td>2.444494</td>\n",
       "      <td>2449.076379</td>\n",
       "      <td>1451.361832</td>\n",
       "    </tr>\n",
       "    <tr>\n",
       "      <th>30</th>\n",
       "      <td>2018</td>\n",
       "      <td>2.442583</td>\n",
       "      <td>2.444494</td>\n",
       "      <td>3.436010</td>\n",
       "      <td>2748.834658</td>\n",
       "      <td>1628.050924</td>\n",
       "    </tr>\n",
       "    <tr>\n",
       "      <th>31</th>\n",
       "      <td>2019</td>\n",
       "      <td>1.812210</td>\n",
       "      <td>3.436010</td>\n",
       "      <td>2.311111</td>\n",
       "      <td>2918.631300</td>\n",
       "      <td>1715.662185</td>\n",
       "    </tr>\n",
       "    <tr>\n",
       "      <th>32</th>\n",
       "      <td>2020</td>\n",
       "      <td>1.233584</td>\n",
       "      <td>2.311111</td>\n",
       "      <td>0.000000</td>\n",
       "      <td>3219.359242</td>\n",
       "      <td>1884.866533</td>\n",
       "    </tr>\n",
       "  </tbody>\n",
       "</table>\n",
       "</div>"
      ],
      "text/plain": [
       "    Year  Inflation  InterestRates  Interest_Rate_Next_Year        SP500  \\\n",
       "28  2016   1.261583       2.436851                 2.175694  2094.651264   \n",
       "29  2017   2.130110       2.175694                 2.444494  2449.076379   \n",
       "30  2018   2.442583       2.444494                 3.436010  2748.834658   \n",
       "31  2019   1.812210       3.436010                 2.311111  2918.631300   \n",
       "32  2020   1.233584       2.311111                 0.000000  3219.359242   \n",
       "\n",
       "    Russell3000  \n",
       "28  1236.001071  \n",
       "29  1451.361832  \n",
       "30  1628.050924  \n",
       "31  1715.662185  \n",
       "32  1884.866533  "
      ]
     },
     "execution_count": 17,
     "metadata": {},
     "output_type": "execute_result"
    }
   ],
   "source": [
    "price_data['year'] = pd. DatetimeIndex(price_data.index).year\n",
    "year_wise_df = price_data.groupby(by='year').agg(\n",
    "    {'SP500' : 'mean', 'Russell3000': 'mean'})\n",
    "year_wise_df['Year'] = year_wise_df.index\n",
    "year_wise_df = pd.merge(usa_inflation_interest_df, \n",
    "                        year_wise_df, \n",
    "                        on=[\"Year\"])\n",
    "year_wise_df.tail(5)\n"
   ]
  },
  {
   "cell_type": "markdown",
   "id": "93673f2b",
   "metadata": {},
   "source": [
    "### Lets Work on Trading Strategies"
   ]
  },
  {
   "cell_type": "code",
   "execution_count": 18,
   "id": "49dc6aef",
   "metadata": {},
   "outputs": [],
   "source": [
    "first_strategy = bt.Strategy('Equal_Weight_Index_Strategy',\n",
    "                            [\n",
    "                              bt.algos.RunMonthly(),\n",
    "                              bt.algos.SelectAll(),\n",
    "                              bt.algos.WeighEqually(),\n",
    "                              bt.algos.Rebalance()\n",
    "                            ])"
   ]
  },
  {
   "cell_type": "markdown",
   "id": "f3ff13cd",
   "metadata": {},
   "source": [
    "## Target Interest Metric"
   ]
  },
  {
   "cell_type": "code",
   "execution_count": 19,
   "id": "a071d8f0",
   "metadata": {},
   "outputs": [],
   "source": [
    "target_interest_metric = 6.5"
   ]
  },
  {
   "cell_type": "markdown",
   "id": "c9e9fd45",
   "metadata": {},
   "source": [
    "## Execute Trading Strategies and fetch CAGR"
   ]
  },
  {
   "cell_type": "code",
   "execution_count": 52,
   "id": "6650d76a",
   "metadata": {},
   "outputs": [],
   "source": [
    "interest_from, interest_to = int(target_interest_metric), round(target_interest_metric)\n",
    "if(interest_from == interest_to):\n",
    "    interest_to = interest_from + 1\n",
    "\n",
    "# Target Years Based on the Interest Rates\n",
    "target_years = year_wise_df[year_wise_df['InterestRates'].between(interest_from, interest_to)][\n",
    "    'Year'].sort_values(ascending=False)\n",
    "target_year_list = target_years.to_list()\n",
    "\n",
    "lst_year = []\n",
    "lst_cagr = []\n",
    "lst_sharpe = []\n",
    "lst_sortino = []\n",
    "\n",
    "for yr in target_years:\n",
    "    start_date = str(yr) + '-01-01'\n",
    "    end_date = str((yr+1)) + '-01-01'\n",
    "    \n",
    "    index_price_data = bt.get(index_tickers, start = start_date, end = end_date)\n",
    "    index_price_data\n",
    "    \n",
    "    bt_backtest = bt.Backtest(first_strategy, index_price_data)\n",
    "    bt_res = bt.run(bt_backtest)\n",
    "    \n",
    "    #bt_res.plot(title=\"Index Equal Weight Strategy\")\n",
    "    #plt.show()\n",
    "    \n",
    "    bt_stats = bt_res.stats\n",
    "\n",
    "    lst_year.append(yr)\n",
    "    lst_cagr.append(round(bt_stats.loc['cagr']['Equal_Weight_Index_Strategy'] * 100, 2))\n",
    "    lst_sharpe.append(round(bt_stats.loc['daily_sharpe']['Equal_Weight_Index_Strategy'], 2))\n",
    "    lst_sortino.append(round(bt_stats.loc['daily_sortino']['Equal_Weight_Index_Strategy'], 2))\n"
   ]
  },
  {
   "cell_type": "code",
   "execution_count": 51,
   "id": "d498518b",
   "metadata": {},
   "outputs": [
    {
     "ename": "ValueError",
     "evalue": "All arrays must be of the same length",
     "output_type": "error",
     "traceback": [
      "\u001b[0;31m---------------------------------------------------------------------------\u001b[0m",
      "\u001b[0;31mValueError\u001b[0m                                Traceback (most recent call last)",
      "Input \u001b[0;32mIn [51]\u001b[0m, in \u001b[0;36m<cell line: 1>\u001b[0;34m()\u001b[0m\n\u001b[0;32m----> 1\u001b[0m \u001b[43mpd\u001b[49m\u001b[38;5;241;43m.\u001b[39;49m\u001b[43mDataFrame\u001b[49m\u001b[43m(\u001b[49m\u001b[43m{\u001b[49m\u001b[43m \u001b[49m\u001b[38;5;124;43m\"\u001b[39;49m\u001b[38;5;124;43myear\u001b[39;49m\u001b[38;5;124;43m\"\u001b[39;49m\u001b[43m:\u001b[49m\u001b[43m \u001b[49m\u001b[43mlst_year\u001b[49m\u001b[43m,\u001b[49m\u001b[43m \u001b[49m\u001b[38;5;124;43m\"\u001b[39;49m\u001b[38;5;124;43mcagr\u001b[39;49m\u001b[38;5;124;43m\"\u001b[39;49m\u001b[43m:\u001b[49m\u001b[43m \u001b[49m\u001b[43mlst_cagr\u001b[49m\u001b[43m,\u001b[49m\u001b[43m \u001b[49m\u001b[38;5;124;43m\"\u001b[39;49m\u001b[38;5;124;43msharpe\u001b[39;49m\u001b[38;5;124;43m\"\u001b[39;49m\u001b[43m:\u001b[49m\u001b[43m \u001b[49m\u001b[43mlst_sharpe\u001b[49m\u001b[43m,\u001b[49m\u001b[43m \u001b[49m\u001b[38;5;124;43m\"\u001b[39;49m\u001b[38;5;124;43msortino\u001b[39;49m\u001b[38;5;124;43m\"\u001b[39;49m\u001b[43m:\u001b[49m\u001b[43m \u001b[49m\u001b[43mlst_sortino\u001b[49m\u001b[43m}\u001b[49m\u001b[43m)\u001b[49m\n",
      "File \u001b[0;32m~/opt/anaconda3/lib/python3.9/site-packages/pandas/core/frame.py:636\u001b[0m, in \u001b[0;36mDataFrame.__init__\u001b[0;34m(self, data, index, columns, dtype, copy)\u001b[0m\n\u001b[1;32m    630\u001b[0m     mgr \u001b[38;5;241m=\u001b[39m \u001b[38;5;28mself\u001b[39m\u001b[38;5;241m.\u001b[39m_init_mgr(\n\u001b[1;32m    631\u001b[0m         data, axes\u001b[38;5;241m=\u001b[39m{\u001b[38;5;124m\"\u001b[39m\u001b[38;5;124mindex\u001b[39m\u001b[38;5;124m\"\u001b[39m: index, \u001b[38;5;124m\"\u001b[39m\u001b[38;5;124mcolumns\u001b[39m\u001b[38;5;124m\"\u001b[39m: columns}, dtype\u001b[38;5;241m=\u001b[39mdtype, copy\u001b[38;5;241m=\u001b[39mcopy\n\u001b[1;32m    632\u001b[0m     )\n\u001b[1;32m    634\u001b[0m \u001b[38;5;28;01melif\u001b[39;00m \u001b[38;5;28misinstance\u001b[39m(data, \u001b[38;5;28mdict\u001b[39m):\n\u001b[1;32m    635\u001b[0m     \u001b[38;5;66;03m# GH#38939 de facto copy defaults to False only in non-dict cases\u001b[39;00m\n\u001b[0;32m--> 636\u001b[0m     mgr \u001b[38;5;241m=\u001b[39m \u001b[43mdict_to_mgr\u001b[49m\u001b[43m(\u001b[49m\u001b[43mdata\u001b[49m\u001b[43m,\u001b[49m\u001b[43m \u001b[49m\u001b[43mindex\u001b[49m\u001b[43m,\u001b[49m\u001b[43m \u001b[49m\u001b[43mcolumns\u001b[49m\u001b[43m,\u001b[49m\u001b[43m \u001b[49m\u001b[43mdtype\u001b[49m\u001b[38;5;241;43m=\u001b[39;49m\u001b[43mdtype\u001b[49m\u001b[43m,\u001b[49m\u001b[43m \u001b[49m\u001b[43mcopy\u001b[49m\u001b[38;5;241;43m=\u001b[39;49m\u001b[43mcopy\u001b[49m\u001b[43m,\u001b[49m\u001b[43m \u001b[49m\u001b[43mtyp\u001b[49m\u001b[38;5;241;43m=\u001b[39;49m\u001b[43mmanager\u001b[49m\u001b[43m)\u001b[49m\n\u001b[1;32m    637\u001b[0m \u001b[38;5;28;01melif\u001b[39;00m \u001b[38;5;28misinstance\u001b[39m(data, ma\u001b[38;5;241m.\u001b[39mMaskedArray):\n\u001b[1;32m    638\u001b[0m     \u001b[38;5;28;01mimport\u001b[39;00m \u001b[38;5;21;01mnumpy\u001b[39;00m\u001b[38;5;21;01m.\u001b[39;00m\u001b[38;5;21;01mma\u001b[39;00m\u001b[38;5;21;01m.\u001b[39;00m\u001b[38;5;21;01mmrecords\u001b[39;00m \u001b[38;5;28;01mas\u001b[39;00m \u001b[38;5;21;01mmrecords\u001b[39;00m\n",
      "File \u001b[0;32m~/opt/anaconda3/lib/python3.9/site-packages/pandas/core/internals/construction.py:502\u001b[0m, in \u001b[0;36mdict_to_mgr\u001b[0;34m(data, index, columns, dtype, typ, copy)\u001b[0m\n\u001b[1;32m    494\u001b[0m     arrays \u001b[38;5;241m=\u001b[39m [\n\u001b[1;32m    495\u001b[0m         x\n\u001b[1;32m    496\u001b[0m         \u001b[38;5;28;01mif\u001b[39;00m \u001b[38;5;129;01mnot\u001b[39;00m \u001b[38;5;28mhasattr\u001b[39m(x, \u001b[38;5;124m\"\u001b[39m\u001b[38;5;124mdtype\u001b[39m\u001b[38;5;124m\"\u001b[39m) \u001b[38;5;129;01mor\u001b[39;00m \u001b[38;5;129;01mnot\u001b[39;00m \u001b[38;5;28misinstance\u001b[39m(x\u001b[38;5;241m.\u001b[39mdtype, ExtensionDtype)\n\u001b[1;32m    497\u001b[0m         \u001b[38;5;28;01melse\u001b[39;00m x\u001b[38;5;241m.\u001b[39mcopy()\n\u001b[1;32m    498\u001b[0m         \u001b[38;5;28;01mfor\u001b[39;00m x \u001b[38;5;129;01min\u001b[39;00m arrays\n\u001b[1;32m    499\u001b[0m     ]\n\u001b[1;32m    500\u001b[0m     \u001b[38;5;66;03m# TODO: can we get rid of the dt64tz special case above?\u001b[39;00m\n\u001b[0;32m--> 502\u001b[0m \u001b[38;5;28;01mreturn\u001b[39;00m \u001b[43marrays_to_mgr\u001b[49m\u001b[43m(\u001b[49m\u001b[43marrays\u001b[49m\u001b[43m,\u001b[49m\u001b[43m \u001b[49m\u001b[43mcolumns\u001b[49m\u001b[43m,\u001b[49m\u001b[43m \u001b[49m\u001b[43mindex\u001b[49m\u001b[43m,\u001b[49m\u001b[43m \u001b[49m\u001b[43mdtype\u001b[49m\u001b[38;5;241;43m=\u001b[39;49m\u001b[43mdtype\u001b[49m\u001b[43m,\u001b[49m\u001b[43m \u001b[49m\u001b[43mtyp\u001b[49m\u001b[38;5;241;43m=\u001b[39;49m\u001b[43mtyp\u001b[49m\u001b[43m,\u001b[49m\u001b[43m \u001b[49m\u001b[43mconsolidate\u001b[49m\u001b[38;5;241;43m=\u001b[39;49m\u001b[43mcopy\u001b[49m\u001b[43m)\u001b[49m\n",
      "File \u001b[0;32m~/opt/anaconda3/lib/python3.9/site-packages/pandas/core/internals/construction.py:120\u001b[0m, in \u001b[0;36marrays_to_mgr\u001b[0;34m(arrays, columns, index, dtype, verify_integrity, typ, consolidate)\u001b[0m\n\u001b[1;32m    117\u001b[0m \u001b[38;5;28;01mif\u001b[39;00m verify_integrity:\n\u001b[1;32m    118\u001b[0m     \u001b[38;5;66;03m# figure out the index, if necessary\u001b[39;00m\n\u001b[1;32m    119\u001b[0m     \u001b[38;5;28;01mif\u001b[39;00m index \u001b[38;5;129;01mis\u001b[39;00m \u001b[38;5;28;01mNone\u001b[39;00m:\n\u001b[0;32m--> 120\u001b[0m         index \u001b[38;5;241m=\u001b[39m \u001b[43m_extract_index\u001b[49m\u001b[43m(\u001b[49m\u001b[43marrays\u001b[49m\u001b[43m)\u001b[49m\n\u001b[1;32m    121\u001b[0m     \u001b[38;5;28;01melse\u001b[39;00m:\n\u001b[1;32m    122\u001b[0m         index \u001b[38;5;241m=\u001b[39m ensure_index(index)\n",
      "File \u001b[0;32m~/opt/anaconda3/lib/python3.9/site-packages/pandas/core/internals/construction.py:674\u001b[0m, in \u001b[0;36m_extract_index\u001b[0;34m(data)\u001b[0m\n\u001b[1;32m    672\u001b[0m lengths \u001b[38;5;241m=\u001b[39m \u001b[38;5;28mlist\u001b[39m(\u001b[38;5;28mset\u001b[39m(raw_lengths))\n\u001b[1;32m    673\u001b[0m \u001b[38;5;28;01mif\u001b[39;00m \u001b[38;5;28mlen\u001b[39m(lengths) \u001b[38;5;241m>\u001b[39m \u001b[38;5;241m1\u001b[39m:\n\u001b[0;32m--> 674\u001b[0m     \u001b[38;5;28;01mraise\u001b[39;00m \u001b[38;5;167;01mValueError\u001b[39;00m(\u001b[38;5;124m\"\u001b[39m\u001b[38;5;124mAll arrays must be of the same length\u001b[39m\u001b[38;5;124m\"\u001b[39m)\n\u001b[1;32m    676\u001b[0m \u001b[38;5;28;01mif\u001b[39;00m have_dicts:\n\u001b[1;32m    677\u001b[0m     \u001b[38;5;28;01mraise\u001b[39;00m \u001b[38;5;167;01mValueError\u001b[39;00m(\n\u001b[1;32m    678\u001b[0m         \u001b[38;5;124m\"\u001b[39m\u001b[38;5;124mMixing dicts with non-Series may lead to ambiguous ordering.\u001b[39m\u001b[38;5;124m\"\u001b[39m\n\u001b[1;32m    679\u001b[0m     )\n",
      "\u001b[0;31mValueError\u001b[0m: All arrays must be of the same length"
     ]
    }
   ],
   "source": [
    "pd.DataFrame({ \"year\": lst_year, \"cagr\": lst_cagr, \"sharpe\": lst_sharpe, \"sortino\": lst_sortino})"
   ]
  },
  {
   "cell_type": "code",
   "execution_count": null,
   "id": "2cd8968b",
   "metadata": {},
   "outputs": [],
   "source": []
  }
 ],
 "metadata": {
  "kernelspec": {
   "display_name": "Python 3 (ipykernel)",
   "language": "python",
   "name": "python3"
  },
  "language_info": {
   "codemirror_mode": {
    "name": "ipython",
    "version": 3
   },
   "file_extension": ".py",
   "mimetype": "text/x-python",
   "name": "python",
   "nbconvert_exporter": "python",
   "pygments_lexer": "ipython3",
   "version": "3.9.12"
  }
 },
 "nbformat": 4,
 "nbformat_minor": 5
}
