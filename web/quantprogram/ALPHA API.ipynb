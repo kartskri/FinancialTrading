{
 "cells": [
  {
   "cell_type": "markdown",
   "id": "5b906f33",
   "metadata": {
    "pycharm": {
     "name": "#%% md\n"
    }
   },
   "source": [
    "## API \n",
    "### eg alpha vantage"
   ]
  },
  {
   "cell_type": "code",
   "execution_count": 1,
   "id": "302dba5e",
   "metadata": {
    "pycharm": {
     "name": "#%%\n"
    }
   },
   "outputs": [],
   "source": [
    "from alpha_vantage.timeseries import TimeSeries"
   ]
  },
  {
   "cell_type": "code",
   "execution_count": 2,
   "id": "eaa59075",
   "metadata": {
    "pycharm": {
     "name": "#%%\n"
    }
   },
   "outputs": [],
   "source": [
    "API_key=\"H456ZLCOCHH7CH10\""
   ]
  },
  {
   "cell_type": "code",
   "execution_count": 3,
   "id": "2054439d",
   "metadata": {
    "pycharm": {
     "name": "#%%\n"
    }
   },
   "outputs": [],
   "source": [
    "ts=TimeSeries(key=API_key,output_format='pandas')"
   ]
  },
  {
   "cell_type": "code",
   "execution_count": 4,
   "id": "a0c9e142",
   "metadata": {
    "pycharm": {
     "name": "#%%\n"
    }
   },
   "outputs": [],
   "source": [
    "data=ts.get_daily('AAPL')"
   ]
  },
  {
   "cell_type": "code",
   "execution_count": 5,
   "id": "4fe71297",
   "metadata": {
    "pycharm": {
     "name": "#%%\n"
    }
   },
   "outputs": [
    {
     "data": {
      "text/plain": [
       "(            1. open  2. high  3. low  4. close    5. volume\n",
       " date                                                       \n",
       " 2022-01-12   176.12   177.18  174.82    175.53   74805173.0\n",
       " 2022-01-11   172.32   175.18  170.82    175.08   75937685.0\n",
       " 2022-01-10   169.08   172.50  168.17    172.19  106765552.0\n",
       " 2022-01-07   172.89   174.14  171.03    172.17   86709147.0\n",
       " 2022-01-06   172.70   175.30  171.64    172.00   96903955.0\n",
       " ...             ...      ...     ...       ...          ...\n",
       " 2021-08-27   147.48   148.75  146.83    148.60   55802388.0\n",
       " 2021-08-26   148.35   149.12  147.51    147.54   48597195.0\n",
       " 2021-08-25   149.81   150.32  147.80    148.36   58991297.0\n",
       " 2021-08-24   149.45   150.86  149.15    149.62   48606428.0\n",
       " 2021-08-23   148.31   150.19  147.89    149.71   60131810.0\n",
       " \n",
       " [100 rows x 5 columns],\n",
       " {'1. Information': 'Daily Prices (open, high, low, close) and Volumes',\n",
       "  '2. Symbol': 'AAPL',\n",
       "  '3. Last Refreshed': '2022-01-12',\n",
       "  '4. Output Size': 'Compact',\n",
       "  '5. Time Zone': 'US/Eastern'})"
      ]
     },
     "execution_count": 5,
     "metadata": {},
     "output_type": "execute_result"
    }
   ],
   "source": [
    "data"
   ]
  },
  {
   "cell_type": "code",
   "execution_count": 6,
   "id": "4d811c71",
   "metadata": {
    "pycharm": {
     "name": "#%%\n"
    }
   },
   "outputs": [
    {
     "data": {
      "text/html": [
       "<div>\n",
       "<style scoped>\n",
       "    .dataframe tbody tr th:only-of-type {\n",
       "        vertical-align: middle;\n",
       "    }\n",
       "\n",
       "    .dataframe tbody tr th {\n",
       "        vertical-align: top;\n",
       "    }\n",
       "\n",
       "    .dataframe thead th {\n",
       "        text-align: right;\n",
       "    }\n",
       "</style>\n",
       "<table border=\"1\" class=\"dataframe\">\n",
       "  <thead>\n",
       "    <tr style=\"text-align: right;\">\n",
       "      <th></th>\n",
       "      <th>1. open</th>\n",
       "      <th>2. high</th>\n",
       "      <th>3. low</th>\n",
       "      <th>4. close</th>\n",
       "      <th>5. volume</th>\n",
       "    </tr>\n",
       "    <tr>\n",
       "      <th>date</th>\n",
       "      <th></th>\n",
       "      <th></th>\n",
       "      <th></th>\n",
       "      <th></th>\n",
       "      <th></th>\n",
       "    </tr>\n",
       "  </thead>\n",
       "  <tbody>\n",
       "    <tr>\n",
       "      <th>2022-01-12</th>\n",
       "      <td>176.12</td>\n",
       "      <td>177.18</td>\n",
       "      <td>174.82</td>\n",
       "      <td>175.53</td>\n",
       "      <td>74805173.0</td>\n",
       "    </tr>\n",
       "    <tr>\n",
       "      <th>2022-01-11</th>\n",
       "      <td>172.32</td>\n",
       "      <td>175.18</td>\n",
       "      <td>170.82</td>\n",
       "      <td>175.08</td>\n",
       "      <td>75937685.0</td>\n",
       "    </tr>\n",
       "    <tr>\n",
       "      <th>2022-01-10</th>\n",
       "      <td>169.08</td>\n",
       "      <td>172.50</td>\n",
       "      <td>168.17</td>\n",
       "      <td>172.19</td>\n",
       "      <td>106765552.0</td>\n",
       "    </tr>\n",
       "    <tr>\n",
       "      <th>2022-01-07</th>\n",
       "      <td>172.89</td>\n",
       "      <td>174.14</td>\n",
       "      <td>171.03</td>\n",
       "      <td>172.17</td>\n",
       "      <td>86709147.0</td>\n",
       "    </tr>\n",
       "    <tr>\n",
       "      <th>2022-01-06</th>\n",
       "      <td>172.70</td>\n",
       "      <td>175.30</td>\n",
       "      <td>171.64</td>\n",
       "      <td>172.00</td>\n",
       "      <td>96903955.0</td>\n",
       "    </tr>\n",
       "    <tr>\n",
       "      <th>...</th>\n",
       "      <td>...</td>\n",
       "      <td>...</td>\n",
       "      <td>...</td>\n",
       "      <td>...</td>\n",
       "      <td>...</td>\n",
       "    </tr>\n",
       "    <tr>\n",
       "      <th>2021-08-27</th>\n",
       "      <td>147.48</td>\n",
       "      <td>148.75</td>\n",
       "      <td>146.83</td>\n",
       "      <td>148.60</td>\n",
       "      <td>55802388.0</td>\n",
       "    </tr>\n",
       "    <tr>\n",
       "      <th>2021-08-26</th>\n",
       "      <td>148.35</td>\n",
       "      <td>149.12</td>\n",
       "      <td>147.51</td>\n",
       "      <td>147.54</td>\n",
       "      <td>48597195.0</td>\n",
       "    </tr>\n",
       "    <tr>\n",
       "      <th>2021-08-25</th>\n",
       "      <td>149.81</td>\n",
       "      <td>150.32</td>\n",
       "      <td>147.80</td>\n",
       "      <td>148.36</td>\n",
       "      <td>58991297.0</td>\n",
       "    </tr>\n",
       "    <tr>\n",
       "      <th>2021-08-24</th>\n",
       "      <td>149.45</td>\n",
       "      <td>150.86</td>\n",
       "      <td>149.15</td>\n",
       "      <td>149.62</td>\n",
       "      <td>48606428.0</td>\n",
       "    </tr>\n",
       "    <tr>\n",
       "      <th>2021-08-23</th>\n",
       "      <td>148.31</td>\n",
       "      <td>150.19</td>\n",
       "      <td>147.89</td>\n",
       "      <td>149.71</td>\n",
       "      <td>60131810.0</td>\n",
       "    </tr>\n",
       "  </tbody>\n",
       "</table>\n",
       "<p>100 rows × 5 columns</p>\n",
       "</div>"
      ],
      "text/plain": [
       "            1. open  2. high  3. low  4. close    5. volume\n",
       "date                                                       \n",
       "2022-01-12   176.12   177.18  174.82    175.53   74805173.0\n",
       "2022-01-11   172.32   175.18  170.82    175.08   75937685.0\n",
       "2022-01-10   169.08   172.50  168.17    172.19  106765552.0\n",
       "2022-01-07   172.89   174.14  171.03    172.17   86709147.0\n",
       "2022-01-06   172.70   175.30  171.64    172.00   96903955.0\n",
       "...             ...      ...     ...       ...          ...\n",
       "2021-08-27   147.48   148.75  146.83    148.60   55802388.0\n",
       "2021-08-26   148.35   149.12  147.51    147.54   48597195.0\n",
       "2021-08-25   149.81   150.32  147.80    148.36   58991297.0\n",
       "2021-08-24   149.45   150.86  149.15    149.62   48606428.0\n",
       "2021-08-23   148.31   150.19  147.89    149.71   60131810.0\n",
       "\n",
       "[100 rows x 5 columns]"
      ]
     },
     "execution_count": 6,
     "metadata": {},
     "output_type": "execute_result"
    }
   ],
   "source": [
    "data[0]"
   ]
  },
  {
   "cell_type": "code",
   "execution_count": 7,
   "id": "c52d8653",
   "metadata": {
    "pycharm": {
     "name": "#%%\n"
    }
   },
   "outputs": [],
   "source": [
    "data2=data[0]"
   ]
  },
  {
   "cell_type": "code",
   "execution_count": 9,
   "id": "a8cfc04c",
   "metadata": {
    "pycharm": {
     "name": "#%%\n"
    }
   },
   "outputs": [
    {
     "data": {
      "text/plain": [
       "Index(['1. open', '2. high', '3. low', '4. close', '5. volume'], dtype='object')"
      ]
     },
     "execution_count": 9,
     "metadata": {},
     "output_type": "execute_result"
    }
   ],
   "source": [
    "data2.columns"
   ]
  },
  {
   "cell_type": "code",
   "execution_count": 11,
   "id": "fdc93f46",
   "metadata": {
    "pycharm": {
     "name": "#%%\n"
    }
   },
   "outputs": [
    {
     "data": {
      "text/html": [
       "<div>\n",
       "<style scoped>\n",
       "    .dataframe tbody tr th:only-of-type {\n",
       "        vertical-align: middle;\n",
       "    }\n",
       "\n",
       "    .dataframe tbody tr th {\n",
       "        vertical-align: top;\n",
       "    }\n",
       "\n",
       "    .dataframe thead th {\n",
       "        text-align: right;\n",
       "    }\n",
       "</style>\n",
       "<table border=\"1\" class=\"dataframe\">\n",
       "  <thead>\n",
       "    <tr style=\"text-align: right;\">\n",
       "      <th></th>\n",
       "      <th>4. close</th>\n",
       "    </tr>\n",
       "    <tr>\n",
       "      <th>date</th>\n",
       "      <th></th>\n",
       "    </tr>\n",
       "  </thead>\n",
       "  <tbody>\n",
       "    <tr>\n",
       "      <th>2022-01-12</th>\n",
       "      <td>175.53</td>\n",
       "    </tr>\n",
       "    <tr>\n",
       "      <th>2022-01-11</th>\n",
       "      <td>175.08</td>\n",
       "    </tr>\n",
       "    <tr>\n",
       "      <th>2022-01-10</th>\n",
       "      <td>172.19</td>\n",
       "    </tr>\n",
       "    <tr>\n",
       "      <th>2022-01-07</th>\n",
       "      <td>172.17</td>\n",
       "    </tr>\n",
       "    <tr>\n",
       "      <th>2022-01-06</th>\n",
       "      <td>172.00</td>\n",
       "    </tr>\n",
       "    <tr>\n",
       "      <th>...</th>\n",
       "      <td>...</td>\n",
       "    </tr>\n",
       "    <tr>\n",
       "      <th>2021-08-27</th>\n",
       "      <td>148.60</td>\n",
       "    </tr>\n",
       "    <tr>\n",
       "      <th>2021-08-26</th>\n",
       "      <td>147.54</td>\n",
       "    </tr>\n",
       "    <tr>\n",
       "      <th>2021-08-25</th>\n",
       "      <td>148.36</td>\n",
       "    </tr>\n",
       "    <tr>\n",
       "      <th>2021-08-24</th>\n",
       "      <td>149.62</td>\n",
       "    </tr>\n",
       "    <tr>\n",
       "      <th>2021-08-23</th>\n",
       "      <td>149.71</td>\n",
       "    </tr>\n",
       "  </tbody>\n",
       "</table>\n",
       "<p>100 rows × 1 columns</p>\n",
       "</div>"
      ],
      "text/plain": [
       "            4. close\n",
       "date                \n",
       "2022-01-12    175.53\n",
       "2022-01-11    175.08\n",
       "2022-01-10    172.19\n",
       "2022-01-07    172.17\n",
       "2022-01-06    172.00\n",
       "...              ...\n",
       "2021-08-27    148.60\n",
       "2021-08-26    147.54\n",
       "2021-08-25    148.36\n",
       "2021-08-24    149.62\n",
       "2021-08-23    149.71\n",
       "\n",
       "[100 rows x 1 columns]"
      ]
     },
     "execution_count": 11,
     "metadata": {},
     "output_type": "execute_result"
    }
   ],
   "source": [
    "data2[\"4. close\"].to_frame()"
   ]
  },
  {
   "cell_type": "code",
   "execution_count": null,
   "id": "e6aefa9f",
   "metadata": {
    "pycharm": {
     "name": "#%%\n"
    }
   },
   "outputs": [],
   "source": []
  }
 ],
 "metadata": {
  "kernelspec": {
   "display_name": "Python 3 (ipykernel)",
   "language": "python",
   "name": "python3"
  },
  "language_info": {
   "codemirror_mode": {
    "name": "ipython",
    "version": 3
   },
   "file_extension": ".py",
   "mimetype": "text/x-python",
   "name": "python",
   "nbconvert_exporter": "python",
   "pygments_lexer": "ipython3",
   "version": "3.8.11"
  }
 },
 "nbformat": 4,
 "nbformat_minor": 5
}