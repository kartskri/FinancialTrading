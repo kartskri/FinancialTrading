{
 "cells": [
  {
   "cell_type": "code",
   "execution_count": 25,
   "metadata": {
    "pycharm": {
     "name": "#%%\n"
    }
   },
   "outputs": [],
   "source": [
    "import pandas as pd\n",
    "import matplotlib\n",
    "import matplotlib.pyplot as plt\n",
    "\n",
    "import tkinter\n",
    "matplotlib.use('TkAgg')\n",
    "%matplotlib inline\n"
   ]
  },
  {
   "cell_type": "markdown",
   "metadata": {
    "pycharm": {
     "name": "#%% md\n"
    }
   },
   "source": [
    "## Financial Trading with bt"
   ]
  },
  {
   "cell_type": "markdown",
   "metadata": {
    "pycharm": {
     "name": "#%% md\n"
    }
   },
   "source": [
    "#### The bt process\n",
    "The bt package provides a flexible framework for defining and backtesting trading strategies in Python. A trading strategy is a method of buying and selling financial assets based on predefined rules. Backtesting is a way to assess the effectiveness of a strategy by testing it on historical data."
   ]
  },
  {
   "cell_type": "markdown",
   "metadata": {
    "pycharm": {
     "name": "#%% md\n"
    }
   },
   "source": [
    "* Get the historical price data, either using ```bt.get()``` or loading data from existing CSV files.\n",
    "* Define the strategy with ```bt.Strategy()``` and pass in the strategy name and the ```algos``` needed.\n",
    "* Create a backtest with ```bt.Backtest()``` , pass in the strategy and data, and run the backtest.\n",
    "* Plot and evaluate the backtest result to assess the strategy's viability."
   ]
  },
  {
   "cell_type": "markdown",
   "metadata": {
    "pycharm": {
     "name": "#%% md\n"
    }
   },
   "source": [
    "### Define and backtest a simple strategy\n",
    "You want to create a strategy to trade the so-called \"FAANG\" stocks, which is an acronym referring to the stocks of the five most popular and best-performing American technology companies: Facebook, Amazon, Apple, Netflix, and Alphabet (a.k.a. Google).\n",
    "\n",
    "The idea is simple, you will hold an equal amount of each stock in your portfolio. Every week the strategy will buy or sell shares as needed in order to balance the equal weights.\n",
    "\n",
    "First, you will use the bt package to download the historical price data for the \"FAANG\" stocks by their tickers. Second, you will define the strategy, which specifies buying an equal amount of each stock, and rebalance every week. Lastly, you will run the backtest and plot the result."
   ]
  },
  {
   "cell_type": "code",
   "execution_count": 26,
   "metadata": {
    "pycharm": {
     "name": "#%%\n"
    }
   },
   "outputs": [],
   "source": [
    "import bt"
   ]
  },
  {
   "cell_type": "code",
   "execution_count": 27,
   "metadata": {
    "pycharm": {
     "name": "#%%\n"
    }
   },
   "outputs": [],
   "source": [
    "stock_list = 'fb, amzn, goog, nflx, aapl' # CSV List\n",
    "start_date = '2020-6-1' # June 1 st 2020\n",
    "end_date = '2020-12-1' # Dec 1 st 2020"
   ]
  },
  {
   "cell_type": "code",
   "execution_count": 28,
   "metadata": {
    "pycharm": {
     "name": "#%%\n"
    }
   },
   "outputs": [
    {
     "data": {
      "text/html": [
       "<div>\n",
       "<style scoped>\n",
       "    .dataframe tbody tr th:only-of-type {\n",
       "        vertical-align: middle;\n",
       "    }\n",
       "\n",
       "    .dataframe tbody tr th {\n",
       "        vertical-align: top;\n",
       "    }\n",
       "\n",
       "    .dataframe thead th {\n",
       "        text-align: right;\n",
       "    }\n",
       "</style>\n",
       "<table border=\"1\" class=\"dataframe\">\n",
       "  <thead>\n",
       "    <tr style=\"text-align: right;\">\n",
       "      <th></th>\n",
       "      <th>fb</th>\n",
       "      <th>amzn</th>\n",
       "      <th>goog</th>\n",
       "      <th>nflx</th>\n",
       "      <th>aapl</th>\n",
       "    </tr>\n",
       "    <tr>\n",
       "      <th>Date</th>\n",
       "      <th></th>\n",
       "      <th></th>\n",
       "      <th></th>\n",
       "      <th></th>\n",
       "      <th></th>\n",
       "    </tr>\n",
       "  </thead>\n",
       "  <tbody>\n",
       "    <tr>\n",
       "      <th>2020-06-01</th>\n",
       "      <td>231.910004</td>\n",
       "      <td>2471.040039</td>\n",
       "      <td>1431.819946</td>\n",
       "      <td>425.920013</td>\n",
       "      <td>79.469933</td>\n",
       "    </tr>\n",
       "    <tr>\n",
       "      <th>2020-06-02</th>\n",
       "      <td>232.720001</td>\n",
       "      <td>2472.409912</td>\n",
       "      <td>1439.219971</td>\n",
       "      <td>427.309998</td>\n",
       "      <td>79.837837</td>\n",
       "    </tr>\n",
       "    <tr>\n",
       "      <th>2020-06-03</th>\n",
       "      <td>230.160004</td>\n",
       "      <td>2478.399902</td>\n",
       "      <td>1436.380005</td>\n",
       "      <td>421.970001</td>\n",
       "      <td>80.277344</td>\n",
       "    </tr>\n",
       "    <tr>\n",
       "      <th>2020-06-04</th>\n",
       "      <td>226.289993</td>\n",
       "      <td>2460.600098</td>\n",
       "      <td>1412.180054</td>\n",
       "      <td>414.329987</td>\n",
       "      <td>79.585991</td>\n",
       "    </tr>\n",
       "    <tr>\n",
       "      <th>2020-06-05</th>\n",
       "      <td>230.770004</td>\n",
       "      <td>2483.000000</td>\n",
       "      <td>1438.390015</td>\n",
       "      <td>419.600006</td>\n",
       "      <td>81.852669</td>\n",
       "    </tr>\n",
       "  </tbody>\n",
       "</table>\n",
       "</div>"
      ],
      "text/plain": [
       "                    fb         amzn         goog        nflx       aapl\n",
       "Date                                                                   \n",
       "2020-06-01  231.910004  2471.040039  1431.819946  425.920013  79.469933\n",
       "2020-06-02  232.720001  2472.409912  1439.219971  427.309998  79.837837\n",
       "2020-06-03  230.160004  2478.399902  1436.380005  421.970001  80.277344\n",
       "2020-06-04  226.289993  2460.600098  1412.180054  414.329987  79.585991\n",
       "2020-06-05  230.770004  2483.000000  1438.390015  419.600006  81.852669"
      ]
     },
     "execution_count": 28,
     "metadata": {},
     "output_type": "execute_result"
    }
   ],
   "source": [
    "bt_data = bt.get(stock_list, start = start_date, end = end_date)\n",
    "bt_data.head()"
   ]
  },
  {
   "cell_type": "code",
   "execution_count": 29,
   "metadata": {
    "pycharm": {
     "name": "#%%\n"
    }
   },
   "outputs": [],
   "source": [
    "### BT Strategy\n",
    "bt_strategy = bt.Strategy('Trade_Weekly',\n",
    "                          [\n",
    "                              bt.algos.RunWeekly(),\n",
    "                              bt.algos.SelectAll(),\n",
    "                              bt.algos.WeighEqually(),\n",
    "                              bt.algos.Rebalance()\n",
    "                          ])"
   ]
  },
  {
   "cell_type": "code",
   "execution_count": 30,
   "metadata": {
    "pycharm": {
     "name": "#%%\n"
    }
   },
   "outputs": [],
   "source": [
    "bt_backtest = bt.Backtest(bt_strategy, bt_data)"
   ]
  },
  {
   "cell_type": "code",
   "execution_count": 31,
   "metadata": {
    "pycharm": {
     "name": "#%%\n"
    }
   },
   "outputs": [],
   "source": [
    "bt_res = bt.run(bt_backtest)"
   ]
  },
  {
   "cell_type": "code",
   "execution_count": 32,
   "metadata": {
    "pycharm": {
     "name": "#%%\n"
    }
   },
   "outputs": [
    {
     "data": {
      "image/png": "[encoded data removed]",
      "text/plain": [
       "<Figure size 1080x360 with 1 Axes>"
      ]
     },
     "metadata": {
      "needs_background": "light"
     },
     "output_type": "display_data"
    }
   ],
   "source": [
    "bt_res.plot(title=\"Backtest result\")\n",
    "plt.show()"
   ]
  },
  {
   "cell_type": "code",
   "execution_count": 33,
   "metadata": {
    "pycharm": {
     "name": "#%%\n"
    }
   },
   "outputs": [
    {
     "data": {
      "text/html": [
       "<div>\n",
       "<style scoped>\n",
       "    .dataframe tbody tr th:only-of-type {\n",
       "        vertical-align: middle;\n",
       "    }\n",
       "\n",
       "    .dataframe tbody tr th {\n",
       "        vertical-align: top;\n",
       "    }\n",
       "\n",
       "    .dataframe thead th {\n",
       "        text-align: right;\n",
       "    }\n",
       "</style>\n",
       "<table border=\"1\" class=\"dataframe\">\n",
       "  <thead>\n",
       "    <tr style=\"text-align: right;\">\n",
       "      <th></th>\n",
       "      <th></th>\n",
       "      <th>price</th>\n",
       "      <th>quantity</th>\n",
       "    </tr>\n",
       "    <tr>\n",
       "      <th>Date</th>\n",
       "      <th>Security</th>\n",
       "      <th></th>\n",
       "      <th></th>\n",
       "    </tr>\n",
       "  </thead>\n",
       "  <tbody>\n",
       "    <tr>\n",
       "      <th rowspan=\"5\" valign=\"top\">2020-06-01</th>\n",
       "      <th>aapl</th>\n",
       "      <td>79.469933</td>\n",
       "      <td>2516.0</td>\n",
       "    </tr>\n",
       "    <tr>\n",
       "      <th>amzn</th>\n",
       "      <td>2471.040039</td>\n",
       "      <td>80.0</td>\n",
       "    </tr>\n",
       "    <tr>\n",
       "      <th>fb</th>\n",
       "      <td>231.910004</td>\n",
       "      <td>862.0</td>\n",
       "    </tr>\n",
       "    <tr>\n",
       "      <th>goog</th>\n",
       "      <td>1431.819946</td>\n",
       "      <td>139.0</td>\n",
       "    </tr>\n",
       "    <tr>\n",
       "      <th>nflx</th>\n",
       "      <td>425.920013</td>\n",
       "      <td>469.0</td>\n",
       "    </tr>\n",
       "    <tr>\n",
       "      <th>...</th>\n",
       "      <th>...</th>\n",
       "      <td>...</td>\n",
       "      <td>...</td>\n",
       "    </tr>\n",
       "    <tr>\n",
       "      <th rowspan=\"2\" valign=\"top\">2020-11-23</th>\n",
       "      <th>goog</th>\n",
       "      <td>1734.859985</td>\n",
       "      <td>-1.0</td>\n",
       "    </tr>\n",
       "    <tr>\n",
       "      <th>nflx</th>\n",
       "      <td>476.619995</td>\n",
       "      <td>-11.0</td>\n",
       "    </tr>\n",
       "    <tr>\n",
       "      <th rowspan=\"3\" valign=\"top\">2020-11-30</th>\n",
       "      <th>aapl</th>\n",
       "      <td>117.996651</td>\n",
       "      <td>-36.0</td>\n",
       "    </tr>\n",
       "    <tr>\n",
       "      <th>fb</th>\n",
       "      <td>276.970001</td>\n",
       "      <td>-3.0</td>\n",
       "    </tr>\n",
       "    <tr>\n",
       "      <th>goog</th>\n",
       "      <td>1760.739990</td>\n",
       "      <td>2.0</td>\n",
       "    </tr>\n",
       "  </tbody>\n",
       "</table>\n",
       "<p>125 rows × 2 columns</p>\n",
       "</div>"
      ],
      "text/plain": [
       "                           price  quantity\n",
       "Date       Security                       \n",
       "2020-06-01 aapl        79.469933    2516.0\n",
       "           amzn      2471.040039      80.0\n",
       "           fb         231.910004     862.0\n",
       "           goog      1431.819946     139.0\n",
       "           nflx       425.920013     469.0\n",
       "...                          ...       ...\n",
       "2020-11-23 goog      1734.859985      -1.0\n",
       "           nflx       476.619995     -11.0\n",
       "2020-11-30 aapl       117.996651     -36.0\n",
       "           fb         276.970001      -3.0\n",
       "           goog      1760.739990       2.0\n",
       "\n",
       "[125 rows x 2 columns]"
      ]
     },
     "execution_count": 33,
     "metadata": {},
     "output_type": "execute_result"
    }
   ],
   "source": [
    "# Get trade details\n",
    "bt_res.get_transactions()"
   ]
  },
  {
   "cell_type": "code",
   "execution_count": null,
   "metadata": {
    "pycharm": {
     "name": "#%%\n"
    }
   },
   "outputs": [],
   "source": []
  }
 ],
 "metadata": {
  "kernelspec": {
   "display_name": "Python 3 (ipykernel)",
   "language": "python",
   "name": "python3"
  },
  "language_info": {
   "codemirror_mode": {
    "name": "ipython",
    "version": 3
   },
   "file_extension": ".py",
   "mimetype": "text/x-python",
   "name": "python",
   "nbconvert_exporter": "python",
   "pygments_lexer": "ipython3",
   "version": "3.9.12"
  }
 },
 "nbformat": 4,
 "nbformat_minor": 1
}
