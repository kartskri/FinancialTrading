{
 "cells": [
  {
   "cell_type": "code",
   "execution_count": 1,
   "id": "f9a5a153",
   "metadata": {
    "pycharm": {
     "name": "#%%\n"
    }
   },
   "outputs": [],
   "source": [
    "import bt\n",
    "import pandas as pd\n",
    "import matplotlib\n",
    "import matplotlib.pyplot as plt\n",
    "import talib"
   ]
  },
  {
   "cell_type": "code",
   "execution_count": 2,
   "id": "5e237547",
   "metadata": {
    "pycharm": {
     "name": "#%%\n"
    }
   },
   "outputs": [],
   "source": [
    "matplotlib.use('TkAgg')\n",
    "%matplotlib inline"
   ]
  },
  {
   "cell_type": "markdown",
   "id": "01a50204",
   "metadata": {
    "pycharm": {
     "name": "#%% md\n"
    }
   },
   "source": [
    "### Build an EMA-based signal strategy"
   ]
  },
  {
   "cell_type": "code",
   "execution_count": 3,
   "id": "e9406dc5",
   "metadata": {
    "pycharm": {
     "name": "#%%\n"
    }
   },
   "outputs": [],
   "source": [
    "stock_symbol = 'aapl'\n",
    "start_date = '2019-11-1'\n",
    "end_date = '2020-12-1'\n",
    "sma_time_period = 20"
   ]
  },
  {
   "cell_type": "code",
   "execution_count": 4,
   "id": "d88f89a0",
   "metadata": {
    "pycharm": {
     "name": "#%%\n"
    }
   },
   "outputs": [
    {
     "data": {
      "text/html": [
       "<div>\n",
       "<style scoped>\n",
       "    .dataframe tbody tr th:only-of-type {\n",
       "        vertical-align: middle;\n",
       "    }\n",
       "\n",
       "    .dataframe tbody tr th {\n",
       "        vertical-align: top;\n",
       "    }\n",
       "\n",
       "    .dataframe thead th {\n",
       "        text-align: right;\n",
       "    }\n",
       "</style>\n",
       "<table border=\"1\" class=\"dataframe\">\n",
       "  <thead>\n",
       "    <tr style=\"text-align: right;\">\n",
       "      <th></th>\n",
       "      <th>aapl</th>\n",
       "    </tr>\n",
       "    <tr>\n",
       "      <th>Date</th>\n",
       "      <th></th>\n",
       "    </tr>\n",
       "  </thead>\n",
       "  <tbody>\n",
       "    <tr>\n",
       "      <th>2019-11-01</th>\n",
       "      <td>62.658272</td>\n",
       "    </tr>\n",
       "    <tr>\n",
       "      <th>2019-11-04</th>\n",
       "      <td>63.069748</td>\n",
       "    </tr>\n",
       "    <tr>\n",
       "      <th>2019-11-05</th>\n",
       "      <td>62.979134</td>\n",
       "    </tr>\n",
       "    <tr>\n",
       "      <th>2019-11-06</th>\n",
       "      <td>63.006065</td>\n",
       "    </tr>\n",
       "    <tr>\n",
       "      <th>2019-11-07</th>\n",
       "      <td>63.733238</td>\n",
       "    </tr>\n",
       "    <tr>\n",
       "      <th>...</th>\n",
       "      <td>...</td>\n",
       "    </tr>\n",
       "    <tr>\n",
       "      <th>2020-11-24</th>\n",
       "      <td>114.150978</td>\n",
       "    </tr>\n",
       "    <tr>\n",
       "      <th>2020-11-25</th>\n",
       "      <td>115.003372</td>\n",
       "    </tr>\n",
       "    <tr>\n",
       "      <th>2020-11-27</th>\n",
       "      <td>115.558418</td>\n",
       "    </tr>\n",
       "    <tr>\n",
       "      <th>2020-11-30</th>\n",
       "      <td>117.996658</td>\n",
       "    </tr>\n",
       "    <tr>\n",
       "      <th>2020-12-01</th>\n",
       "      <td>121.634186</td>\n",
       "    </tr>\n",
       "  </tbody>\n",
       "</table>\n",
       "<p>273 rows × 1 columns</p>\n",
       "</div>"
      ],
      "text/plain": [
       "                  aapl\n",
       "Date                  \n",
       "2019-11-01   62.658272\n",
       "2019-11-04   63.069748\n",
       "2019-11-05   62.979134\n",
       "2019-11-06   63.006065\n",
       "2019-11-07   63.733238\n",
       "...                ...\n",
       "2020-11-24  114.150978\n",
       "2020-11-25  115.003372\n",
       "2020-11-27  115.558418\n",
       "2020-11-30  117.996658\n",
       "2020-12-01  121.634186\n",
       "\n",
       "[273 rows x 1 columns]"
      ]
     },
     "execution_count": 4,
     "metadata": {},
     "output_type": "execute_result"
    }
   ],
   "source": [
    "price_data = bt.get(stock_symbol, start=start_date, end=end_date)\n",
    "price_data"
   ]
  },
  {
   "cell_type": "code",
   "execution_count": 5,
   "id": "bf6ca5f1",
   "metadata": {
    "pycharm": {
     "name": "#%%\n"
    }
   },
   "outputs": [
    {
     "data": {
      "text/html": [
       "<div>\n",
       "<style scoped>\n",
       "    .dataframe tbody tr th:only-of-type {\n",
       "        vertical-align: middle;\n",
       "    }\n",
       "\n",
       "    .dataframe tbody tr th {\n",
       "        vertical-align: top;\n",
       "    }\n",
       "\n",
       "    .dataframe thead th {\n",
       "        text-align: right;\n",
       "    }\n",
       "</style>\n",
       "<table border=\"1\" class=\"dataframe\">\n",
       "  <thead>\n",
       "    <tr style=\"text-align: right;\">\n",
       "      <th></th>\n",
       "      <th>aapl</th>\n",
       "    </tr>\n",
       "    <tr>\n",
       "      <th>Date</th>\n",
       "      <th></th>\n",
       "    </tr>\n",
       "  </thead>\n",
       "  <tbody>\n",
       "    <tr>\n",
       "      <th>2019-11-01</th>\n",
       "      <td>NaN</td>\n",
       "    </tr>\n",
       "    <tr>\n",
       "      <th>2019-11-04</th>\n",
       "      <td>NaN</td>\n",
       "    </tr>\n",
       "    <tr>\n",
       "      <th>2019-11-05</th>\n",
       "      <td>NaN</td>\n",
       "    </tr>\n",
       "    <tr>\n",
       "      <th>2019-11-06</th>\n",
       "      <td>NaN</td>\n",
       "    </tr>\n",
       "    <tr>\n",
       "      <th>2019-11-07</th>\n",
       "      <td>NaN</td>\n",
       "    </tr>\n",
       "    <tr>\n",
       "      <th>...</th>\n",
       "      <td>...</td>\n",
       "    </tr>\n",
       "    <tr>\n",
       "      <th>2020-11-24</th>\n",
       "      <td>115.674554</td>\n",
       "    </tr>\n",
       "    <tr>\n",
       "      <th>2020-11-25</th>\n",
       "      <td>115.610632</td>\n",
       "    </tr>\n",
       "    <tr>\n",
       "      <th>2020-11-27</th>\n",
       "      <td>115.605660</td>\n",
       "    </tr>\n",
       "    <tr>\n",
       "      <th>2020-11-30</th>\n",
       "      <td>115.833374</td>\n",
       "    </tr>\n",
       "    <tr>\n",
       "      <th>2020-12-01</th>\n",
       "      <td>116.385832</td>\n",
       "    </tr>\n",
       "  </tbody>\n",
       "</table>\n",
       "<p>273 rows × 1 columns</p>\n",
       "</div>"
      ],
      "text/plain": [
       "                  aapl\n",
       "Date                  \n",
       "2019-11-01         NaN\n",
       "2019-11-04         NaN\n",
       "2019-11-05         NaN\n",
       "2019-11-06         NaN\n",
       "2019-11-07         NaN\n",
       "...                ...\n",
       "2020-11-24  115.674554\n",
       "2020-11-25  115.610632\n",
       "2020-11-27  115.605660\n",
       "2020-11-30  115.833374\n",
       "2020-12-01  116.385832\n",
       "\n",
       "[273 rows x 1 columns]"
      ]
     },
     "execution_count": 5,
     "metadata": {},
     "output_type": "execute_result"
    }
   ],
   "source": [
    "# Compute EMA\n",
    "ema = talib.EMA(price_data['aapl'], timeperiod=20)\n",
    "ema = pd.DataFrame(ema)\n",
    "ema.rename(columns = {0:\"aapl\"}, inplace=True)\n",
    "ema"
   ]
  },
  {
   "cell_type": "code",
   "execution_count": 6,
   "id": "aff87146",
   "metadata": {
    "pycharm": {
     "name": "#%%\n"
    }
   },
   "outputs": [],
   "source": [
    "bt_strategy = bt.Strategy('AboveEMA',\n",
    "                         [\n",
    "                             bt.algos.SelectWhere(price_data > ema),\n",
    "                             bt.algos.WeighEqually(),\n",
    "                             bt.algos.Rebalance()\n",
    "                         ])"
   ]
  },
  {
   "cell_type": "code",
   "execution_count": 7,
   "id": "4d0783ff",
   "metadata": {
    "pycharm": {
     "name": "#%%\n"
    }
   },
   "outputs": [],
   "source": [
    "bt_backtest = bt.Backtest(bt_strategy, price_data)"
   ]
  },
  {
   "cell_type": "code",
   "execution_count": 8,
   "id": "9cd5f83e",
   "metadata": {
    "pycharm": {
     "name": "#%%\n"
    }
   },
   "outputs": [],
   "source": [
    "bt_result = bt.run(bt_backtest)"
   ]
  },
  {
   "cell_type": "code",
   "execution_count": 9,
   "id": "fcd2f3ff",
   "metadata": {
    "pycharm": {
     "name": "#%%\n"
    }
   },
   "outputs": [
    {
     "data": {
      "image/png": "[encoded data removed]",
      "text/plain": [
       "<Figure size 1080x360 with 1 Axes>"
      ]
     },
     "metadata": {
      "needs_background": "light"
     },
     "output_type": "display_data"
    }
   ],
   "source": [
    "bt_result.plot(title='Backtest Results')\n",
    "plt.show()"
   ]
  },
  {
   "cell_type": "code",
   "execution_count": 10,
   "id": "8f7aa81e",
   "metadata": {
    "pycharm": {
     "name": "#%%\n"
    }
   },
   "outputs": [
    {
     "data": {
      "image/png": "[encoded data removed]",
      "text/plain": [
       "<Figure size 1080x360 with 1 Axes>"
      ]
     },
     "metadata": {
      "needs_background": "light"
     },
     "output_type": "display_data"
    }
   ],
   "source": [
    "bt_result.plot_security_weights()"
   ]
  },
  {
   "cell_type": "code",
   "execution_count": 11,
   "id": "74d79e2e",
   "metadata": {
    "pycharm": {
     "name": "#%%\n"
    }
   },
   "outputs": [
    {
     "data": {
      "image/png": "[encoded data removed]",
      "text/plain": [
       "<Figure size 1080x360 with 1 Axes>"
      ]
     },
     "metadata": {
      "needs_background": "light"
     },
     "output_type": "display_data"
    }
   ],
   "source": [
    "bt_result.plot_histogram()"
   ]
  },
  {
   "cell_type": "code",
   "execution_count": 12,
   "id": "f939e1eb",
   "metadata": {
    "pycharm": {
     "name": "#%%\n"
    }
   },
   "outputs": [
    {
     "name": "stdout",
     "output_type": "stream",
     "text": [
      "Stat                 AboveEMA\n",
      "-------------------  ----------\n",
      "Start                2019-10-31\n",
      "End                  2020-12-01\n",
      "Risk-free rate       0.00%\n",
      "\n",
      "Total Return         62.23%\n",
      "Daily Sharpe         1.73\n",
      "Daily Sortino        2.90\n",
      "CAGR                 56.08%\n",
      "Max Drawdown         -23.85%\n",
      "Calmar Ratio         2.35\n",
      "\n",
      "MTD                  3.08%\n",
      "3m                   -21.50%\n",
      "6m                   26.00%\n",
      "YTD                  51.14%\n",
      "1Y                   62.23%\n",
      "3Y (ann.)            -\n",
      "5Y (ann.)            -\n",
      "10Y (ann.)           -\n",
      "Since Incep. (ann.)  56.08%\n",
      "\n",
      "Daily Sharpe         1.73\n",
      "Daily Sortino        2.90\n",
      "Daily Mean (ann.)    48.64%\n",
      "Daily Vol (ann.)     28.15%\n",
      "Daily Skew           0.24\n",
      "Daily Kurt           6.72\n",
      "Best Day             10.47%\n",
      "Worst Day            -8.01%\n",
      "\n",
      "Monthly Sharpe       1.47\n",
      "Monthly Sortino      3.51\n",
      "Monthly Mean (ann.)  46.76%\n",
      "Monthly Vol (ann.)   31.91%\n",
      "Monthly Skew         0.08\n",
      "Monthly Kurt         -0.16\n",
      "Best Month           21.66%\n",
      "Worst Month          -11.92%\n",
      "\n",
      "Yearly Sharpe        -\n",
      "Yearly Sortino       -\n",
      "Yearly Mean          51.14%\n",
      "Yearly Vol           -\n",
      "Yearly Skew          -\n",
      "Yearly Kurt          -\n",
      "Best Year            51.14%\n",
      "Worst Year           51.14%\n",
      "\n",
      "Avg. Drawdown        -3.27%\n",
      "Avg. Drawdown Days   13.36\n",
      "Avg. Up Month        10.19%\n",
      "Avg. Down Month      -4.49%\n",
      "Win Year %           100.00%\n",
      "Win 12m %            100.00%\n"
     ]
    }
   ],
   "source": [
    "bt_result.display()"
   ]
  },
  {
   "cell_type": "code",
   "execution_count": null,
   "id": "4eed168e",
   "metadata": {
    "pycharm": {
     "name": "#%%\n"
    }
   },
   "outputs": [],
   "source": []
  }
 ],
 "metadata": {
  "kernelspec": {
   "display_name": "Python 3 (ipykernel)",
   "language": "python",
   "name": "python3"
  },
  "language_info": {
   "codemirror_mode": {
    "name": "ipython",
    "version": 3
   },
   "file_extension": ".py",
   "mimetype": "text/x-python",
   "name": "python",
   "nbconvert_exporter": "python",
   "pygments_lexer": "ipython3",
   "version": "3.9.7"
  }
 },
 "nbformat": 4,
 "nbformat_minor": 5
}
