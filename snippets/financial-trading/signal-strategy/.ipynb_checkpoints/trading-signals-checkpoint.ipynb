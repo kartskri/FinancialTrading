{
 "cells": [
  {
   "cell_type": "code",
   "execution_count": 4,
   "id": "e11ec329",
   "metadata": {},
   "outputs": [],
   "source": [
    "import bt\n",
    "import pandas\n",
    "import matplotlib.pyplot as plt\n",
    "import talib"
   ]
  },
  {
   "cell_type": "markdown",
   "id": "c05fe61c",
   "metadata": {},
   "source": [
    "### Build an SMA-based signal strategy\n",
    "It's time to build and backtest your first signal-based strategy. Although simple, these types of strategies can be effective, and also lay the groundwork for more complex strategies consisting of additional signals and information.\n",
    "\n",
    "Implementing a price-comparison-based signal with bt is a straightforward process. You will first download some historical price data of the stock, calculate its SMA (simple moving average), implement an SMA-based signal strategy, and then backtest it with the stock price data."
   ]
  },
  {
   "cell_type": "code",
   "execution_count": 12,
   "id": "30e941c5",
   "metadata": {},
   "outputs": [],
   "source": [
    "stock_symbol = 'aapl'\n",
    "start_date = '2019-11-1'\n",
    "end_date = '2020-12-1'"
   ]
  },
  {
   "cell_type": "code",
   "execution_count": 13,
   "id": "5a750b4f",
   "metadata": {},
   "outputs": [
    {
     "data": {
      "text/html": [
       "<div>\n",
       "<style scoped>\n",
       "    .dataframe tbody tr th:only-of-type {\n",
       "        vertical-align: middle;\n",
       "    }\n",
       "\n",
       "    .dataframe tbody tr th {\n",
       "        vertical-align: top;\n",
       "    }\n",
       "\n",
       "    .dataframe thead th {\n",
       "        text-align: right;\n",
       "    }\n",
       "</style>\n",
       "<table border=\"1\" class=\"dataframe\">\n",
       "  <thead>\n",
       "    <tr style=\"text-align: right;\">\n",
       "      <th></th>\n",
       "      <th>aapl</th>\n",
       "      <th>sma_10</th>\n",
       "    </tr>\n",
       "    <tr>\n",
       "      <th>Date</th>\n",
       "      <th></th>\n",
       "      <th></th>\n",
       "    </tr>\n",
       "  </thead>\n",
       "  <tbody>\n",
       "    <tr>\n",
       "      <th>2019-11-01</th>\n",
       "      <td>62.658276</td>\n",
       "      <td>NaN</td>\n",
       "    </tr>\n",
       "    <tr>\n",
       "      <th>2019-11-04</th>\n",
       "      <td>63.069756</td>\n",
       "      <td>NaN</td>\n",
       "    </tr>\n",
       "    <tr>\n",
       "      <th>2019-11-05</th>\n",
       "      <td>62.979134</td>\n",
       "      <td>NaN</td>\n",
       "    </tr>\n",
       "    <tr>\n",
       "      <th>2019-11-06</th>\n",
       "      <td>63.006077</td>\n",
       "      <td>NaN</td>\n",
       "    </tr>\n",
       "    <tr>\n",
       "      <th>2019-11-07</th>\n",
       "      <td>63.733238</td>\n",
       "      <td>NaN</td>\n",
       "    </tr>\n",
       "    <tr>\n",
       "      <th>...</th>\n",
       "      <td>...</td>\n",
       "      <td>...</td>\n",
       "    </tr>\n",
       "    <tr>\n",
       "      <th>2020-11-24</th>\n",
       "      <td>114.150986</td>\n",
       "      <td>117.023342</td>\n",
       "    </tr>\n",
       "    <tr>\n",
       "      <th>2020-11-25</th>\n",
       "      <td>115.003372</td>\n",
       "      <td>116.680404</td>\n",
       "    </tr>\n",
       "    <tr>\n",
       "      <th>2020-11-27</th>\n",
       "      <td>115.558418</td>\n",
       "      <td>116.420721</td>\n",
       "    </tr>\n",
       "    <tr>\n",
       "      <th>2020-11-30</th>\n",
       "      <td>117.996658</td>\n",
       "      <td>116.399907</td>\n",
       "    </tr>\n",
       "    <tr>\n",
       "      <th>2020-12-01</th>\n",
       "      <td>121.634178</td>\n",
       "      <td>116.639765</td>\n",
       "    </tr>\n",
       "  </tbody>\n",
       "</table>\n",
       "<p>273 rows × 2 columns</p>\n",
       "</div>"
      ],
      "text/plain": [
       "                  aapl      sma_10\n",
       "Date                              \n",
       "2019-11-01   62.658276         NaN\n",
       "2019-11-04   63.069756         NaN\n",
       "2019-11-05   62.979134         NaN\n",
       "2019-11-06   63.006077         NaN\n",
       "2019-11-07   63.733238         NaN\n",
       "...                ...         ...\n",
       "2020-11-24  114.150986  117.023342\n",
       "2020-11-25  115.003372  116.680404\n",
       "2020-11-27  115.558418  116.420721\n",
       "2020-11-30  117.996658  116.399907\n",
       "2020-12-01  121.634178  116.639765\n",
       "\n",
       "[273 rows x 2 columns]"
      ]
     },
     "execution_count": 13,
     "metadata": {},
     "output_type": "execute_result"
    }
   ],
   "source": [
    "price_data = bt.get(stock_symbol, start=start_date, end=end_date)\n",
    "# SMA Rolling Averages\n",
    "price_data.rename(column)\n",
    "price_data['sma_10'] = price_data.rolling(10).mean()\n",
    "price_data"
   ]
  },
  {
   "cell_type": "code",
   "execution_count": 10,
   "id": "dc4c721d",
   "metadata": {},
   "outputs": [
    {
     "data": {
      "text/plain": [
       "(                  aapl\n",
       " Date                  \n",
       " 2019-11-01   62.658268\n",
       " 2019-11-04   63.069759\n",
       " 2019-11-05   62.979130\n",
       " 2019-11-06   63.006065\n",
       " 2019-11-07   63.733231\n",
       " ...                ...\n",
       " 2020-11-24  114.150986\n",
       " 2020-11-25  115.003380\n",
       " 2020-11-27  115.558418\n",
       " 2020-11-30  117.996658\n",
       " 2020-12-01  121.634186\n",
       " \n",
       " [273 rows x 1 columns],\n",
       "                   aapl\n",
       " Date                  \n",
       " 2019-11-01         NaN\n",
       " 2019-11-04         NaN\n",
       " 2019-11-05         NaN\n",
       " 2019-11-06         NaN\n",
       " 2019-11-07         NaN\n",
       " ...                ...\n",
       " 2020-11-24  117.023345\n",
       " 2020-11-25  116.680408\n",
       " 2020-11-27  116.420726\n",
       " 2020-11-30  116.399911\n",
       " 2020-12-01  116.639770\n",
       " \n",
       " [273 rows x 1 columns])"
      ]
     },
     "execution_count": 10,
     "metadata": {},
     "output_type": "execute_result"
    }
   ],
   "source": [
    "bt_strategy = bt.Strategy('AboveSMA',\n",
    "                         [\n",
    "                             bt.algos.SelectWhere()\n",
    "                         ])"
   ]
  },
  {
   "cell_type": "code",
   "execution_count": null,
   "id": "316cfcfd",
   "metadata": {},
   "outputs": [],
   "source": []
  }
 ],
 "metadata": {
  "kernelspec": {
   "display_name": "Python 3 (ipykernel)",
   "language": "python",
   "name": "python3"
  },
  "language_info": {
   "codemirror_mode": {
    "name": "ipython",
    "version": 3
   },
   "file_extension": ".py",
   "mimetype": "text/x-python",
   "name": "python",
   "nbconvert_exporter": "python",
   "pygments_lexer": "ipython3",
   "version": "3.9.7"
  }
 },
 "nbformat": 4,
 "nbformat_minor": 5
}
