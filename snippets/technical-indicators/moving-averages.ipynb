{
 "cells": [
  {
   "cell_type": "code",
   "execution_count": 1,
   "metadata": {
    "pycharm": {
     "name": "#%%\n"
    }
   },
   "outputs": [],
   "source": [
    "import pandas as pd\n",
    "import matplotlib.pyplot as plt"
   ]
  },
  {
   "cell_type": "code",
   "execution_count": 2,
   "metadata": {
    "pycharm": {
     "name": "#%%\n"
    }
   },
   "outputs": [],
   "source": [
    "import talib"
   ]
  },
  {
   "cell_type": "code",
   "execution_count": 3,
   "metadata": {
    "pycharm": {
     "name": "#%%\n"
    }
   },
   "outputs": [
    {
     "data": {
      "text/plain": "               Open     High      Low    Close  Adj Close   Volume\nDate                                                              \n2019-07-19  1148.19  1151.14  1129.62  1130.10    1130.10  1647200\n2019-07-22  1133.45  1139.25  1124.24  1138.07    1138.07  1301500\n2019-07-23  1144.00  1146.90  1131.80  1146.21    1146.21  1093700\n2019-07-24  1131.90  1144.00  1126.99  1137.81    1137.81  1589800\n2019-07-25  1137.82  1141.70  1120.92  1132.12    1132.12  2209800\n...             ...      ...      ...      ...        ...      ...\n2020-12-21  1713.51  1740.85  1699.00  1739.37    1739.37  1828400\n2020-12-22  1734.43  1737.41  1712.57  1723.50    1723.50   936700\n2020-12-23  1728.11  1747.99  1725.04  1732.38    1732.38  1033800\n2020-12-24  1735.00  1746.00  1729.11  1738.85    1738.85   346800\n2020-12-28  1751.64  1790.73  1746.33  1776.09    1776.09  1393000\n\n[365 rows x 6 columns]",
      "text/html": "<div>\n<style scoped>\n    .dataframe tbody tr th:only-of-type {\n        vertical-align: middle;\n    }\n\n    .dataframe tbody tr th {\n        vertical-align: top;\n    }\n\n    .dataframe thead th {\n        text-align: right;\n    }\n</style>\n<table border=\"1\" class=\"dataframe\">\n  <thead>\n    <tr style=\"text-align: right;\">\n      <th></th>\n      <th>Open</th>\n      <th>High</th>\n      <th>Low</th>\n      <th>Close</th>\n      <th>Adj Close</th>\n      <th>Volume</th>\n    </tr>\n    <tr>\n      <th>Date</th>\n      <th></th>\n      <th></th>\n      <th></th>\n      <th></th>\n      <th></th>\n      <th></th>\n    </tr>\n  </thead>\n  <tbody>\n    <tr>\n      <th>2019-07-19</th>\n      <td>1148.19</td>\n      <td>1151.14</td>\n      <td>1129.62</td>\n      <td>1130.10</td>\n      <td>1130.10</td>\n      <td>1647200</td>\n    </tr>\n    <tr>\n      <th>2019-07-22</th>\n      <td>1133.45</td>\n      <td>1139.25</td>\n      <td>1124.24</td>\n      <td>1138.07</td>\n      <td>1138.07</td>\n      <td>1301500</td>\n    </tr>\n    <tr>\n      <th>2019-07-23</th>\n      <td>1144.00</td>\n      <td>1146.90</td>\n      <td>1131.80</td>\n      <td>1146.21</td>\n      <td>1146.21</td>\n      <td>1093700</td>\n    </tr>\n    <tr>\n      <th>2019-07-24</th>\n      <td>1131.90</td>\n      <td>1144.00</td>\n      <td>1126.99</td>\n      <td>1137.81</td>\n      <td>1137.81</td>\n      <td>1589800</td>\n    </tr>\n    <tr>\n      <th>2019-07-25</th>\n      <td>1137.82</td>\n      <td>1141.70</td>\n      <td>1120.92</td>\n      <td>1132.12</td>\n      <td>1132.12</td>\n      <td>2209800</td>\n    </tr>\n    <tr>\n      <th>...</th>\n      <td>...</td>\n      <td>...</td>\n      <td>...</td>\n      <td>...</td>\n      <td>...</td>\n      <td>...</td>\n    </tr>\n    <tr>\n      <th>2020-12-21</th>\n      <td>1713.51</td>\n      <td>1740.85</td>\n      <td>1699.00</td>\n      <td>1739.37</td>\n      <td>1739.37</td>\n      <td>1828400</td>\n    </tr>\n    <tr>\n      <th>2020-12-22</th>\n      <td>1734.43</td>\n      <td>1737.41</td>\n      <td>1712.57</td>\n      <td>1723.50</td>\n      <td>1723.50</td>\n      <td>936700</td>\n    </tr>\n    <tr>\n      <th>2020-12-23</th>\n      <td>1728.11</td>\n      <td>1747.99</td>\n      <td>1725.04</td>\n      <td>1732.38</td>\n      <td>1732.38</td>\n      <td>1033800</td>\n    </tr>\n    <tr>\n      <th>2020-12-24</th>\n      <td>1735.00</td>\n      <td>1746.00</td>\n      <td>1729.11</td>\n      <td>1738.85</td>\n      <td>1738.85</td>\n      <td>346800</td>\n    </tr>\n    <tr>\n      <th>2020-12-28</th>\n      <td>1751.64</td>\n      <td>1790.73</td>\n      <td>1746.33</td>\n      <td>1776.09</td>\n      <td>1776.09</td>\n      <td>1393000</td>\n    </tr>\n  </tbody>\n</table>\n<p>365 rows × 6 columns</p>\n</div>"
     },
     "execution_count": 3,
     "metadata": {},
     "output_type": "execute_result"
    }
   ],
   "source": [
    "stock_data = pd.read_csv('GOOG.csv', index_col='Date', parse_dates=True)\n",
    "# Year Data\n",
    "stock_data = stock_data.iloc[-365:]\n",
    "stock_data"
   ]
  },
  {
   "cell_type": "code",
   "execution_count": 32,
   "metadata": {
    "pycharm": {
     "name": "#%%\n"
    }
   },
   "outputs": [
    {
     "ename": "NameError",
     "evalue": "name 'talib' is not defined",
     "output_type": "error",
     "traceback": [
      "\u001B[0;31m---------------------------------------------------------------------------\u001B[0m",
      "\u001B[0;31mNameError\u001B[0m                                 Traceback (most recent call last)",
      "Input \u001B[0;32mIn [32]\u001B[0m, in \u001B[0;36m<cell line: 2>\u001B[0;34m()\u001B[0m\n\u001B[1;32m      1\u001B[0m \u001B[38;5;66;03m# Calculate 12-day EMA\u001B[39;00m\n\u001B[0;32m----> 2\u001B[0m stock_data[\u001B[38;5;124m'\u001B[39m\u001B[38;5;124mEMA_12\u001B[39m\u001B[38;5;124m'\u001B[39m] \u001B[38;5;241m=\u001B[39m \u001B[43mtalib\u001B[49m\u001B[38;5;241m.\u001B[39mEMA(stock_data[\u001B[38;5;124m'\u001B[39m\u001B[38;5;124mClose\u001B[39m\u001B[38;5;124m'\u001B[39m], timeperiod\u001B[38;5;241m=\u001B[39m\u001B[38;5;241m12\u001B[39m)\n\u001B[1;32m      3\u001B[0m \u001B[38;5;66;03m# Calculate 26-day EMA\u001B[39;00m\n\u001B[1;32m      4\u001B[0m stock_data[\u001B[38;5;124m'\u001B[39m\u001B[38;5;124mEMA_26\u001B[39m\u001B[38;5;124m'\u001B[39m] \u001B[38;5;241m=\u001B[39m talib\u001B[38;5;241m.\u001B[39mEMA(stock_data[\u001B[38;5;124m'\u001B[39m\u001B[38;5;124mClose\u001B[39m\u001B[38;5;124m'\u001B[39m], timeperiod\u001B[38;5;241m=\u001B[39m\u001B[38;5;241m26\u001B[39m)\n",
      "\u001B[0;31mNameError\u001B[0m: name 'talib' is not defined"
     ]
    }
   ],
   "source": [
    "# Calculate 12-day EMA\n",
    "stock_data['EMA_12'] = talib.EMA(stock_data['Close'], timeperiod=12)\n",
    "# Calculate 26-day EMA\n",
    "stock_data['EMA_26'] = talib.EMA(stock_data['Close'], timeperiod=26)"
   ]
  },
  {
   "cell_type": "code",
   "execution_count": 33,
   "metadata": {
    "pycharm": {
     "name": "#%%\n"
    }
   },
   "outputs": [
    {
     "ename": "KeyError",
     "evalue": "'EMA_12'",
     "output_type": "error",
     "traceback": [
      "\u001B[0;31m---------------------------------------------------------------------------\u001B[0m",
      "\u001B[0;31mKeyError\u001B[0m                                  Traceback (most recent call last)",
      "File \u001B[0;32m~/opt/anaconda3/lib/python3.9/site-packages/pandas/core/indexes/base.py:3621\u001B[0m, in \u001B[0;36mIndex.get_loc\u001B[0;34m(self, key, method, tolerance)\u001B[0m\n\u001B[1;32m   3620\u001B[0m \u001B[38;5;28;01mtry\u001B[39;00m:\n\u001B[0;32m-> 3621\u001B[0m     \u001B[38;5;28;01mreturn\u001B[39;00m \u001B[38;5;28;43mself\u001B[39;49m\u001B[38;5;241;43m.\u001B[39;49m\u001B[43m_engine\u001B[49m\u001B[38;5;241;43m.\u001B[39;49m\u001B[43mget_loc\u001B[49m\u001B[43m(\u001B[49m\u001B[43mcasted_key\u001B[49m\u001B[43m)\u001B[49m\n\u001B[1;32m   3622\u001B[0m \u001B[38;5;28;01mexcept\u001B[39;00m \u001B[38;5;167;01mKeyError\u001B[39;00m \u001B[38;5;28;01mas\u001B[39;00m err:\n",
      "File \u001B[0;32m~/opt/anaconda3/lib/python3.9/site-packages/pandas/_libs/index.pyx:136\u001B[0m, in \u001B[0;36mpandas._libs.index.IndexEngine.get_loc\u001B[0;34m()\u001B[0m\n",
      "File \u001B[0;32m~/opt/anaconda3/lib/python3.9/site-packages/pandas/_libs/index.pyx:163\u001B[0m, in \u001B[0;36mpandas._libs.index.IndexEngine.get_loc\u001B[0;34m()\u001B[0m\n",
      "File \u001B[0;32mpandas/_libs/hashtable_class_helper.pxi:5198\u001B[0m, in \u001B[0;36mpandas._libs.hashtable.PyObjectHashTable.get_item\u001B[0;34m()\u001B[0m\n",
      "File \u001B[0;32mpandas/_libs/hashtable_class_helper.pxi:5206\u001B[0m, in \u001B[0;36mpandas._libs.hashtable.PyObjectHashTable.get_item\u001B[0;34m()\u001B[0m\n",
      "\u001B[0;31mKeyError\u001B[0m: 'EMA_12'",
      "\nThe above exception was the direct cause of the following exception:\n",
      "\u001B[0;31mKeyError\u001B[0m                                  Traceback (most recent call last)",
      "Input \u001B[0;32mIn [33]\u001B[0m, in \u001B[0;36m<cell line: 4>\u001B[0;34m()\u001B[0m\n\u001B[1;32m      1\u001B[0m plt\u001B[38;5;241m.\u001B[39mfigure(figsize\u001B[38;5;241m=\u001B[39m(\u001B[38;5;241m16\u001B[39m, \u001B[38;5;241m8\u001B[39m))\n\u001B[1;32m      3\u001B[0m \u001B[38;5;66;03m# Plot the EMAs with price\u001B[39;00m\n\u001B[0;32m----> 4\u001B[0m plt\u001B[38;5;241m.\u001B[39mplot(\u001B[43mstock_data\u001B[49m\u001B[43m[\u001B[49m\u001B[38;5;124;43m'\u001B[39;49m\u001B[38;5;124;43mEMA_12\u001B[39;49m\u001B[38;5;124;43m'\u001B[39;49m\u001B[43m]\u001B[49m, label\u001B[38;5;241m=\u001B[39m\u001B[38;5;124m'\u001B[39m\u001B[38;5;124mEMA_12\u001B[39m\u001B[38;5;124m'\u001B[39m)\n\u001B[1;32m      5\u001B[0m plt\u001B[38;5;241m.\u001B[39mplot(stock_data[\u001B[38;5;124m'\u001B[39m\u001B[38;5;124mEMA_26\u001B[39m\u001B[38;5;124m'\u001B[39m], label\u001B[38;5;241m=\u001B[39m\u001B[38;5;124m'\u001B[39m\u001B[38;5;124mEMA_26\u001B[39m\u001B[38;5;124m'\u001B[39m)\n\u001B[1;32m      6\u001B[0m plt\u001B[38;5;241m.\u001B[39mplot(stock_data[\u001B[38;5;124m'\u001B[39m\u001B[38;5;124mClose\u001B[39m\u001B[38;5;124m'\u001B[39m], label\u001B[38;5;241m=\u001B[39m\u001B[38;5;124m'\u001B[39m\u001B[38;5;124mClose\u001B[39m\u001B[38;5;124m'\u001B[39m)\n",
      "File \u001B[0;32m~/opt/anaconda3/lib/python3.9/site-packages/pandas/core/frame.py:3505\u001B[0m, in \u001B[0;36mDataFrame.__getitem__\u001B[0;34m(self, key)\u001B[0m\n\u001B[1;32m   3503\u001B[0m \u001B[38;5;28;01mif\u001B[39;00m \u001B[38;5;28mself\u001B[39m\u001B[38;5;241m.\u001B[39mcolumns\u001B[38;5;241m.\u001B[39mnlevels \u001B[38;5;241m>\u001B[39m \u001B[38;5;241m1\u001B[39m:\n\u001B[1;32m   3504\u001B[0m     \u001B[38;5;28;01mreturn\u001B[39;00m \u001B[38;5;28mself\u001B[39m\u001B[38;5;241m.\u001B[39m_getitem_multilevel(key)\n\u001B[0;32m-> 3505\u001B[0m indexer \u001B[38;5;241m=\u001B[39m \u001B[38;5;28;43mself\u001B[39;49m\u001B[38;5;241;43m.\u001B[39;49m\u001B[43mcolumns\u001B[49m\u001B[38;5;241;43m.\u001B[39;49m\u001B[43mget_loc\u001B[49m\u001B[43m(\u001B[49m\u001B[43mkey\u001B[49m\u001B[43m)\u001B[49m\n\u001B[1;32m   3506\u001B[0m \u001B[38;5;28;01mif\u001B[39;00m is_integer(indexer):\n\u001B[1;32m   3507\u001B[0m     indexer \u001B[38;5;241m=\u001B[39m [indexer]\n",
      "File \u001B[0;32m~/opt/anaconda3/lib/python3.9/site-packages/pandas/core/indexes/base.py:3623\u001B[0m, in \u001B[0;36mIndex.get_loc\u001B[0;34m(self, key, method, tolerance)\u001B[0m\n\u001B[1;32m   3621\u001B[0m     \u001B[38;5;28;01mreturn\u001B[39;00m \u001B[38;5;28mself\u001B[39m\u001B[38;5;241m.\u001B[39m_engine\u001B[38;5;241m.\u001B[39mget_loc(casted_key)\n\u001B[1;32m   3622\u001B[0m \u001B[38;5;28;01mexcept\u001B[39;00m \u001B[38;5;167;01mKeyError\u001B[39;00m \u001B[38;5;28;01mas\u001B[39;00m err:\n\u001B[0;32m-> 3623\u001B[0m     \u001B[38;5;28;01mraise\u001B[39;00m \u001B[38;5;167;01mKeyError\u001B[39;00m(key) \u001B[38;5;28;01mfrom\u001B[39;00m \u001B[38;5;21;01merr\u001B[39;00m\n\u001B[1;32m   3624\u001B[0m \u001B[38;5;28;01mexcept\u001B[39;00m \u001B[38;5;167;01mTypeError\u001B[39;00m:\n\u001B[1;32m   3625\u001B[0m     \u001B[38;5;66;03m# If we have a listlike key, _check_indexing_error will raise\u001B[39;00m\n\u001B[1;32m   3626\u001B[0m     \u001B[38;5;66;03m#  InvalidIndexError. Otherwise we fall through and re-raise\u001B[39;00m\n\u001B[1;32m   3627\u001B[0m     \u001B[38;5;66;03m#  the TypeError.\u001B[39;00m\n\u001B[1;32m   3628\u001B[0m     \u001B[38;5;28mself\u001B[39m\u001B[38;5;241m.\u001B[39m_check_indexing_error(key)\n",
      "\u001B[0;31mKeyError\u001B[0m: 'EMA_12'"
     ]
    },
    {
     "data": {
      "text/plain": "<Figure size 1152x576 with 0 Axes>"
     },
     "metadata": {},
     "output_type": "display_data"
    }
   ],
   "source": [
    "plt.figure(figsize=(16, 8))\n",
    "\n",
    "# Plot the EMAs with price\n",
    "plt.plot(stock_data['EMA_12'], label='EMA_12')\n",
    "plt.plot(stock_data['EMA_26'], label='EMA_26')\n",
    "plt.plot(stock_data['Close'], label='Close')\n",
    "\n",
    "# Customize and show the plot\n",
    "plt.legend()\n",
    "plt.title('EMAs')\n",
    "plt.show()"
   ]
  },
  {
   "cell_type": "code",
   "execution_count": null,
   "metadata": {
    "pycharm": {
     "name": "#%%\n"
    }
   },
   "outputs": [],
   "source": []
  }
 ],
 "metadata": {
  "kernelspec": {
   "display_name": "Python 3 (ipykernel)",
   "language": "python",
   "name": "python3"
  },
  "language_info": {
   "codemirror_mode": {
    "name": "ipython",
    "version": 3
   },
   "file_extension": ".py",
   "mimetype": "text/x-python",
   "name": "python",
   "nbconvert_exporter": "python",
   "pygments_lexer": "ipython3",
   "version": "3.9.12"
  }
 },
 "nbformat": 4,
 "nbformat_minor": 1
}