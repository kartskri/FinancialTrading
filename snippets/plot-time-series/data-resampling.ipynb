{
 "cells": [
  {
   "cell_type": "code",
   "execution_count": 1,
   "outputs": [],
   "source": [
    "import pandas as pd\n",
    "import matplotlib.pyplot as plt"
   ],
   "metadata": {
    "collapsed": false,
    "pycharm": {
     "name": "#%%\n"
    }
   }
  },
  {
   "cell_type": "code",
   "execution_count": 2,
   "outputs": [
    {
     "data": {
      "text/plain": "              Open    High     Low   Close     Volume\nDate                                                 \n2016-12-17  785.17  792.51  784.86  790.83   78989800\n2016-12-18  791.01  794.74  788.03  790.53   60524400\n2016-12-19  790.69  793.61  790.32  792.71   74886400\n2016-12-20  792.25  801.34  791.50  800.88   99629296\n2016-12-21  800.64  834.28  799.41  834.28  155576000",
      "text/html": "<div>\n<style scoped>\n    .dataframe tbody tr th:only-of-type {\n        vertical-align: middle;\n    }\n\n    .dataframe tbody tr th {\n        vertical-align: top;\n    }\n\n    .dataframe thead th {\n        text-align: right;\n    }\n</style>\n<table border=\"1\" class=\"dataframe\">\n  <thead>\n    <tr style=\"text-align: right;\">\n      <th></th>\n      <th>Open</th>\n      <th>High</th>\n      <th>Low</th>\n      <th>Close</th>\n      <th>Volume</th>\n    </tr>\n    <tr>\n      <th>Date</th>\n      <th></th>\n      <th></th>\n      <th></th>\n      <th></th>\n      <th></th>\n    </tr>\n  </thead>\n  <tbody>\n    <tr>\n      <th>2016-12-17</th>\n      <td>785.17</td>\n      <td>792.51</td>\n      <td>784.86</td>\n      <td>790.83</td>\n      <td>78989800</td>\n    </tr>\n    <tr>\n      <th>2016-12-18</th>\n      <td>791.01</td>\n      <td>794.74</td>\n      <td>788.03</td>\n      <td>790.53</td>\n      <td>60524400</td>\n    </tr>\n    <tr>\n      <th>2016-12-19</th>\n      <td>790.69</td>\n      <td>793.61</td>\n      <td>790.32</td>\n      <td>792.71</td>\n      <td>74886400</td>\n    </tr>\n    <tr>\n      <th>2016-12-20</th>\n      <td>792.25</td>\n      <td>801.34</td>\n      <td>791.50</td>\n      <td>800.88</td>\n      <td>99629296</td>\n    </tr>\n    <tr>\n      <th>2016-12-21</th>\n      <td>800.64</td>\n      <td>834.28</td>\n      <td>799.41</td>\n      <td>834.28</td>\n      <td>155576000</td>\n    </tr>\n  </tbody>\n</table>\n</div>"
     },
     "execution_count": 2,
     "metadata": {},
     "output_type": "execute_result"
    }
   ],
   "source": [
    "bitcoin_data = pd.read_csv(\"Bitcoin.csv\", index_col=\"Date\", parse_dates=True)\n",
    "bitcoin_data.head()"
   ],
   "metadata": {
    "collapsed": false,
    "pycharm": {
     "name": "#%%\n"
    }
   }
  },
  {
   "cell_type": "markdown",
   "source": [
    "### Weekly Resample Data\n",
    "\n",
    "W : weekly frequency\n",
    "M : month end frequency\n",
    "SM : semi-month end frequency (15th and end of month)\n",
    "Q : quarter end frequency\n"
   ],
   "metadata": {
    "collapsed": false,
    "pycharm": {
     "name": "#%% md\n"
    }
   }
  },
  {
   "cell_type": "code",
   "execution_count": 6,
   "outputs": [
    {
     "data": {
      "text/plain": "                   Open         High         Low       Close        Volume\nDate                                                                      \n2016-12-18   788.090000   793.625000  786.445000  790.680000  6.975710e+07\n2016-12-25   843.497143   864.751429  832.688571  858.484286  1.552964e+08\n2017-01-01   944.577143   963.985714  933.037143  959.077143  1.659162e+08\n2017-01-08  1006.750000  1046.301429  938.267143  993.670000  2.932341e+08\n2017-01-15   849.427143   865.951429  814.961429  836.755714  1.605693e+08",
      "text/html": "<div>\n<style scoped>\n    .dataframe tbody tr th:only-of-type {\n        vertical-align: middle;\n    }\n\n    .dataframe tbody tr th {\n        vertical-align: top;\n    }\n\n    .dataframe thead th {\n        text-align: right;\n    }\n</style>\n<table border=\"1\" class=\"dataframe\">\n  <thead>\n    <tr style=\"text-align: right;\">\n      <th></th>\n      <th>Open</th>\n      <th>High</th>\n      <th>Low</th>\n      <th>Close</th>\n      <th>Volume</th>\n    </tr>\n    <tr>\n      <th>Date</th>\n      <th></th>\n      <th></th>\n      <th></th>\n      <th></th>\n      <th></th>\n    </tr>\n  </thead>\n  <tbody>\n    <tr>\n      <th>2016-12-18</th>\n      <td>788.090000</td>\n      <td>793.625000</td>\n      <td>786.445000</td>\n      <td>790.680000</td>\n      <td>6.975710e+07</td>\n    </tr>\n    <tr>\n      <th>2016-12-25</th>\n      <td>843.497143</td>\n      <td>864.751429</td>\n      <td>832.688571</td>\n      <td>858.484286</td>\n      <td>1.552964e+08</td>\n    </tr>\n    <tr>\n      <th>2017-01-01</th>\n      <td>944.577143</td>\n      <td>963.985714</td>\n      <td>933.037143</td>\n      <td>959.077143</td>\n      <td>1.659162e+08</td>\n    </tr>\n    <tr>\n      <th>2017-01-08</th>\n      <td>1006.750000</td>\n      <td>1046.301429</td>\n      <td>938.267143</td>\n      <td>993.670000</td>\n      <td>2.932341e+08</td>\n    </tr>\n    <tr>\n      <th>2017-01-15</th>\n      <td>849.427143</td>\n      <td>865.951429</td>\n      <td>814.961429</td>\n      <td>836.755714</td>\n      <td>1.605693e+08</td>\n    </tr>\n  </tbody>\n</table>\n</div>"
     },
     "execution_count": 6,
     "metadata": {},
     "output_type": "execute_result"
    }
   ],
   "source": [
    "btc_weekly = bitcoin_data.resample(\"W\").mean()\n",
    "btc_weekly.head()"
   ],
   "metadata": {
    "collapsed": false,
    "pycharm": {
     "name": "#%%\n"
    }
   }
  }
 ],
 "metadata": {
  "kernelspec": {
   "display_name": "Python 3",
   "language": "python",
   "name": "python3"
  },
  "language_info": {
   "codemirror_mode": {
    "name": "ipython",
    "version": 2
   },
   "file_extension": ".py",
   "mimetype": "text/x-python",
   "name": "python",
   "nbconvert_exporter": "python",
   "pygments_lexer": "ipython2",
   "version": "2.7.6"
  }
 },
 "nbformat": 4,
 "nbformat_minor": 0
}