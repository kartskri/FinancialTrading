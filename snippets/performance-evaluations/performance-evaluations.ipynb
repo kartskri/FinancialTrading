{
 "cells": [
  {
   "cell_type": "markdown",
   "metadata": {
    "pycharm": {
     "name": "#%% md\n"
    }
   },
   "source": [
    "# Performance Evaluation"
   ]
  },
  {
   "cell_type": "markdown",
   "metadata": {
    "pycharm": {
     "name": "#%% md\n"
    }
   },
   "source": [
    "## Strategy Return Analysis"
   ]
  },
  {
   "cell_type": "code",
   "execution_count": 1,
   "metadata": {
    "pycharm": {
     "name": "#%%\n"
    }
   },
   "outputs": [],
   "source": [
    "import bt\n",
    "import talib\n",
    "import matplotlib.pyplot as plt\n",
    "import pandas as pd"
   ]
  },
  {
   "cell_type": "code",
   "execution_count": 2,
   "metadata": {},
   "outputs": [],
   "source": [
    "%matplotlib inline"
   ]
  },
  {
   "cell_type": "code",
   "execution_count": 3,
   "metadata": {
    "pycharm": {
     "name": "#%%\n"
    }
   },
   "outputs": [],
   "source": [
    "def buy_and_hold(ticker, name, start='2020-2-1', end='2020-11-1'):\n",
    "    # Get the data\n",
    "    price_data = bt.get(ticker, start=start, end=end)\n",
    "    # Define the benchmark strategy\n",
    "    bt_strategy = bt.Strategy(name, \n",
    "                              [bt.algos.RunOnce(),\n",
    "                               bt.algos.SelectAll(),\n",
    "                               bt.algos.WeighEqually(),\n",
    "                               bt.algos.Rebalance()])\n",
    "    # Return the backtest\n",
    "    return bt.Backtest(bt_strategy, price_data)\n",
    "\n",
    "# Create benchmark strategy backtest\n",
    "benchmark = buy_and_hold('tsla', name='benchmark')\n",
    "\n",
    "# Run all backtests and plot the resutls\n",
    "bt_result = bt.run(benchmark)"
   ]
  },
  {
   "cell_type": "code",
   "execution_count": 4,
   "metadata": {
    "pycharm": {
     "name": "#%%\n"
    }
   },
   "outputs": [],
   "source": [
    "def signal_strategy(ticker, period, name, start='2017-2-1', end='2020-11-1'):\n",
    "    # Get the data and calculate SMA\n",
    "    price_data = bt.get(ticker, start=start, end=end)\n",
    "    sma = price_data.rolling(period).mean()\n",
    "    # Define the signal-based trategy\n",
    "    bt_strategy = bt.Strategy(name,\n",
    "                              [bt.algos.SelectWhere(price_data > sma),\n",
    "                               bt.algos.WeighEqually(),\n",
    "                               bt.algos.Rebalance()])\n",
    "    # Return the backtest\n",
    "    return bt.Backtest(bt_strategy, price_data)\n",
    "\n",
    "# Create signal strategy backtest\n",
    "sma30 = signal_strategy('tsla', period=30, name='SMA30')\n",
    "sma50 = signal_strategy('tsla', period=50, name='SMA50')\n",
    "\n",
    "# Run all backtests and plot the resutls\n",
    "bt_results = bt.run(sma30, sma50)"
   ]
  },
  {
   "cell_type": "markdown",
   "metadata": {
    "pycharm": {
     "name": "#%% md\n"
    }
   },
   "source": [
    "### Review return results of a backtest\n",
    "You implemented a trend-following strategy using a simple moving average indicator. You backtested it using the Amazon stock historical price data from 2019 to 2020, and the result plot is shown on the right. Now you would like to review the return statistics from the backtest result."
   ]
  },
  {
   "cell_type": "code",
   "execution_count": 5,
   "metadata": {
    "pycharm": {
     "name": "#%%\n"
    }
   },
   "outputs": [
    {
     "name": "stdout",
     "output_type": "stream",
     "text": [
      "Daily return: 1.6601\n",
      "Monthly return: 2.2043\n",
      "Yearly return: nan\n"
     ]
    }
   ],
   "source": [
    "# Obtain all backtest stats q q\n",
    "resInfo = bt_result.stats\n",
    "\n",
    "# Get daily, monthly, and yearly returns\n",
    "print('Daily return: %.4f'% resInfo.loc['daily_mean'])\n",
    "print('Monthly return: %.4f'% resInfo.loc['monthly_mean'])\n",
    "print('Yearly return: %.4f'% resInfo.loc['yearly_mean'])"
   ]
  },
  {
   "cell_type": "code",
   "execution_count": 6,
   "metadata": {
    "pycharm": {
     "name": "#%%\n"
    }
   },
   "outputs": [
    {
     "name": "stdout",
     "output_type": "stream",
     "text": [
      "Compound annual growth rate: 2.4149\n"
     ]
    }
   ],
   "source": [
    "# Get the compound annual growth rate\n",
    "print('Compound annual growth rate: %.4f'% resInfo.loc['cagr'])"
   ]
  },
  {
   "cell_type": "markdown",
   "metadata": {
    "pycharm": {
     "name": "#%% md\n"
    }
   },
   "source": [
    "### Plot return histograms of a backtest\n",
    "Continue with the same strategy backtest result from the previous exercise. Now you would like to plot return histograms to further examine the characteristics of the return distribution."
   ]
  },
  {
   "cell_type": "code",
   "execution_count": 7,
   "metadata": {
    "pycharm": {
     "name": "#%%\n"
    }
   },
   "outputs": [
    {
     "data": {
      "text/plain": [
       "Text(0.5, 0.98, 'daily Return Histogram Matrix')"
      ]
     },
     "execution_count": 7,
     "metadata": {},
     "output_type": "execute_result"
    },
    {
     "data": {
      "text/plain": [
       "<Figure size 432x288 with 0 Axes>"
      ]
     },
     "metadata": {},
     "output_type": "display_data"
    },
    {
     "data": {
      "image/png": "[encoded data removed]",
      "text/plain": [
       "<Figure size 720x720 with 1 Axes>"
      ]
     },
     "metadata": {
      "needs_background": "light"
     },
     "output_type": "display_data"
    }
   ],
   "source": [
    "# Plot the daily return histogram\n",
    "bt_result.plot_histograms(bins=50, freq = 'd')"
   ]
  },
  {
   "cell_type": "markdown",
   "metadata": {
    "pycharm": {
     "name": "#%% md\n"
    }
   },
   "source": [
    "<img src='Data/daily_return.jpg'>"
   ]
  },
  {
   "cell_type": "code",
   "execution_count": 8,
   "metadata": {
    "pycharm": {
     "name": "#%%\n"
    }
   },
   "outputs": [
    {
     "data": {
      "text/plain": [
       "Text(0.5, 0.98, 'weekly Return Histogram Matrix')"
      ]
     },
     "execution_count": 8,
     "metadata": {},
     "output_type": "execute_result"
    },
    {
     "data": {
      "text/plain": [
       "<Figure size 432x288 with 0 Axes>"
      ]
     },
     "metadata": {},
     "output_type": "display_data"
    },
    {
     "data": {
      "image/png": "[encoded data removed]",
      "text/plain": [
       "<Figure size 720x720 with 1 Axes>"
      ]
     },
     "metadata": {
      "needs_background": "light"
     },
     "output_type": "display_data"
    }
   ],
   "source": [
    "# Plot the weekly return histogram\n",
    "bt_result.plot_histograms(bins=50, freq = 'w')"
   ]
  },
  {
   "cell_type": "markdown",
   "metadata": {
    "pycharm": {
     "name": "#%% md\n"
    }
   },
   "source": [
    "<img src='Data/weekly_return.jpg'>"
   ]
  },
  {
   "cell_type": "markdown",
   "metadata": {
    "pycharm": {
     "name": "#%% md\n"
    }
   },
   "source": [
    "### Compare return results of multiple strategies\n",
    "With the same strategy using a simple moving average indicator, you also conducted a strategy optimization by varying the lookback periods of the moving average indicator from 30 to 50 days. You backtested both strategies using the Google stock historical price data from 2017 to 2020. Now you are about to compare the backtest results."
   ]
  },
  {
   "cell_type": "code",
   "execution_count": 9,
   "metadata": {
    "pycharm": {
     "name": "#%%\n"
    }
   },
   "outputs": [
    {
     "name": "stdout",
     "output_type": "stream",
     "text": [
      "         SMA30    SMA50\n",
      "mtd     -6.65%   -5.36%\n",
      "3m      -0.00%   36.48%\n",
      "6m      90.24%  159.64%\n",
      "ytd    310.51%  353.26%\n",
      "1y     436.19%  501.91%\n",
      "3y      48.14%   54.92%\n",
      "5y        nan%     nan%\n",
      "10y       nan%     nan%\n",
      "incep   36.78%   41.06%\n"
     ]
    }
   ],
   "source": [
    "# Get the lookback returns\n",
    "lookback_returns = bt_results.display_lookback_returns()\n",
    "print(lookback_returns)"
   ]
  },
  {
   "cell_type": "markdown",
   "metadata": {
    "pycharm": {
     "name": "#%% md\n"
    }
   },
   "source": [
    "## Drawdown"
   ]
  },
  {
   "cell_type": "markdown",
   "metadata": {
    "pycharm": {
     "name": "#%% md\n"
    }
   },
   "source": [
    "### Review performance with drawdowns\n",
    "You implemented a signal-based strategy using two moving average indicators. You performed a backtest using the Tesla stock historical price data from 2019 to 2020, and the result plot is shown on the right. Now you would like to evaluate the strategy performance, specifically the downside volatility, by reviewing the drawdown result from the backtest."
   ]
  },
  {
   "cell_type": "code",
   "execution_count": 10,
   "metadata": {
    "pycharm": {
     "name": "#%%\n"
    }
   },
   "outputs": [],
   "source": [
    "# Obtain all backtest stats\n",
    "resInfo = bt_result.stats    # Buy and Hold Strategy"
   ]
  },
  {
   "cell_type": "code",
   "execution_count": 11,
   "metadata": {
    "pycharm": {
     "name": "#%%\n"
    }
   },
   "outputs": [
    {
     "name": "stdout",
     "output_type": "stream",
     "text": [
      "Average drawdown: -0.12\n"
     ]
    }
   ],
   "source": [
    "# Get the average drawdown\n",
    "avg_drawdown = resInfo.loc['avg_drawdown']\n",
    "print('Average drawdown: %.2f'% avg_drawdown)"
   ]
  },
  {
   "cell_type": "markdown",
   "metadata": {
    "pycharm": {
     "name": "#%% md\n"
    }
   },
   "source": []
  },
  {
   "cell_type": "code",
   "execution_count": 12,
   "metadata": {
    "pycharm": {
     "name": "#%%\n"
    }
   },
   "outputs": [
    {
     "name": "stdout",
     "output_type": "stream",
     "text": [
      "Average drawdown days: 20\n"
     ]
    }
   ],
   "source": [
    "# Get the average drawdown days\n",
    "avg_drawdown_days = resInfo.loc['avg_drawdown_days']\n",
    "print('Average drawdown days: %.0f'% avg_drawdown_days)"
   ]
  },
  {
   "cell_type": "markdown",
   "metadata": {
    "pycharm": {
     "name": "#%% md\n"
    }
   },
   "source": [
    "### Calculate and review the Calmar ratio\n",
    "Continue with the same strategy. From the previous exercise, you know that the average drawdown is approximately 11%, and that the average period is 22 days. Now you would like to get a better understanding of the risk-return profile of it. You plan to review the CAGR, max drawdown, then use them to calculate the Calmar ratio and assess the result."
   ]
  },
  {
   "cell_type": "code",
   "execution_count": 13,
   "metadata": {
    "pycharm": {
     "name": "#%%\n"
    }
   },
   "outputs": [
    {
     "name": "stdout",
     "output_type": "stream",
     "text": [
      "Compound annual growth rate: 2.4149\n"
     ]
    }
   ],
   "source": [
    "# Get the CAGR\n",
    "cagr = resInfo.loc['cagr']\n",
    "print('Compound annual growth rate: %.4f'% cagr)"
   ]
  },
  {
   "cell_type": "code",
   "execution_count": 14,
   "metadata": {
    "pycharm": {
     "name": "#%%\n"
    }
   },
   "outputs": [
    {
     "name": "stdout",
     "output_type": "stream",
     "text": [
      "Maximum drawdown: -0.61\n"
     ]
    }
   ],
   "source": [
    "# Get the max drawdown\n",
    "max_drawdown = resInfo.loc['max_drawdown']\n",
    "print('Maximum drawdown: %.2f'% max_drawdown)"
   ]
  },
  {
   "cell_type": "code",
   "execution_count": 15,
   "metadata": {
    "pycharm": {
     "name": "#%%\n"
    }
   },
   "outputs": [
    {
     "name": "stdout",
     "output_type": "stream",
     "text": [
      "Calmar Ratio calculated: 3.98\n"
     ]
    }
   ],
   "source": [
    "# Calculate Calmar ratio manually\n",
    "calmar_calc = cagr / max_drawdown * (-1)\n",
    "print('Calmar Ratio calculated: %.2f'% calmar_calc)"
   ]
  },
  {
   "cell_type": "code",
   "execution_count": 16,
   "metadata": {
    "pycharm": {
     "name": "#%%\n"
    }
   },
   "outputs": [
    {
     "name": "stdout",
     "output_type": "stream",
     "text": [
      "Calmar Ratio: 3.98\n"
     ]
    }
   ],
   "source": [
    "# Get the Calmar ratio\n",
    "calmar = resInfo.loc['calmar']\n",
    "print('Calmar Ratio: %.2f'% calmar)"
   ]
  },
  {
   "cell_type": "markdown",
   "metadata": {
    "pycharm": {
     "name": "#%% md\n"
    }
   },
   "source": [
    "## Sharpe Ratio and Sortino Ratio"
   ]
  },
  {
   "cell_type": "code",
   "execution_count": 17,
   "metadata": {
    "pycharm": {
     "name": "#%%\n"
    }
   },
   "outputs": [],
   "source": [
    "# Run all backtests and plot the resutls\n",
    "bt_result = bt.run(signal_strategy('tsla', period=50, name='SMA50',start='2017-2-1', end='2020-11-1'))\n",
    "\n",
    "# Obtain all backtest stats\n",
    "resInfo = bt_result.stats    # Buy and Hold Strategy"
   ]
  },
  {
   "cell_type": "markdown",
   "metadata": {
    "pycharm": {
     "name": "#%% md\n"
    }
   },
   "source": [
    "### Evaluate strategy performance by Sharpe ratio\n",
    "The Sharpe ratio is a risk-adjusted return measure developed by Nobel laureate William F. Sharpe. It is calculated as the average return over the risk-free rate divided by the standard deviation of the excess return."
   ]
  },
  {
   "cell_type": "code",
   "execution_count": 18,
   "metadata": {
    "pycharm": {
     "name": "#%%\n"
    }
   },
   "outputs": [
    {
     "name": "stdout",
     "output_type": "stream",
     "text": [
      "Annual return: 1.15\n",
      "Annual volatility: 2.08\n"
     ]
    }
   ],
   "source": [
    "# Get annual return and volatility\n",
    "yearly_return = resInfo.loc['yearly_mean']\n",
    "print('Annual return: %.2f'% yearly_return)\n",
    "yearly_vol = resInfo.loc['yearly_vol']\n",
    "print('Annual volatility: %.2f'% yearly_vol)"
   ]
  },
  {
   "cell_type": "code",
   "execution_count": 19,
   "metadata": {
    "pycharm": {
     "name": "#%%\n"
    }
   },
   "outputs": [
    {
     "name": "stdout",
     "output_type": "stream",
     "text": [
      "Sharpe ratio calculated: 0.55\n"
     ]
    }
   ],
   "source": [
    "# Calculate the Sharpe ratio manually\n",
    "sharpe_ratio = yearly_return / yearly_vol\n",
    "print('Sharpe ratio calculated: %.2f'% sharpe_ratio)"
   ]
  },
  {
   "cell_type": "code",
   "execution_count": 20,
   "metadata": {
    "pycharm": {
     "name": "#%%\n"
    }
   },
   "outputs": [
    {
     "name": "stdout",
     "output_type": "stream",
     "text": [
      "Sharpe ratio daily: 0.96\n",
      "Sharpe ratio monthly 0.81\n",
      "Sharpe ratio annually 0.55\n"
     ]
    }
   ],
   "source": [
    "# Get Sharpe ratios from the backtest stats\n",
    "print('Sharpe ratio daily: %.2f'% resInfo.loc['daily_sharpe'])\n",
    "print('Sharpe ratio monthly %.2f'% resInfo.loc['monthly_sharpe'])\n",
    "print('Sharpe ratio annually %.2f'% resInfo.loc['yearly_sharpe'])"
   ]
  },
  {
   "cell_type": "markdown",
   "metadata": {
    "pycharm": {
     "name": "#%% md\n"
    }
   },
   "source": [
    "### Evaluate strategy performance by Sortino ratio\n",
    "The Sortino ratio is the excess return over the risk-free rate divided by the downside deviation, and thus it measures the excess return to \"bad\" volatility. In other words, it doesn't penalize the volatility of positive excess returns."
   ]
  },
  {
   "cell_type": "code",
   "execution_count": 21,
   "metadata": {
    "pycharm": {
     "name": "#%%\n"
    }
   },
   "outputs": [
    {
     "name": "stdout",
     "output_type": "stream",
     "text": [
      "Sortino ratio daily: 1.57\n",
      "Sortino ratio monthly 2.87\n",
      "Sortino ratio annually 6.90\n"
     ]
    }
   ],
   "source": [
    "# Get Sortino ratio from backtest stats\n",
    "print('Sortino ratio daily: %.2f'% resInfo.loc['daily_sortino'])\n",
    "print('Sortino ratio monthly %.2f'% resInfo.loc['monthly_sortino'])\n",
    "print('Sortino ratio annually %.2f'% resInfo.loc['yearly_sortino'])"
   ]
  }
 ],
 "metadata": {
  "kernelspec": {
   "display_name": "Python 3 (ipykernel)",
   "language": "python",
   "name": "python3"
  },
  "language_info": {
   "codemirror_mode": {
    "name": "ipython",
    "version": 3
   },
   "file_extension": ".py",
   "mimetype": "text/x-python",
   "name": "python",
   "nbconvert_exporter": "python",
   "pygments_lexer": "ipython3",
   "version": "3.9.12"
  }
 },
 "nbformat": 4,
 "nbformat_minor": 4
}
