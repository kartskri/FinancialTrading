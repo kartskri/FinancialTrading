{
 "cells": [
  {
   "cell_type": "code",
   "execution_count": 1,
   "outputs": [],
   "source": [
    "import pandas as pd\n",
    "import matplotlib.pyplot as plt"
   ],
   "metadata": {
    "collapsed": false,
    "pycharm": {
     "name": "#%%\n"
    }
   }
  },
  {
   "cell_type": "code",
   "execution_count": 3,
   "outputs": [],
   "source": [
    "tsla_data = pd.read_csv('TSLA.csv', index_col='Date', parse_dates=True)"
   ],
   "metadata": {
    "collapsed": false,
    "pycharm": {
     "name": "#%%\n"
    }
   }
  },
  {
   "cell_type": "code",
   "execution_count": 4,
   "outputs": [
    {
     "data": {
      "text/plain": "              Open    High     Low   Close  Adj Close    Volume\nDate                                                           \n2015-12-18   46.58   47.18   45.86   46.09      46.09  15071000\n2015-12-21   46.34   47.17   46.22   46.51      46.51   9766000\n2015-12-22   47.00   47.31   45.93   45.99      45.99   9807500\n2015-12-23   46.44   46.69   45.63   45.94      45.94   7775000\n2015-12-24   46.11   46.38   45.66   46.11      46.11   3540000\n...            ...     ...     ...     ...        ...       ...\n2020-12-11  615.01  624.00  596.80  609.99     609.99  46475000\n2020-12-14  619.00  642.75  610.20  639.83     639.83  52040600\n2020-12-15  643.28  646.90  623.80  633.25     633.25  45223600\n2020-12-16  628.23  632.50  605.00  622.77     622.77  42095800\n2020-12-17  628.19  658.82  619.50  655.90     655.90  56038300\n\n[1259 rows x 6 columns]",
      "text/html": "<div>\n<style scoped>\n    .dataframe tbody tr th:only-of-type {\n        vertical-align: middle;\n    }\n\n    .dataframe tbody tr th {\n        vertical-align: top;\n    }\n\n    .dataframe thead th {\n        text-align: right;\n    }\n</style>\n<table border=\"1\" class=\"dataframe\">\n  <thead>\n    <tr style=\"text-align: right;\">\n      <th></th>\n      <th>Open</th>\n      <th>High</th>\n      <th>Low</th>\n      <th>Close</th>\n      <th>Adj Close</th>\n      <th>Volume</th>\n    </tr>\n    <tr>\n      <th>Date</th>\n      <th></th>\n      <th></th>\n      <th></th>\n      <th></th>\n      <th></th>\n      <th></th>\n    </tr>\n  </thead>\n  <tbody>\n    <tr>\n      <th>2015-12-18</th>\n      <td>46.58</td>\n      <td>47.18</td>\n      <td>45.86</td>\n      <td>46.09</td>\n      <td>46.09</td>\n      <td>15071000</td>\n    </tr>\n    <tr>\n      <th>2015-12-21</th>\n      <td>46.34</td>\n      <td>47.17</td>\n      <td>46.22</td>\n      <td>46.51</td>\n      <td>46.51</td>\n      <td>9766000</td>\n    </tr>\n    <tr>\n      <th>2015-12-22</th>\n      <td>47.00</td>\n      <td>47.31</td>\n      <td>45.93</td>\n      <td>45.99</td>\n      <td>45.99</td>\n      <td>9807500</td>\n    </tr>\n    <tr>\n      <th>2015-12-23</th>\n      <td>46.44</td>\n      <td>46.69</td>\n      <td>45.63</td>\n      <td>45.94</td>\n      <td>45.94</td>\n      <td>7775000</td>\n    </tr>\n    <tr>\n      <th>2015-12-24</th>\n      <td>46.11</td>\n      <td>46.38</td>\n      <td>45.66</td>\n      <td>46.11</td>\n      <td>46.11</td>\n      <td>3540000</td>\n    </tr>\n    <tr>\n      <th>...</th>\n      <td>...</td>\n      <td>...</td>\n      <td>...</td>\n      <td>...</td>\n      <td>...</td>\n      <td>...</td>\n    </tr>\n    <tr>\n      <th>2020-12-11</th>\n      <td>615.01</td>\n      <td>624.00</td>\n      <td>596.80</td>\n      <td>609.99</td>\n      <td>609.99</td>\n      <td>46475000</td>\n    </tr>\n    <tr>\n      <th>2020-12-14</th>\n      <td>619.00</td>\n      <td>642.75</td>\n      <td>610.20</td>\n      <td>639.83</td>\n      <td>639.83</td>\n      <td>52040600</td>\n    </tr>\n    <tr>\n      <th>2020-12-15</th>\n      <td>643.28</td>\n      <td>646.90</td>\n      <td>623.80</td>\n      <td>633.25</td>\n      <td>633.25</td>\n      <td>45223600</td>\n    </tr>\n    <tr>\n      <th>2020-12-16</th>\n      <td>628.23</td>\n      <td>632.50</td>\n      <td>605.00</td>\n      <td>622.77</td>\n      <td>622.77</td>\n      <td>42095800</td>\n    </tr>\n    <tr>\n      <th>2020-12-17</th>\n      <td>628.19</td>\n      <td>658.82</td>\n      <td>619.50</td>\n      <td>655.90</td>\n      <td>655.90</td>\n      <td>56038300</td>\n    </tr>\n  </tbody>\n</table>\n<p>1259 rows × 6 columns</p>\n</div>"
     },
     "execution_count": 4,
     "metadata": {},
     "output_type": "execute_result"
    }
   ],
   "source": [
    "tsla_data"
   ],
   "metadata": {
    "collapsed": false,
    "pycharm": {
     "name": "#%%\n"
    }
   }
  },
  {
   "cell_type": "markdown",
   "source": [
    "## Daily Return"
   ],
   "metadata": {
    "collapsed": false,
    "pycharm": {
     "name": "#%% md\n"
    }
   }
  },
  {
   "cell_type": "code",
   "execution_count": 5,
   "outputs": [
    {
     "data": {
      "text/plain": "              Open    High     Low   Close  Adj Close    Volume  daily_return\nDate                                                                         \n2015-12-18   46.58   47.18   45.86   46.09      46.09  15071000           NaN\n2015-12-21   46.34   47.17   46.22   46.51      46.51   9766000      0.911261\n2015-12-22   47.00   47.31   45.93   45.99      45.99   9807500     -1.118039\n2015-12-23   46.44   46.69   45.63   45.94      45.94   7775000     -0.108719\n2015-12-24   46.11   46.38   45.66   46.11      46.11   3540000      0.370048\n...            ...     ...     ...     ...        ...       ...           ...\n2020-12-11  615.01  624.00  596.80  609.99     609.99  46475000     -2.723779\n2020-12-14  619.00  642.75  610.20  639.83     639.83  52040600      4.891883\n2020-12-15  643.28  646.90  623.80  633.25     633.25  45223600     -1.028398\n2020-12-16  628.23  632.50  605.00  622.77     622.77  42095800     -1.654955\n2020-12-17  628.19  658.82  619.50  655.90     655.90  56038300      5.319781\n\n[1259 rows x 7 columns]",
      "text/html": "<div>\n<style scoped>\n    .dataframe tbody tr th:only-of-type {\n        vertical-align: middle;\n    }\n\n    .dataframe tbody tr th {\n        vertical-align: top;\n    }\n\n    .dataframe thead th {\n        text-align: right;\n    }\n</style>\n<table border=\"1\" class=\"dataframe\">\n  <thead>\n    <tr style=\"text-align: right;\">\n      <th></th>\n      <th>Open</th>\n      <th>High</th>\n      <th>Low</th>\n      <th>Close</th>\n      <th>Adj Close</th>\n      <th>Volume</th>\n      <th>daily_return</th>\n    </tr>\n    <tr>\n      <th>Date</th>\n      <th></th>\n      <th></th>\n      <th></th>\n      <th></th>\n      <th></th>\n      <th></th>\n      <th></th>\n    </tr>\n  </thead>\n  <tbody>\n    <tr>\n      <th>2015-12-18</th>\n      <td>46.58</td>\n      <td>47.18</td>\n      <td>45.86</td>\n      <td>46.09</td>\n      <td>46.09</td>\n      <td>15071000</td>\n      <td>NaN</td>\n    </tr>\n    <tr>\n      <th>2015-12-21</th>\n      <td>46.34</td>\n      <td>47.17</td>\n      <td>46.22</td>\n      <td>46.51</td>\n      <td>46.51</td>\n      <td>9766000</td>\n      <td>0.911261</td>\n    </tr>\n    <tr>\n      <th>2015-12-22</th>\n      <td>47.00</td>\n      <td>47.31</td>\n      <td>45.93</td>\n      <td>45.99</td>\n      <td>45.99</td>\n      <td>9807500</td>\n      <td>-1.118039</td>\n    </tr>\n    <tr>\n      <th>2015-12-23</th>\n      <td>46.44</td>\n      <td>46.69</td>\n      <td>45.63</td>\n      <td>45.94</td>\n      <td>45.94</td>\n      <td>7775000</td>\n      <td>-0.108719</td>\n    </tr>\n    <tr>\n      <th>2015-12-24</th>\n      <td>46.11</td>\n      <td>46.38</td>\n      <td>45.66</td>\n      <td>46.11</td>\n      <td>46.11</td>\n      <td>3540000</td>\n      <td>0.370048</td>\n    </tr>\n    <tr>\n      <th>...</th>\n      <td>...</td>\n      <td>...</td>\n      <td>...</td>\n      <td>...</td>\n      <td>...</td>\n      <td>...</td>\n      <td>...</td>\n    </tr>\n    <tr>\n      <th>2020-12-11</th>\n      <td>615.01</td>\n      <td>624.00</td>\n      <td>596.80</td>\n      <td>609.99</td>\n      <td>609.99</td>\n      <td>46475000</td>\n      <td>-2.723779</td>\n    </tr>\n    <tr>\n      <th>2020-12-14</th>\n      <td>619.00</td>\n      <td>642.75</td>\n      <td>610.20</td>\n      <td>639.83</td>\n      <td>639.83</td>\n      <td>52040600</td>\n      <td>4.891883</td>\n    </tr>\n    <tr>\n      <th>2020-12-15</th>\n      <td>643.28</td>\n      <td>646.90</td>\n      <td>623.80</td>\n      <td>633.25</td>\n      <td>633.25</td>\n      <td>45223600</td>\n      <td>-1.028398</td>\n    </tr>\n    <tr>\n      <th>2020-12-16</th>\n      <td>628.23</td>\n      <td>632.50</td>\n      <td>605.00</td>\n      <td>622.77</td>\n      <td>622.77</td>\n      <td>42095800</td>\n      <td>-1.654955</td>\n    </tr>\n    <tr>\n      <th>2020-12-17</th>\n      <td>628.19</td>\n      <td>658.82</td>\n      <td>619.50</td>\n      <td>655.90</td>\n      <td>655.90</td>\n      <td>56038300</td>\n      <td>5.319781</td>\n    </tr>\n  </tbody>\n</table>\n<p>1259 rows × 7 columns</p>\n</div>"
     },
     "execution_count": 5,
     "metadata": {},
     "output_type": "execute_result"
    }
   ],
   "source": [
    "tsla_data['daily_return'] = tsla_data['Close'].pct_change() * 100\n",
    "tsla_data"
   ],
   "metadata": {
    "collapsed": false,
    "pycharm": {
     "name": "#%%\n"
    }
   }
  },
  {
   "cell_type": "code",
   "execution_count": 8,
   "outputs": [
    {
     "name": "stdout",
     "output_type": "stream",
     "text": [
      "Date\n",
      "2015-12-18         NaN\n",
      "2015-12-21    0.911261\n",
      "Name: daily_return, dtype: float64\n"
     ]
    }
   ],
   "source": [
    "tsla_data['daily_return'].fillna(0)\n",
    "print(tsla_data['daily_return'].head(2))"
   ],
   "metadata": {
    "collapsed": false,
    "pycharm": {
     "name": "#%%\n"
    }
   }
  },
  {
   "cell_type": "markdown",
   "source": [
    "### Plot a Histogram of daily percent changes"
   ],
   "metadata": {
    "collapsed": false,
    "pycharm": {
     "name": "#%% md\n"
    }
   }
  },
  {
   "cell_type": "code",
   "execution_count": 13,
   "outputs": [
    {
     "data": {
      "text/plain": "<Figure size 864x576 with 1 Axes>",
      "image/png": "[encoded data removed]"
     },
     "metadata": {
      "needs_background": "light"
     },
     "output_type": "display_data"
    }
   ],
   "source": [
    "plt.figure(figsize=(12,8))\n",
    "tsla_data['daily_return'].hist(bins=100, color='red')\n",
    "plt.xlabel(\"Daily Return\")\n",
    "plt.ylabel(\"Frequency\")\n",
    "plt.show()"
   ],
   "metadata": {
    "collapsed": false,
    "pycharm": {
     "name": "#%%\n"
    }
   }
  }
 ],
 "metadata": {
  "kernelspec": {
   "display_name": "Python 3",
   "language": "python",
   "name": "python3"
  },
  "language_info": {
   "codemirror_mode": {
    "name": "ipython",
    "version": 2
   },
   "file_extension": ".py",
   "mimetype": "text/x-python",
   "name": "python",
   "nbconvert_exporter": "python",
   "pygments_lexer": "ipython2",
   "version": "2.7.6"
  }
 },
 "nbformat": 4,
 "nbformat_minor": 0
}